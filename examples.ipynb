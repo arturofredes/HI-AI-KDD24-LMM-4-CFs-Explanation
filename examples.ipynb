{
 "cells": [
  {
   "cell_type": "markdown",
   "metadata": {},
   "source": [
    "# Examples\n",
    "In this notebook we will see an example for each prompting strategy of how an explanation is generated and evaluated from start to finish"
   ]
  },
  {
   "cell_type": "code",
   "execution_count": 1,
   "metadata": {},
   "outputs": [],
   "source": [
    "import dice_ml\n",
    "from dice_ml.utils import helpers\n",
    "import pandas as pd\n",
    "import pickle\n",
    "from prompts import *\n",
    "from utils import *\n",
    "from llm_explainers import *"
   ]
  },
  {
   "cell_type": "code",
   "execution_count": 2,
   "metadata": {},
   "outputs": [],
   "source": [
    "# Load the model we want to explain\n",
    "with open(\"\"\"./models/loan_model.pkl\"\"\", 'rb') as file:\n",
    "    model = pickle.load(file)\n",
    "\n",
    "#Load the train and test data set\n",
    "train_dataset = pd.read_csv('./data/adult_train_dataset.csv')\n",
    "test_dataset = pd.read_csv('./data/adult_test_dataset.csv')\n",
    "\n",
    "#Load the examples we will try to explain\n",
    "test_df = pd.read_csv('./data/test_examples.csv')\n",
    "test_df = test_df.drop(columns=['income'], axis = 1)"
   ]
  },
  {
   "cell_type": "markdown",
   "metadata": {},
   "source": [
    "## Zero Shot"
   ]
  },
  {
   "cell_type": "code",
   "execution_count": 5,
   "metadata": {},
   "outputs": [
    {
     "name": "stderr",
     "output_type": "stream",
     "text": [
      "100%|██████████| 1/1 [00:00<00:00,  2.01it/s]\n"
     ]
    }
   ],
   "source": [
    "exp_m = LLMExplanation4CFs(model = model, #Load the model we want to explain\n",
    "                            model_description = \"\"\"ML-system that predicts wether a person will earn more than 50k $ a year\"\"\", # brief explanation of the ML model\n",
    "                            backend='sklearn', # Framework used to build the model (used to generate counterfactuals)\n",
    "                            dataset_info=string_info(train_dataset.columns, helpers.get_adult_data_info()) , # string information about the dataset\n",
    "                            continuous_features=['age', 'hours_per_week'], # Necessary for the counterfactual generation\n",
    "                            outcome_name= 'income', #Necessary for counterfactual generation\n",
    "                            training_set=train_dataset, #Necessary for counterfactual generation\n",
    "                            test_set= test_dataset, #Necessary to  check novelty of the evaluation example\n",
    "                            llm='gpt-4o', #LLM used, works with Langchain\n",
    "                            prompt_type='zero', # zero or one\n",
    "                            n_counterfactuals=5, #Number of counterfactuals used in the explanation \n",
    "                            user_input=False #Human in the loop helping select the causes\n",
    "                           )\n",
    "\n",
    "\n",
    "exp_m.fit()\n",
    "counterfactuals, rules, code1, result1, explanation, code2, final_cf, code3, prediction, n_rules,rules_followed, first_rule, second_rule,third_rule,  is_in_data = exp_m.explain_evaluate(user_data = test_df.iloc[[0]], verbose = False,return_all=True)"
   ]
  },
  {
   "cell_type": "markdown",
   "metadata": {},
   "source": [
    "We will looked at the following example of a woman who is predicted to earn less than 50k$ a year. We will look at the whole process followed by the LLM in order to obtain this final explanation."
   ]
  },
  {
   "cell_type": "code",
   "execution_count": 107,
   "metadata": {},
   "outputs": [
    {
     "name": "stdout",
     "output_type": "stream",
     "text": [
      "<bound method Series.to_string of age                        29\n",
      "workclass             Private\n",
      "education             HS-grad\n",
      "marital_status        Married\n",
      "occupation        Blue-Collar\n",
      "race                    White\n",
      "gender                 Female\n",
      "hours_per_week             38\n",
      "Name: 0, dtype: object>\n"
     ]
    }
   ],
   "source": [
    "print(test_df.iloc[0].to_string)"
   ]
  },
  {
   "cell_type": "markdown",
   "metadata": {},
   "source": [
    "First, a set of counterfactuals will be generated using the DiCE ML package"
   ]
  },
  {
   "cell_type": "code",
   "execution_count": 108,
   "metadata": {},
   "outputs": [
    {
     "data": {
      "text/plain": [
       "<bound method DataFrame.to_string of    age   workclass  education marital_status    occupation   race  gender  \\\n",
       "0   29  Government  Doctorate        Married   Blue-Collar  White  Female   \n",
       "1   29     Private  Bachelors        Married  Professional  White  Female   \n",
       "2   29     Private      Assoc        Married  White-Collar  White  Female   \n",
       "3   29     Private  Bachelors        Married   Blue-Collar  White    Male   \n",
       "4   29     Private    Masters        Married  Professional  White  Female   \n",
       "\n",
       "   hours_per_week  income  \n",
       "0              38       1  \n",
       "1              38       1  \n",
       "2              38       1  \n",
       "3              38       1  \n",
       "4              38       1  >"
      ]
     },
     "execution_count": 108,
     "metadata": {},
     "output_type": "execute_result"
    }
   ],
   "source": [
    "counterfactuals.to_string"
   ]
  },
  {
   "cell_type": "markdown",
   "metadata": {},
   "source": [
    "A set of rules is extracted from this counterfactual using the LLM"
   ]
  },
  {
   "cell_type": "code",
   "execution_count": 109,
   "metadata": {},
   "outputs": [
    {
     "name": "stdout",
     "output_type": "stream",
     "text": [
      "From the provided data, we can extract the most important observed rules that could potentially affect the outcome of whether a person earns more than $50k a year. Here are the key differences and rules based on the counterfactual cases:\n",
      "\n",
      "### Negative Assessment Outcome\n",
      "- **Age**: 29\n",
      "- **Workclass**: Private\n",
      "- **Education**: HS-grad\n",
      "- **Marital Status**: Married\n",
      "- **Occupation**: Blue-Collar\n",
      "- **Race**: White\n",
      "- **Gender**: Female\n",
      "- **Hours per Week**: 38\n",
      "- **Income**: ≤ $50k\n",
      "\n",
      "### Positive Counterfactual Outcomes\n",
      "1. **Age**: 29\n",
      "   - **Workclass**: Government\n",
      "   - **Education**: Doctorate\n",
      "   - **Marital Status**: Married\n",
      "   - **Occupation**: Blue-Collar\n",
      "   - **Race**: White\n",
      "   - **Gender**: Female\n",
      "   - **Hours per Week**: 38\n",
      "   - **Income**: > $50k\n",
      "\n",
      "2. **Age**: 29\n",
      "   - **Workclass**: Private\n",
      "   - **Education**: Bachelors\n",
      "   - **Marital Status**: Married\n",
      "   - **Occupation**: Professional\n",
      "   - **Race**: White\n",
      "   - **Gender**: Female\n",
      "   - **Hours per Week**: 38\n",
      "   - **Income**: > $50k\n",
      "\n",
      "3. **Age**: 29\n",
      "   - **Workclass**: Private\n",
      "   - **Education**: Assoc\n",
      "   - **Marital Status**: Married\n",
      "   - **Occupation**: White-Collar\n",
      "   - **Race**: White\n",
      "   - **Gender**: Female\n",
      "   - **Hours per Week**: 38\n",
      "   - **Income**: > $50k\n",
      "\n",
      "4. **Age**: 29\n",
      "   - **Workclass**: Private\n",
      "   - **Education**: Bachelors\n",
      "   - **Marital Status**: Married\n",
      "   - **Occupation**: Blue-Collar\n",
      "   - **Race**: White\n",
      "   - **Gender**: Male\n",
      "   - **Hours per Week**: 38\n",
      "   - **Income**: > $50k\n",
      "\n",
      "5. **Age**: 29\n",
      "   - **Workclass**: Private\n",
      "   - **Education**: Masters\n",
      "   - **Marital Status**: Married\n",
      "   - **Occupation**: Professional\n",
      "   - **Race**: White\n",
      "   - **Gender**: Female\n",
      "   - **Hours per Week**: 38\n",
      "   - **Income**: > $50k\n",
      "\n",
      "### Extracted Rules\n",
      "Based on the observed differences between the negative and positive outcomes, here are the most important rules that could help the individual move from earning ≤ $50k to > $50k:\n",
      "\n",
      "1. **Rule 1: Higher Education Level**\n",
      "   - Transition from \"HS-grad\" to \"Doctorate,\" \"Bachelors,\" \"Assoc,\" or \"Masters\" leads to a positive outcome.\n",
      "\n",
      "2. **Rule 2: Different Occupation**\n",
      "   - Transition from \"Blue-Collar\" to \"Professional\" or \"White-Collar\" is associated with earning > $50k.\n",
      "\n",
      "3. **Rule 3: Workclass Change**\n",
      "   - Transition from \"Private\" to \"Government\" is associated with earning > $50k.\n",
      "\n",
      "4. **Rule 4: Gender**\n",
      "   - Transition from \"Female\" to \"Male\" in the same occupation and education level can lead to a positive outcome, indicating a potential gender bias.\n",
      "\n",
      "### Summary\n",
      "The key factors that influence the outcome of earning more than $50k a year include higher education levels, different types of occupations, changes in workclass, and potentially gender. These rules provide insights into how specific changes can positively impact income predictions.\n"
     ]
    }
   ],
   "source": [
    "print(rules)"
   ]
  },
  {
   "cell_type": "markdown",
   "metadata": {},
   "source": [
    "In order to check whether this rules are correct or not, we ask the LLM to create a program that checks it. In the following cell we can see the code generated by the LLM."
   ]
  },
  {
   "cell_type": "code",
   "execution_count": 110,
   "metadata": {},
   "outputs": [
    {
     "name": "stdout",
     "output_type": "stream",
     "text": [
      "import pandas as pd\n",
      "\n",
      "# Define the negative assessment outcome\n",
      "negative_outcome = pd.DataFrame({\n",
      "    'age': [29],\n",
      "    'workclass': ['Private'],\n",
      "    'education': ['HS-grad'],\n",
      "    'marital_status': ['Married'],\n",
      "    'occupation': ['Blue-Collar'],\n",
      "    'race': ['White'],\n",
      "    'gender': ['Female'],\n",
      "    'hours_per_week': [38],\n",
      "    'income': [0]\n",
      "})\n",
      "\n",
      "# Define the positive counterfactual outcomes\n",
      "positive_counterfactuals = pd.DataFrame({\n",
      "    'age': [29, 29, 29, 29, 29],\n",
      "    'workclass': ['Government', 'Private', 'Private', 'Private', 'Private'],\n",
      "    'education': ['Doctorate', 'Bachelors', 'Assoc', 'Bachelors', 'Masters'],\n",
      "    'marital_status': ['Married', 'Married', 'Married', 'Married', 'Married'],\n",
      "    'occupation': ['Blue-Collar', 'Professional', 'White-Collar', 'Blue-Collar', 'Professional'],\n",
      "    'race': ['White', 'White', 'White', 'White', 'White'],\n",
      "    'gender': ['Female', 'Female', 'Female', 'Male', 'Female'],\n",
      "    'hours_per_week': [38, 38, 38, 38, 38],\n",
      "    'income': [1, 1, 1, 1, 1]\n",
      "})\n",
      "\n",
      "# Define the rules\n",
      "rules = {\n",
      "    'Rule 1: Higher Education Level': lambda row: row['education'] in ['Doctorate', 'Bachelors', 'Assoc', 'Masters'],\n",
      "    'Rule 2: Different Occupation': lambda row: row['occupation'] in ['Professional', 'White-Collar'],\n",
      "    'Rule 3: Workclass Change': lambda row: row['workclass'] == 'Government',\n",
      "    'Rule 4: Gender': lambda row: row['gender'] == 'Male'\n",
      "}\n",
      "\n",
      "# Count how many counterfactuals are consistent with each rule\n",
      "results = {rule: positive_counterfactuals.apply(condition, axis=1).sum() for rule, condition in rules.items()}\n",
      "\n",
      "# Order the rules and print the results\n",
      "sorted_results = dict(sorted(results.items(), key=lambda item: item[1], reverse=True))\n",
      "for rule, count in sorted_results.items():\n",
      "    print(f\"{rule}: {count} counterfactual(s) consistent\")\n"
     ]
    }
   ],
   "source": [
    "print(code1)"
   ]
  },
  {
   "cell_type": "markdown",
   "metadata": {},
   "source": [
    "After executing this code, the following results were obtained"
   ]
  },
  {
   "cell_type": "code",
   "execution_count": 111,
   "metadata": {},
   "outputs": [
    {
     "name": "stdout",
     "output_type": "stream",
     "text": [
      "Rule 1: Higher Education Level: 5 counterfactual(s) consistent\n",
      "Rule 2: Different Occupation: 3 counterfactual(s) consistent\n",
      "Rule 3: Workclass Change: 1 counterfactual(s) consistent\n",
      "Rule 4: Gender: 1 counterfactual(s) consistent\n",
      "\n"
     ]
    }
   ],
   "source": [
    "print(result1)"
   ]
  },
  {
   "cell_type": "markdown",
   "metadata": {},
   "source": [
    "By using this causes, the LLM will produce a final explanation, hopefully using the most important causes"
   ]
  },
  {
   "cell_type": "code",
   "execution_count": 112,
   "metadata": {},
   "outputs": [
    {
     "name": "stdout",
     "output_type": "stream",
     "text": [
      "<explanation>\n",
      "\n",
      "Based on the analysis of your data and the counterfactual outcomes, we have identified several key factors that can help you improve your chances of earning more than $50k a year. Here are the most important steps you can take:\n",
      "\n",
      "### 1. Increase Your Education Level\n",
      "The most consistent factor among the positive outcomes is a higher level of education. All of the counterfactual cases that predicted an income of more than $50k involved individuals with higher education levels than your current \"HS-grad\" status. Specifically, obtaining a:\n",
      "\n",
      "- **Doctorate**\n",
      "- **Bachelors**\n",
      "- **Assoc (Associate Degree)**\n",
      "- **Masters**\n",
      "\n",
      "Investing in further education is the most impactful change you can make to increase your earning potential.\n",
      "\n",
      "### 2. Consider Changing Your Occupation\n",
      "Another significant factor is the type of occupation you are in. Moving from a \"Blue-Collar\" job to one of the following can significantly impact your income:\n",
      "\n",
      "- **Professional**\n",
      "- **White-Collar**\n",
      "\n",
      "If possible, seek opportunities that allow you to transition into these types of roles.\n",
      "\n",
      "### 3. Explore Opportunities in Different Workclasses\n",
      "Although less common in the counterfactuals, changing your workclass from \"Private\" to \"Government\" may also help you achieve a higher income. This could involve looking for job opportunities within governmental organizations.\n",
      "\n",
      "### 4. Gender Consideration\n",
      "One of the counterfactuals showed that gender might play a role, with the same education and occupation, a male was predicted to earn more than $50k while a female was not. While it's not actionable to change your gender, being aware of potential gender biases can help you advocate for fair pay and seek organizations that prioritize equity.\n",
      "\n",
      "### Summary\n",
      "To maximize your chances of earning more than $50k a year:\n",
      "1. **Pursue higher education** - Aim for at least a Bachelor's degree or higher.\n",
      "2. **Change your occupation** - Look for opportunities to move into professional or white-collar roles.\n",
      "3. **Consider workclass changes** - Explore job opportunities in the government sector.\n",
      "\n",
      "By focusing on these areas, you can significantly improve your income potential. Good luck!\n",
      "\n",
      "</explanation>\n"
     ]
    }
   ],
   "source": [
    "print(explanation)"
   ]
  },
  {
   "cell_type": "markdown",
   "metadata": {},
   "source": [
    "Now we would like to check the quality of our explanation. As we explain in the paper, we created a close loop evaluation method that checks whether the "
   ]
  },
  {
   "cell_type": "code",
   "execution_count": 113,
   "metadata": {},
   "outputs": [
    {
     "name": "stdout",
     "output_type": "stream",
     "text": [
      "import pandas as pd\n",
      "\n",
      "# Constructing the DataFrame with an example of a positive class profile\n",
      "df = pd.DataFrame({\n",
      "    'age': [35],  # Age above 29, to show more experience\n",
      "    'workclass': ['Government'],  # Changing workclass to 'Government'\n",
      "    'education': ['Bachelors'],  # Higher education level\n",
      "    'marital_status': ['Married'],  # Marital status can remain the same\n",
      "    'occupation': ['Professional'],  # Changing occupation to 'Professional'\n",
      "    'race': ['White'],  # Race remains the same\n",
      "    'gender': ['Female'],  # Gender remains the same\n",
      "    'hours_per_week': [40],  # Slightly higher working hours per week\n",
      "    'income': [1]  # Positive class (earning >$50k)\n",
      "})\n",
      "\n",
      "# Save the DataFrame to a CSV file\n",
      "df.to_csv('temp_csv.csv', index=False)\n"
     ]
    }
   ],
   "source": [
    "print(code2)"
   ]
  },
  {
   "cell_type": "markdown",
   "metadata": {},
   "source": [
    "After executing the code the LLM correctly generated a counterfactual example."
   ]
  },
  {
   "cell_type": "code",
   "execution_count": 114,
   "metadata": {},
   "outputs": [
    {
     "data": {
      "text/html": [
       "<div>\n",
       "<style scoped>\n",
       "    .dataframe tbody tr th:only-of-type {\n",
       "        vertical-align: middle;\n",
       "    }\n",
       "\n",
       "    .dataframe tbody tr th {\n",
       "        vertical-align: top;\n",
       "    }\n",
       "\n",
       "    .dataframe thead th {\n",
       "        text-align: right;\n",
       "    }\n",
       "</style>\n",
       "<table border=\"1\" class=\"dataframe\">\n",
       "  <thead>\n",
       "    <tr style=\"text-align: right;\">\n",
       "      <th></th>\n",
       "      <th>age</th>\n",
       "      <th>workclass</th>\n",
       "      <th>education</th>\n",
       "      <th>marital_status</th>\n",
       "      <th>occupation</th>\n",
       "      <th>race</th>\n",
       "      <th>gender</th>\n",
       "      <th>hours_per_week</th>\n",
       "    </tr>\n",
       "  </thead>\n",
       "  <tbody>\n",
       "    <tr>\n",
       "      <th>0</th>\n",
       "      <td>35</td>\n",
       "      <td>Government</td>\n",
       "      <td>Bachelors</td>\n",
       "      <td>Married</td>\n",
       "      <td>Professional</td>\n",
       "      <td>White</td>\n",
       "      <td>Female</td>\n",
       "      <td>40</td>\n",
       "    </tr>\n",
       "  </tbody>\n",
       "</table>\n",
       "</div>"
      ],
      "text/plain": [
       "   age   workclass  education marital_status    occupation   race  gender  \\\n",
       "0   35  Government  Bachelors        Married  Professional  White  Female   \n",
       "\n",
       "   hours_per_week  \n",
       "0              40  "
      ]
     },
     "execution_count": 114,
     "metadata": {},
     "output_type": "execute_result"
    }
   ],
   "source": [
    "final_cf"
   ]
  },
  {
   "cell_type": "markdown",
   "metadata": {},
   "source": [
    "We will now try to extract metrics from this counterfactual like the predicted class, rules followed and if it exists in the data set. We ask the LLM for code again and this time it will create a table that we can analyze."
   ]
  },
  {
   "cell_type": "code",
   "execution_count": 115,
   "metadata": {},
   "outputs": [
    {
     "name": "stdout",
     "output_type": "stream",
     "text": [
      "import pandas as pd\n",
      "\n",
      "# Read the provided positive example from temp_csv.csv\n",
      "df = pd.read_csv('temp_csv.csv')\n",
      "\n",
      "# Extracted rules and their importance\n",
      "rules = [\n",
      "    {\n",
      "        'Rule': 'Higher Education Level',\n",
      "        'Importance': 5,\n",
      "        'Condition': lambda x: x['education'] in ['Doctorate', 'Bachelors', 'Assoc', 'Masters']\n",
      "    },\n",
      "    {\n",
      "        'Rule': 'Different Occupation',\n",
      "        'Importance': 3,\n",
      "        'Condition': lambda x: x['occupation'] in ['Professional', 'White-Collar']\n",
      "    },\n",
      "    {\n",
      "        'Rule': 'Workclass Change',\n",
      "        'Importance': 1,\n",
      "        'Condition': lambda x: x['workclass'] == 'Government'\n",
      "    },\n",
      "    {\n",
      "        'Rule': 'Gender',\n",
      "        'Importance': 1,\n",
      "        'Condition': lambda x: x['gender'] == 'Male'\n",
      "    }\n",
      "]\n",
      "\n",
      "# Evaluate each rule on the example row\n",
      "results = []\n",
      "for rule in rules:\n",
      "    rule_followed = int(rule['Condition'](df.iloc[0]))\n",
      "    results.append({\n",
      "        'Rule': rule['Rule'],\n",
      "        'Importance': rule['Importance'],\n",
      "        'In explanation': rule_followed\n",
      "    })\n",
      "\n",
      "# Create DataFrame from results\n",
      "df_final = pd.DataFrame(results)\n",
      "\n",
      "# Save to csv\n",
      "df_final.to_csv('evaluation.csv', index=False)\n"
     ]
    }
   ],
   "source": [
    "print(code3)"
   ]
  },
  {
   "cell_type": "code",
   "execution_count": 116,
   "metadata": {},
   "outputs": [
    {
     "data": {
      "text/html": [
       "<div>\n",
       "<style scoped>\n",
       "    .dataframe tbody tr th:only-of-type {\n",
       "        vertical-align: middle;\n",
       "    }\n",
       "\n",
       "    .dataframe tbody tr th {\n",
       "        vertical-align: top;\n",
       "    }\n",
       "\n",
       "    .dataframe thead th {\n",
       "        text-align: right;\n",
       "    }\n",
       "</style>\n",
       "<table border=\"1\" class=\"dataframe\">\n",
       "  <thead>\n",
       "    <tr style=\"text-align: right;\">\n",
       "      <th></th>\n",
       "      <th>Rule</th>\n",
       "      <th>Importance</th>\n",
       "      <th>In explanation</th>\n",
       "    </tr>\n",
       "  </thead>\n",
       "  <tbody>\n",
       "    <tr>\n",
       "      <th>0</th>\n",
       "      <td>Higher Education Level</td>\n",
       "      <td>5</td>\n",
       "      <td>1</td>\n",
       "    </tr>\n",
       "    <tr>\n",
       "      <th>1</th>\n",
       "      <td>Different Occupation</td>\n",
       "      <td>3</td>\n",
       "      <td>1</td>\n",
       "    </tr>\n",
       "    <tr>\n",
       "      <th>2</th>\n",
       "      <td>Workclass Change</td>\n",
       "      <td>1</td>\n",
       "      <td>1</td>\n",
       "    </tr>\n",
       "    <tr>\n",
       "      <th>3</th>\n",
       "      <td>Gender</td>\n",
       "      <td>1</td>\n",
       "      <td>0</td>\n",
       "    </tr>\n",
       "  </tbody>\n",
       "</table>\n",
       "</div>"
      ],
      "text/plain": [
       "                     Rule  Importance  In explanation\n",
       "0  Higher Education Level           5               1\n",
       "1    Different Occupation           3               1\n",
       "2        Workclass Change           1               1\n",
       "3                  Gender           1               0"
      ]
     },
     "execution_count": 116,
     "metadata": {},
     "output_type": "execute_result"
    }
   ],
   "source": [
    "eval_df = pd.read_csv('./temp_files/evaluation.csv')\n",
    "eval_df"
   ]
  },
  {
   "cell_type": "markdown",
   "metadata": {},
   "source": [
    "After analyzing the table we get the following results."
   ]
  },
  {
   "cell_type": "code",
   "execution_count": 117,
   "metadata": {},
   "outputs": [
    {
     "name": "stdout",
     "output_type": "stream",
     "text": [
      "Prediction of the generated example:  1\n",
      "Number of rules generated:  4\n",
      "Number of rules followed:  3\n",
      "1st rule followed  1\n",
      "2nd rule followed  1\n",
      "3rd rule followed  1\n",
      "Example exists in data:  False\n"
     ]
    }
   ],
   "source": [
    "print('Prediction of the generated example: ', prediction)\n",
    "print('Number of rules generated: ', n_rules)\n",
    "print('Number of rules followed: ', rules_followed)\n",
    "print('1st rule followed ', first_rule)\n",
    "print('2nd rule followed ', second_rule)\n",
    "print('3rd rule followed ', third_rule)\n",
    "print('Example exists in data: ', is_in_data)"
   ]
  },
  {
   "cell_type": "markdown",
   "metadata": {},
   "source": [
    "## One Shot"
   ]
  },
  {
   "cell_type": "code",
   "execution_count": 118,
   "metadata": {},
   "outputs": [
    {
     "name": "stderr",
     "output_type": "stream",
     "text": [
      "100%|██████████| 1/1 [00:00<00:00,  2.02it/s]\n"
     ]
    }
   ],
   "source": [
    "exp_m = LLMExplanation4CFs(model = model, #Load the model we want to explain\n",
    "                            model_description = \"\"\"ML-system that predicts wether a person will earn more than 50k $ a year\"\"\", # brief explanation of the ML model\n",
    "                            backend='sklearn', # Framework used to build the model (used to generate counterfactuals)\n",
    "                            dataset_info=string_info(train_dataset.columns, helpers.get_adult_data_info()) , # string information about the dataset\n",
    "                            continuous_features=['age', 'hours_per_week'], # Necessary for the counterfactual generation\n",
    "                            outcome_name= 'income', #Necessary for counterfactual generation\n",
    "                            training_set=train_dataset, #Necessary for counterfactual generation\n",
    "                            test_set= test_dataset, #Necessary to  check novelty of the evaluation example\n",
    "                            llm='gpt-4o', #LLM used, works with Langchain\n",
    "                            prompt_type='one', # zero or one\n",
    "                            n_counterfactuals=5, #Number of counterfactuals used in the explanation \n",
    "                            user_input=False #Human in the loop helping select the causes\n",
    "                           )\n",
    "\n",
    "\n",
    "exp_m.fit()\n",
    "counterfactuals, rules, code1, result1, explanation, code2, final_cf, code3, prediction, n_rules,rules_followed, first_rule, second_rule,third_rule, is_in_cfs, is_in_data = exp_m.explain_evaluate(example = test_df.iloc[[1]], verbose = False,return_all=True)"
   ]
  },
  {
   "cell_type": "markdown",
   "metadata": {},
   "source": [
    "We will looked at the following example of a woman who is predicted to earn less than 50k$ a year. We will look at the whole process followed by the LLM in order to obtain this final explanation."
   ]
  },
  {
   "cell_type": "code",
   "execution_count": 119,
   "metadata": {},
   "outputs": [
    {
     "name": "stdout",
     "output_type": "stream",
     "text": [
      "age                        29\n",
      "workclass             Private\n",
      "education             HS-grad\n",
      "marital_status        Married\n",
      "occupation        Blue-Collar\n",
      "race                    White\n",
      "gender                 Female\n",
      "hours_per_week             38\n",
      "Name: 0, dtype: object\n"
     ]
    }
   ],
   "source": [
    "print(test_df.iloc[0])"
   ]
  },
  {
   "cell_type": "markdown",
   "metadata": {},
   "source": [
    "First, a set of counterfactuals will be generated using the DiCE ML package"
   ]
  },
  {
   "cell_type": "code",
   "execution_count": 120,
   "metadata": {},
   "outputs": [
    {
     "data": {
      "text/html": [
       "<div>\n",
       "<style scoped>\n",
       "    .dataframe tbody tr th:only-of-type {\n",
       "        vertical-align: middle;\n",
       "    }\n",
       "\n",
       "    .dataframe tbody tr th {\n",
       "        vertical-align: top;\n",
       "    }\n",
       "\n",
       "    .dataframe thead th {\n",
       "        text-align: right;\n",
       "    }\n",
       "</style>\n",
       "<table border=\"1\" class=\"dataframe\">\n",
       "  <thead>\n",
       "    <tr style=\"text-align: right;\">\n",
       "      <th></th>\n",
       "      <th>age</th>\n",
       "      <th>workclass</th>\n",
       "      <th>education</th>\n",
       "      <th>marital_status</th>\n",
       "      <th>occupation</th>\n",
       "      <th>race</th>\n",
       "      <th>gender</th>\n",
       "      <th>hours_per_week</th>\n",
       "      <th>income</th>\n",
       "    </tr>\n",
       "  </thead>\n",
       "  <tbody>\n",
       "    <tr>\n",
       "      <th>0</th>\n",
       "      <td>50</td>\n",
       "      <td>Other/Unknown</td>\n",
       "      <td>Some-college</td>\n",
       "      <td>Married</td>\n",
       "      <td>Other/Unknown</td>\n",
       "      <td>Other</td>\n",
       "      <td>Male</td>\n",
       "      <td>23</td>\n",
       "      <td>1</td>\n",
       "    </tr>\n",
       "    <tr>\n",
       "      <th>1</th>\n",
       "      <td>50</td>\n",
       "      <td>Other/Unknown</td>\n",
       "      <td>Some-college</td>\n",
       "      <td>Married</td>\n",
       "      <td>Other/Unknown</td>\n",
       "      <td>Other</td>\n",
       "      <td>Male</td>\n",
       "      <td>75</td>\n",
       "      <td>1</td>\n",
       "    </tr>\n",
       "    <tr>\n",
       "      <th>2</th>\n",
       "      <td>50</td>\n",
       "      <td>Private</td>\n",
       "      <td>Doctorate</td>\n",
       "      <td>Married</td>\n",
       "      <td>Other/Unknown</td>\n",
       "      <td>White</td>\n",
       "      <td>Male</td>\n",
       "      <td>40</td>\n",
       "      <td>1</td>\n",
       "    </tr>\n",
       "    <tr>\n",
       "      <th>3</th>\n",
       "      <td>50</td>\n",
       "      <td>Other/Unknown</td>\n",
       "      <td>Some-college</td>\n",
       "      <td>Married</td>\n",
       "      <td>Other/Unknown</td>\n",
       "      <td>Other</td>\n",
       "      <td>Male</td>\n",
       "      <td>69</td>\n",
       "      <td>1</td>\n",
       "    </tr>\n",
       "    <tr>\n",
       "      <th>4</th>\n",
       "      <td>50</td>\n",
       "      <td>Other/Unknown</td>\n",
       "      <td>Some-college</td>\n",
       "      <td>Married</td>\n",
       "      <td>Other/Unknown</td>\n",
       "      <td>Other</td>\n",
       "      <td>Male</td>\n",
       "      <td>99</td>\n",
       "      <td>1</td>\n",
       "    </tr>\n",
       "  </tbody>\n",
       "</table>\n",
       "</div>"
      ],
      "text/plain": [
       "   age      workclass     education marital_status     occupation   race  \\\n",
       "0   50  Other/Unknown  Some-college        Married  Other/Unknown  Other   \n",
       "1   50  Other/Unknown  Some-college        Married  Other/Unknown  Other   \n",
       "2   50        Private     Doctorate        Married  Other/Unknown  White   \n",
       "3   50  Other/Unknown  Some-college        Married  Other/Unknown  Other   \n",
       "4   50  Other/Unknown  Some-college        Married  Other/Unknown  Other   \n",
       "\n",
       "  gender  hours_per_week  income  \n",
       "0   Male              23       1  \n",
       "1   Male              75       1  \n",
       "2   Male              40       1  \n",
       "3   Male              69       1  \n",
       "4   Male              99       1  "
      ]
     },
     "execution_count": 120,
     "metadata": {},
     "output_type": "execute_result"
    }
   ],
   "source": [
    "counterfactuals"
   ]
  },
  {
   "cell_type": "markdown",
   "metadata": {},
   "source": [
    "A set of rules is extracted from this counterfactual using the LLM"
   ]
  },
  {
   "cell_type": "code",
   "execution_count": 121,
   "metadata": {},
   "outputs": [
    {
     "name": "stdout",
     "output_type": "stream",
     "text": [
      "To solve the problem, we need to:\n",
      "\n",
      "1. Extract the most important observed rules from the counterfactual cases.\n",
      "2. Generate Python code to count how many of the counterfactuals are consistent with the rules.\n",
      "3. Order the rules based on their consistency with the counterfactuals.\n",
      "4. Print the results.\n",
      "\n",
      "Let's start by analyzing the counterfactual cases to extract the rules:\n",
      "\n",
      "**Rules from Positive Counterfactuals:**\n",
      "\n",
      "1. Higher education (Doctorate) leads to higher income.\n",
      "2. More hours per week (23, 75, 40, 69, 99) can lead to higher income.\n",
      "\n",
      "Now let's write Python code to count how many of the counterfactuals are consistent with the rules:\n",
      "\n",
      "```python\n",
      "import pandas as pd\n",
      "\n",
      "# Given negative assessment outcome\n",
      "negative_outcome = pd.DataFrame({\n",
      "    'age': [50],\n",
      "    'workclass': ['Other/Unknown'],\n",
      "    'education': ['Some-college'],\n",
      "    'marital_status': ['Married'],\n",
      "    'occupation': ['Other/Unknown'],\n",
      "    'race': ['White'],\n",
      "    'gender': ['Male'],\n",
      "    'hours_per_week': [40],\n",
      "    'income': [0]\n",
      "})\n",
      "\n",
      "# Given positive counterfactual outcome\n",
      "positive_counterfactuals = pd.DataFrame({\n",
      "    'age': [50, 50, 50, 50, 50],\n",
      "    'workclass': ['Other/Unknown', 'Other/Unknown', 'Private', 'Other/Unknown', 'Other/Unknown'],\n",
      "    'education': ['Some-college', 'Some-college', 'Doctorate', 'Some-college', 'Some-college'],\n",
      "    'marital_status': ['Married', 'Married', 'Married', 'Married', 'Married'],\n",
      "    'occupation': ['Other/Unknown', 'Other/Unknown', 'Other/Unknown', 'Other/Unknown', 'Other/Unknown'],\n",
      "    'race': ['Other', 'Other', 'White', 'Other', 'Other'],\n",
      "    'gender': ['Male', 'Male', 'Male', 'Male', 'Male'],\n",
      "    'hours_per_week': [23, 75, 40, 69, 99],\n",
      "    'income': [1, 1, 1, 1, 1]\n",
      "})\n",
      "\n",
      "# Define rules\n",
      "rules = {\n",
      "    \"Higher education leads to higher income\": lambda df: df['education'].isin(['Doctorate', 'Masters', 'Bachelors', 'Prof-school']),\n",
      "    \"More hours per week can lead to higher income\": lambda df: df['hours_per_week'] > 40\n",
      "}\n",
      "\n",
      "# Check consistency with rules\n",
      "results = {}\n",
      "for rule, condition in rules.items():\n",
      "    results[rule] = condition(positive_counterfactuals).sum()\n",
      "\n",
      "# Order rules by consistency\n",
      "ordered_results = dict(sorted(results.items(), key=lambda item: item[1], reverse=True))\n",
      "\n",
      "# Print results\n",
      "for rule, count in ordered_results.items():\n",
      "    print(f\"{rule}: {count} out of {len(positive_counterfactuals)} counterfactuals\")\n",
      "```\n",
      "\n",
      "### Explanation:\n",
      "\n",
      "1. **DataFrames Creation**: We create DataFrames for the negative outcome and positive counterfactuals based on the given data.\n",
      "\n",
      "2. **Rules Definition**: We define the rules using lambda functions to check the conditions on the DataFrame.\n",
      "\n",
      "3. **Consistency Check**: For each rule, we apply the corresponding lambda function to the DataFrame of positive counterfactuals and count how many rows meet the condition.\n",
      "\n",
      "4. **Sorting and Printing**: We sort the rules based on the count of consistent counterfactuals and print the results.\n",
      "\n",
      "This code will provide you with the number of counterfactuals that are consistent with each rule, ordered from the most to the least consistent.\n"
     ]
    }
   ],
   "source": [
    "print(rules)"
   ]
  },
  {
   "cell_type": "markdown",
   "metadata": {},
   "source": [
    "In order to check whether this rules are correct or not, we ask the LLM to create a program that checks it. In the following cell we can see the code generated by the LLM."
   ]
  },
  {
   "cell_type": "code",
   "execution_count": 122,
   "metadata": {},
   "outputs": [
    {
     "name": "stdout",
     "output_type": "stream",
     "text": [
      "import pandas as pd\n",
      "\n",
      "# Given negative assessment outcome\n",
      "negative_outcome = pd.DataFrame({\n",
      "    'age': [50],\n",
      "    'workclass': ['Other/Unknown'],\n",
      "    'education': ['Some-college'],\n",
      "    'marital_status': ['Married'],\n",
      "    'occupation': ['Other/Unknown'],\n",
      "    'race': ['White'],\n",
      "    'gender': ['Male'],\n",
      "    'hours_per_week': [40],\n",
      "    'income': [0]\n",
      "})\n",
      "\n",
      "# Given positive counterfactual outcome\n",
      "positive_counterfactuals = pd.DataFrame({\n",
      "    'age': [50, 50, 50, 50, 50],\n",
      "    'workclass': ['Other/Unknown', 'Other/Unknown', 'Private', 'Other/Unknown', 'Other/Unknown'],\n",
      "    'education': ['Some-college', 'Some-college', 'Doctorate', 'Some-college', 'Some-college'],\n",
      "    'marital_status': ['Married', 'Married', 'Married', 'Married', 'Married'],\n",
      "    'occupation': ['Other/Unknown', 'Other/Unknown', 'Other/Unknown', 'Other/Unknown', 'Other/Unknown'],\n",
      "    'race': ['Other', 'Other', 'White', 'Other', 'Other'],\n",
      "    'gender': ['Male'],\n",
      "    'hours_per_week': [23, 75, 40, 69, 99],\n",
      "    'income': [1, 1, 1, 1, 1]\n",
      "})\n",
      "\n",
      "# Define rules\n",
      "rules = {\n",
      "    \"Higher education leads to higher income\": lambda df: df['education'].isin(['Doctorate', 'Masters', 'Bachelors', 'Prof-school']),\n",
      "    \"More hours per week can lead to higher income\": lambda df: df['hours_per_week'] > 40\n",
      "}\n",
      "\n",
      "# Check consistency with rules\n",
      "results = {}\n",
      "for rule, condition in rules.items():\n",
      "    results[rule] = condition(positive_counterfactuals).sum()\n",
      "\n",
      "# Order rules by consistency\n",
      "ordered_results = dict(sorted(results.items(), key=lambda item: item[1], reverse=True))\n",
      "\n",
      "# Print results\n",
      "for rule, count in ordered_results.items():\n",
      "    print(f\"{rule}: {count} out of {len(positive_counterfactuals)} counterfactuals\")\n"
     ]
    }
   ],
   "source": [
    "print(code1)"
   ]
  },
  {
   "cell_type": "markdown",
   "metadata": {},
   "source": [
    "After executing this code, the following results were obtained"
   ]
  },
  {
   "cell_type": "code",
   "execution_count": 123,
   "metadata": {},
   "outputs": [
    {
     "name": "stdout",
     "output_type": "stream",
     "text": [
      "Traceback (most recent call last):\n",
      "  File \"c:\\Users\\afred\\REPOS\\HI-AI-KDD24-LMM-4-CFs-Explanation\\temp_code.py\", line 17, in <module>\n",
      "    positive_counterfactuals = pd.DataFrame({\n",
      "  File \"c:\\Users\\afred\\miniconda3\\envs\\kdd\\lib\\site-packages\\pandas\\core\\frame.py\", line 664, in __init__\n",
      "    mgr = dict_to_mgr(data, index, columns, dtype=dtype, copy=copy, typ=manager)\n",
      "  File \"c:\\Users\\afred\\miniconda3\\envs\\kdd\\lib\\site-packages\\pandas\\core\\internals\\construction.py\", line 493, in dict_to_mgr\n",
      "    return arrays_to_mgr(arrays, columns, index, dtype=dtype, typ=typ, consolidate=copy)\n",
      "  File \"c:\\Users\\afred\\miniconda3\\envs\\kdd\\lib\\site-packages\\pandas\\core\\internals\\construction.py\", line 118, in arrays_to_mgr\n",
      "    index = _extract_index(arrays)\n",
      "  File \"c:\\Users\\afred\\miniconda3\\envs\\kdd\\lib\\site-packages\\pandas\\core\\internals\\construction.py\", line 666, in _extract_index\n",
      "    raise ValueError(\"All arrays must be of the same length\")\n",
      "ValueError: All arrays must be of the same length\n",
      "\n"
     ]
    }
   ],
   "source": [
    "print(result1)"
   ]
  },
  {
   "cell_type": "markdown",
   "metadata": {},
   "source": [
    "By using this causes, the LLM will produce a final explanation, hopefully using the most important causes"
   ]
  },
  {
   "cell_type": "code",
   "execution_count": 124,
   "metadata": {},
   "outputs": [
    {
     "name": "stdout",
     "output_type": "stream",
     "text": [
      "Based on the provided information, let's proceed with the necessary steps to extract the observed rules from the counterfactual cases, write Python code to count the consistent counterfactuals, and provide a clear explanation to the user.\n",
      "\n",
      "### Step 1: Extract Observed Rules from Counterfactual Cases\n",
      "\n",
      "**Rules from Positive Counterfactuals:**\n",
      "1. Higher education (Doctorate) leads to higher income.\n",
      "2. More hours per week (23, 75, 40, 69, 99) can lead to higher income.\n",
      "\n",
      "### Step 2: Write Python Code to Count Consistent Counterfactuals\n",
      "\n",
      "Let's write the Python code to count how many of the counterfactuals are consistent with the rules:\n",
      "\n",
      "```python\n",
      "import pandas as pd\n",
      "\n",
      "# Given negative assessment outcome\n",
      "negative_outcome = pd.DataFrame({\n",
      "    'age': [50],\n",
      "    'workclass': ['Other/Unknown'],\n",
      "    'education': ['Some-college'],\n",
      "    'marital_status': ['Married'],\n",
      "    'occupation': ['Other/Unknown'],\n",
      "    'race': ['White'],\n",
      "    'gender': ['Male'],\n",
      "    'hours_per_week': [40],\n",
      "    'income': [0]\n",
      "})\n",
      "\n",
      "# Given positive counterfactual outcome\n",
      "positive_counterfactuals = pd.DataFrame({\n",
      "    'age': [50, 50, 50, 50, 50],\n",
      "    'workclass': ['Other/Unknown', 'Other/Unknown', 'Private', 'Other/Unknown', 'Other/Unknown'],\n",
      "    'education': ['Some-college', 'Some-college', 'Doctorate', 'Some-college', 'Some-college'],\n",
      "    'marital_status': ['Married', 'Married', 'Married', 'Married', 'Married'],\n",
      "    'occupation': ['Other/Unknown', 'Other/Unknown', 'Other/Unknown', 'Other/Unknown', 'Other/Unknown'],\n",
      "    'race': ['Other', 'Other', 'White', 'Other', 'Other'],\n",
      "    'gender': ['Male', 'Male', 'Male', 'Male', 'Male'],\n",
      "    'hours_per_week': [23, 75, 40, 69, 99],\n",
      "    'income': [1, 1, 1, 1, 1]\n",
      "})\n",
      "\n",
      "# Define rules\n",
      "rules = {\n",
      "    \"Higher education leads to higher income\": lambda df: df['education'].isin(['Doctorate', 'Masters', 'Bachelors', 'Prof-school']),\n",
      "    \"More hours per week can lead to higher income\": lambda df: df['hours_per_week'] > 40\n",
      "}\n",
      "\n",
      "# Check consistency with rules\n",
      "results = {}\n",
      "for rule, condition in rules.items():\n",
      "    results[rule] = condition(positive_counterfactuals).sum()\n",
      "\n",
      "# Order rules by consistency\n",
      "ordered_results = dict(sorted(results.items(), key=lambda item: item[1], reverse=True))\n",
      "\n",
      "# Print results\n",
      "for rule, count in ordered_results.items():\n",
      "    print(f\"{rule}: {count} out of {len(positive_counterfactuals)} counterfactuals\")\n",
      "```\n",
      "\n",
      "### Step 3: Provide Explanation to the User\n",
      "\n",
      "Given the results of the analysis, here's a plain language explanation to help the user improve their chances of changing class:\n",
      "\n",
      "### Explanation:\n",
      "\n",
      "Based on the results obtained from the analysis, certain factors significantly influence the likelihood of achieving a higher income. Here's a plain language explanation targeting improvement:\n",
      "\n",
      "1. **Pursue Higher Education**: The analysis shows that obtaining a higher education degree, such as a Doctorate, significantly increases your chances of a higher income. This indicates that investing time and resources in further education can be a valuable path to improving your economic standing.\n",
      "\n",
      "2. **Increase Work Hours**: Working more hours per week can also lead to higher income. The counterfactuals show that working more than 40 hours a week is associated with a higher income. If feasible, consider increasing your work hours to align with this trend.\n",
      "\n",
      "Improving your chances of moving to a higher income class involves strategic decisions about your education and work hours. Focusing on acquiring higher education and increasing your work hours can make a substantial difference.\n"
     ]
    }
   ],
   "source": [
    "print(explanation)"
   ]
  },
  {
   "cell_type": "markdown",
   "metadata": {},
   "source": [
    "Now we would like to check the quality of our explanation. As we explain in the paper, we created a close loop evaluation method that checks whether the "
   ]
  },
  {
   "cell_type": "code",
   "execution_count": 125,
   "metadata": {},
   "outputs": [
    {
     "name": "stdout",
     "output_type": "stream",
     "text": [
      "import pandas as pd\n",
      "\n",
      "# Define the data for the DataFrame\n",
      "data = {\n",
      "    'age': [50],\n",
      "    'workclass': ['Other/Unknown'],\n",
      "    'education': ['Doctorate'],  # Higher education\n",
      "    'marital_status': ['Married'],\n",
      "    'occupation': ['Other/Unknown'],\n",
      "    'race': ['White'],\n",
      "    'gender': ['Male'],\n",
      "    'hours_per_week': [60],  # Increased work hours\n",
      "    'income': [1]  # Positive class\n",
      "}\n",
      "\n",
      "# Create the DataFrame\n",
      "df = pd.DataFrame(data)\n",
      "\n",
      "# Save to csv\n",
      "df.to_csv('temp_csv.csv', index=False)\n"
     ]
    }
   ],
   "source": [
    "print(code2)"
   ]
  },
  {
   "cell_type": "markdown",
   "metadata": {},
   "source": [
    "After executing the code the LLM correctly generated a counterfactual example."
   ]
  },
  {
   "cell_type": "code",
   "execution_count": 126,
   "metadata": {},
   "outputs": [
    {
     "data": {
      "text/html": [
       "<div>\n",
       "<style scoped>\n",
       "    .dataframe tbody tr th:only-of-type {\n",
       "        vertical-align: middle;\n",
       "    }\n",
       "\n",
       "    .dataframe tbody tr th {\n",
       "        vertical-align: top;\n",
       "    }\n",
       "\n",
       "    .dataframe thead th {\n",
       "        text-align: right;\n",
       "    }\n",
       "</style>\n",
       "<table border=\"1\" class=\"dataframe\">\n",
       "  <thead>\n",
       "    <tr style=\"text-align: right;\">\n",
       "      <th></th>\n",
       "      <th>age</th>\n",
       "      <th>workclass</th>\n",
       "      <th>education</th>\n",
       "      <th>marital_status</th>\n",
       "      <th>occupation</th>\n",
       "      <th>race</th>\n",
       "      <th>gender</th>\n",
       "      <th>hours_per_week</th>\n",
       "    </tr>\n",
       "  </thead>\n",
       "  <tbody>\n",
       "    <tr>\n",
       "      <th>0</th>\n",
       "      <td>50</td>\n",
       "      <td>Other/Unknown</td>\n",
       "      <td>Doctorate</td>\n",
       "      <td>Married</td>\n",
       "      <td>Other/Unknown</td>\n",
       "      <td>White</td>\n",
       "      <td>Male</td>\n",
       "      <td>60</td>\n",
       "    </tr>\n",
       "  </tbody>\n",
       "</table>\n",
       "</div>"
      ],
      "text/plain": [
       "   age      workclass  education marital_status     occupation   race gender  \\\n",
       "0   50  Other/Unknown  Doctorate        Married  Other/Unknown  White   Male   \n",
       "\n",
       "   hours_per_week  \n",
       "0              60  "
      ]
     },
     "execution_count": 126,
     "metadata": {},
     "output_type": "execute_result"
    }
   ],
   "source": [
    "final_cf"
   ]
  },
  {
   "cell_type": "markdown",
   "metadata": {},
   "source": [
    "We will now try to extract metrics from this counterfactual like the predicted class, rules followed and if it exists in the data set. We ask the LLM for code again and this time it will create a table that we can analyze."
   ]
  },
  {
   "cell_type": "code",
   "execution_count": 127,
   "metadata": {},
   "outputs": [
    {
     "name": "stdout",
     "output_type": "stream",
     "text": [
      "import pandas as pd\n",
      "\n",
      "# Read the example from temp_csv.csv\n",
      "df = pd.read_csv('temp_csv.csv')\n",
      "\n",
      "# Define the rules and their importance\n",
      "rules = [\n",
      "    {'Rule': 'Higher education (Masters, Doctorate, Bachelors, Prof-school) leads to higher income.', 'Importance': 5},\n",
      "    {'Rule': 'Sales, Professional, and White-Collar occupations lead to higher income.', 'Importance': 3},\n",
      "    {'Rule': 'Gender being Male leads to higher income.', 'Importance': 1}\n",
      "]\n",
      "\n",
      "# Initialize the 'In explanation' column with 0\n",
      "for rule in rules:\n",
      "    rule['In explanation'] = 0\n",
      "\n",
      "# Check the rules\n",
      "if df['education'].iloc[0] in ['Masters', 'Doctorate', 'Bachelors', 'Prof-school']:\n",
      "    rules[0]['In explanation'] = 1\n",
      "if df['occupation'].iloc[0] in ['Sales', 'Professional', 'White-Collar']:\n",
      "    rules[1]['In explanation'] = 1\n",
      "if df['gender'].iloc[0] == 'Male':\n",
      "    rules[2]['In explanation'] = 1\n",
      "\n",
      "# Create the DataFrame\n",
      "df_final = pd.DataFrame(rules)\n",
      "\n",
      "# Save to csv\n",
      "df_final.to_csv('evaluation.csv', index=False)\n"
     ]
    }
   ],
   "source": [
    "print(code3)"
   ]
  },
  {
   "cell_type": "code",
   "execution_count": 128,
   "metadata": {},
   "outputs": [
    {
     "data": {
      "text/html": [
       "<div>\n",
       "<style scoped>\n",
       "    .dataframe tbody tr th:only-of-type {\n",
       "        vertical-align: middle;\n",
       "    }\n",
       "\n",
       "    .dataframe tbody tr th {\n",
       "        vertical-align: top;\n",
       "    }\n",
       "\n",
       "    .dataframe thead th {\n",
       "        text-align: right;\n",
       "    }\n",
       "</style>\n",
       "<table border=\"1\" class=\"dataframe\">\n",
       "  <thead>\n",
       "    <tr style=\"text-align: right;\">\n",
       "      <th></th>\n",
       "      <th>Rule</th>\n",
       "      <th>Importance</th>\n",
       "      <th>In explanation</th>\n",
       "    </tr>\n",
       "  </thead>\n",
       "  <tbody>\n",
       "    <tr>\n",
       "      <th>0</th>\n",
       "      <td>Higher education (Masters, Doctorate, Bachelor...</td>\n",
       "      <td>5</td>\n",
       "      <td>1</td>\n",
       "    </tr>\n",
       "    <tr>\n",
       "      <th>1</th>\n",
       "      <td>Sales, Professional, and White-Collar occupati...</td>\n",
       "      <td>3</td>\n",
       "      <td>0</td>\n",
       "    </tr>\n",
       "    <tr>\n",
       "      <th>2</th>\n",
       "      <td>Gender being Male leads to higher income.</td>\n",
       "      <td>1</td>\n",
       "      <td>1</td>\n",
       "    </tr>\n",
       "  </tbody>\n",
       "</table>\n",
       "</div>"
      ],
      "text/plain": [
       "                                                Rule  Importance  \\\n",
       "0  Higher education (Masters, Doctorate, Bachelor...           5   \n",
       "1  Sales, Professional, and White-Collar occupati...           3   \n",
       "2          Gender being Male leads to higher income.           1   \n",
       "\n",
       "   In explanation  \n",
       "0               1  \n",
       "1               0  \n",
       "2               1  "
      ]
     },
     "execution_count": 128,
     "metadata": {},
     "output_type": "execute_result"
    }
   ],
   "source": [
    "eval_df = pd.read_csv('./temp_files/evaluation.csv')\n",
    "eval_df"
   ]
  },
  {
   "cell_type": "markdown",
   "metadata": {},
   "source": [
    "After analyzing the table we get the following results."
   ]
  },
  {
   "cell_type": "code",
   "execution_count": 129,
   "metadata": {},
   "outputs": [
    {
     "name": "stdout",
     "output_type": "stream",
     "text": [
      "Prediction of the generated example:  1\n",
      "Number of rules generated:  3\n",
      "Number of rules followed:  2\n",
      "1st rule followed  1\n",
      "2nd rule followed  0\n",
      "3rd rule followed  1\n",
      "Example exists in data:  False\n"
     ]
    }
   ],
   "source": [
    "print('Prediction of the generated example: ', prediction)\n",
    "print('Number of rules generated: ', n_rules)\n",
    "print('Number of rules followed: ', rules_followed)\n",
    "print('1st rule followed ', first_rule)\n",
    "print('2nd rule followed ', second_rule)\n",
    "print('3rd rule followed ', third_rule)\n",
    "print('Example exists in data: ', is_in_data)"
   ]
  },
  {
   "cell_type": "markdown",
   "metadata": {},
   "source": [
    "## Tree of Thought\n",
    "Tree of thought will open a given amount of branches and for each one of them an explanation will be generated like in the previous examples"
   ]
  },
  {
   "cell_type": "code",
   "execution_count": 3,
   "metadata": {},
   "outputs": [
    {
     "name": "stderr",
     "output_type": "stream",
     "text": [
      "100%|██████████| 1/1 [00:00<00:00,  4.76it/s]\n"
     ]
    },
    {
     "name": "stdout",
     "output_type": "stream",
     "text": [
      "one\n",
      "zero\n"
     ]
    },
    {
     "name": "stderr",
     "output_type": "stream",
     "text": [
      "100%|██████████| 1/1 [00:00<00:00,  4.87it/s]\n",
      "100%|██████████| 1/1 [00:00<00:00,  4.84it/s]\n"
     ]
    },
    {
     "name": "stdout",
     "output_type": "stream",
     "text": [
      "one\n"
     ]
    },
    {
     "ename": "",
     "evalue": "",
     "output_type": "error",
     "traceback": [
      "\u001b[1;31mThe Kernel crashed while executing code in the current cell or a previous cell. \n",
      "\u001b[1;31mPlease review the code in the cell(s) to identify a possible cause of the failure. \n",
      "\u001b[1;31mClick <a href='https://aka.ms/vscodeJupyterKernelCrash'>here</a> for more info. \n",
      "\u001b[1;31mView Jupyter <a href='command:jupyter.viewOutput'>log</a> for further details."
     ]
    }
   ],
   "source": [
    "exp_m = ToTLLMExplanation4CFs(model = model, #Load the model we want to explain\n",
    "                        model_description = \"\"\"ML-system that predicts wether a person will earn more than 50k $ a year\"\"\", # brief explanation of the ML model\n",
    "                        backend='sklearn', # Framework used to build the model (used to generate counterfactuals)\n",
    "                        dataset_info=string_info(train_dataset.columns, helpers.get_adult_data_info()) , # string information about the dataset\n",
    "                        continuous_features=['age', 'hours_per_week'], # Necessary for the counterfactual generation\n",
    "                        outcome_name= 'income', #Necessary for counterfactual generation\n",
    "                        training_set=train_dataset, #Necessary for counterfactual generation\n",
    "                        test_set= test_dataset, #Necessary to  check novelty of the evaluation example\n",
    "                        llm='gpt-4o', #LLM used, works with Langchain\n",
    "                        prompt_type='zero', # zero or one\n",
    "                        n_counterfactuals=5, #Number of counterfactuals used in the explanation \n",
    "                        user_input=False, #Human in the loop helping select the causes\n",
    "                        branches = 3\n",
    "                    )\n",
    "exp_m.fit()\n",
    "\n",
    "out, explanation, code2, final_cf, code3, final_df, prediction, n_rules,rules_followed, first_rule, second_rule,third_rule, in_data = exp_m.explain_evaluate(user_data = test_df.iloc[[1]], verbose = False,return_all=True)  "
   ]
  },
  {
   "cell_type": "markdown",
   "metadata": {},
   "source": [
    "After this process is done, we join all the examples in order ro feed them to the LLM"
   ]
  },
  {
   "cell_type": "code",
   "execution_count": 5,
   "metadata": {},
   "outputs": [
    {
     "name": "stdout",
     "output_type": "stream",
     "text": [
      "\n",
      "\n",
      "System1:\n",
      "Rules:\n",
      "Here are the extracted rules based on the provided negative and positive counterfactual outcomes:\n",
      "\n",
      "### Rules:\n",
      "1. **Higher education levels lead to higher income**: The transition from \"Some-college\" to \"Doctorate\" in the counterfactual cases is associated with a higher income.\n",
      "   - Example: Case 1, 2, and 3 show individuals with \"Doctorate\" education achieving higher income.\n",
      "\n",
      "2. **Race diversity in certain cases**: The counterfactual outcome shows that individuals with the race \"Other\" can achieve higher income.\n",
      "   - Example: Case 0 and 4 show individuals of race \"Other\" achieving higher income.\n",
      "\n",
      "3. **Increased working hours can lead to higher income**: The counterfactual outcome shows that working more hours per week (e.g., 53 hours) is associated with higher income.\n",
      "   - Example: Case 0 shows an individual working 53 hours per week achieving a higher income.\n",
      "\n",
      "4. **Government workclass can lead to higher income**: The counterfactual outcome shows that individuals working in the \"Government\" sector have higher income.\n",
      "   - Example: Case 1 shows an individual working in the \"Government\" sector achieving higher income.\n",
      "\n",
      "### Summary:\n",
      "- **Education**: Advanced degrees such as \"Doctorate\" are linked with higher income.\n",
      "- **Race**: Individuals of race \"Other\" can achieve higher income in certain scenarios.\n",
      "- **Hours per Week**: More working hours per week (e.g., 53 hours) are associated with higher income.\n",
      "- **Workclass**: Employment in the \"Government\" sector is linked with higher income.\n",
      "\n",
      "These rules indicate that improving education levels, considering racial diversity, increasing work hours, and employment in certain work sectors can potentially lead to a higher income.\n",
      "Results:\n",
      "Number of counterfactuals following Rule 1 (Higher education levels lead to higher income): 3\n",
      "Number of counterfactuals following Rule 2 (Race diversity in certain cases): 2\n",
      "Number of counterfactuals following Rule 3 (Increased working hours can lead to higher income): 1\n",
      "Number of counterfactuals following Rule 4 (Government workclass can lead to higher income): 1\n",
      "\n",
      "Explanation:\n",
      "Based on the analysis of the factors influencing income, here are actionable steps you can take to improve your chances of earning more than $50,000 a year:\n",
      "\n",
      "1. **Pursue Higher Education**: The analysis indicates that higher education levels, such as obtaining a Doctorate, are strongly associated with higher income. Investing in furthering your education can significantly enhance your earning potential. Consider enrolling in advanced degree programs or professional courses that can bolster your qualifications and open up higher-paying opportunities.\n",
      "\n",
      "2. **Consider Racial Diversity as a Factor**: While not a direct action you can take, it's important to recognize that individuals of different racial backgrounds can achieve higher incomes in certain scenarios. This insight stresses the importance of creating and supporting diverse and inclusive workplaces that value contributions from all racial backgrounds.\n",
      "\n",
      "3. **Increase Your Working Hours**: The data shows that working more hours per week, specifically around 53 hours, is linked to higher income. If feasible, increasing your weekly working hours could contribute to higher earnings. However, ensure that this increase is sustainable and does not negatively impact your work-life balance or health.\n",
      "\n",
      "4. **Explore Employment in the Government Sector**: Employment in the Government sector is associated with higher income. If you're considering a career change, exploring job opportunities within the Government sector could be beneficial. Government jobs often come with additional benefits and stability that can positively impact your financial situation.\n",
      "\n",
      "### Summary:\n",
      "\n",
      "- **Education**: Aim to obtain higher education degrees like a Doctorate to significantly boost your income potential.\n",
      "- **Race**: Promote and support workplace diversity to ensure opportunities are available to all, regardless of race.\n",
      "- **Work Hours**: Consider increasing your working hours to around 53 hours per week to potentially raise your income.\n",
      "- **Work Sector**: Look into job opportunities within the Government sector, which may offer higher wages and additional benefits.\n",
      "\n",
      "By making strategic decisions about your education, work hours, and employment sector, you can improve your chances of moving to a higher income class. Each of these steps plays a role in enhancing your economic standing and achieving your financial goals.\n",
      "\n",
      "System2:\n",
      "Rules:\n",
      "From the given data, we can derive a set of rules based on the differences between the negative assessment outcome and the positive counterfactual outcomes. Here are the most important observed rules:\n",
      "\n",
      "1. **Education Level**: \n",
      "   - Moving from \"Some-college\" to \"Masters\" can lead to a positive outcome.\n",
      "   - Staying with \"Some-college\" but changing other factors (like occupation or race) can also lead to a positive outcome.\n",
      "\n",
      "2. **Occupation**:\n",
      "   - Changing from \"Other/Unknown\" to \"White-Collar\" or \"Professional\" can lead to a positive outcome.\n",
      "\n",
      "3. **Race**:\n",
      "   - Changing the race from \"White\" to \"Other\" can lead to a positive outcome, as seen in multiple counterfactual cases.\n",
      "\n",
      "4. **Hours per Week**:\n",
      "   - Increasing the number of hours worked per week from 40 to 74 can lead to a positive outcome.\n",
      "\n",
      "Here is the detailed list of rules inferred from the data:\n",
      "\n",
      "### Rules for Positive Outcome\n",
      "1. **Rule 1**:\n",
      "   - **Condition**: Education = \"Masters\"\n",
      "   - **Outcome**: Positive (income > 50k)\n",
      "\n",
      "2. **Rule 2**:\n",
      "   - **Condition**: Occupation = \"White-Collar\"\n",
      "   - **Outcome**: Positive (income > 50k)\n",
      "\n",
      "3. **Rule 3**:\n",
      "   - **Condition**: Occupation = \"Professional\"\n",
      "   - **Outcome**: Positive (income > 50k)\n",
      "\n",
      "4. **Rule 4**:\n",
      "   - **Condition**: Race = \"Other\"\n",
      "   - **Outcome**: Positive (income > 50k)\n",
      "\n",
      "5. **Rule 5**:\n",
      "   - **Condition**: Hours per Week > 40 (e.g., 74)\n",
      "   - **Outcome**: Positive (income > 50k)\n",
      "\n",
      "### Combination Rules\n",
      "1. **Combination Rule 1**:\n",
      "   - **Condition**: Education = \"Some-college\" AND Occupation = \"Other/Unknown\" AND Race = \"Other\"\n",
      "   - **Outcome**: Positive (income > 50k)\n",
      "\n",
      "2. **Combination Rule 2**:\n",
      "   - **Condition**: Education = \"Some-college\" AND Occupation = \"Professional\"\n",
      "   - **Outcome**: Positive (income > 50k)\n",
      "\n",
      "### Summary of Observations:\n",
      "- Having a higher level of education (like a Master's degree) can significantly improve the chances of earning more than 50k.\n",
      "- Working in a more specialized or white-collar occupation rather than an unknown or unclassified occupation can lead to a positive outcome.\n",
      "- The race factor seems to interact with other variables like occupation and education, and changing it to \"Other\" can sometimes lead to a positive outcome.\n",
      "- Working more hours per week (e.g., 74 hours) can also lead to a positive outcome, even if the occupation or education level does not change.\n",
      "\n",
      "These rules can help guide individuals on what changes might increase their likelihood of earning more than 50k a year according to the ML system's predictions.\n",
      "Results:\n",
      "Rule 4: 4 counterfactuals follow this rule\n",
      "Combination Rule 1: 3 counterfactuals follow this rule\n",
      "Rule 1: 1 counterfactuals follow this rule\n",
      "Rule 2: 1 counterfactuals follow this rule\n",
      "Rule 3: 1 counterfactuals follow this rule\n",
      "Rule 5: 1 counterfactuals follow this rule\n",
      "Combination Rule 2: 1 counterfactuals follow this rule\n",
      "\n",
      "Explanation:\n",
      "### Explanation\n",
      "\n",
      "Based on the information from our machine learning system, we have identified several key factors that can help improve your chances of earning more than $50,000 a year. Here are some actionable steps you can consider:\n",
      "\n",
      "### Key Factors and Actions:\n",
      "\n",
      "1. **Education Level**:\n",
      "   - **Rule**: Moving from \"Some-college\" to \"Masters\" can lead to a positive outcome.\n",
      "   - **Action**: Consider pursuing a Master's degree if feasible. Higher education levels significantly increase your chances of earning more.\n",
      "\n",
      "2. **Occupation**:\n",
      "   - **Rule**: Changing from \"Other/Unknown\" to \"White-Collar\" or \"Professional\" can lead to a positive outcome.\n",
      "   - **Action**: Seek opportunities to transition into a White-Collar or Professional occupation. This could involve additional training or certifications in a specialized field.\n",
      "\n",
      "3. **Race**:\n",
      "   - **Rule**: Changing the race from \"White\" to \"Other\" can lead to a positive outcome.\n",
      "   - **Action**: This rule's importance is less clear-cut, as race is not a factor you can change. It may interact with other variables like education and occupation.\n",
      "\n",
      "4. **Hours per Week**:\n",
      "   - **Rule**: Increasing the number of hours worked per week from 40 to 74 can lead to a positive outcome.\n",
      "   - **Action**: If possible, increase your work hours. However, ensure this is sustainable and does not negatively impact your well-being.\n",
      "\n",
      "### Combination Rules:\n",
      "1. **Combination Rule 1**:\n",
      "   - **Condition**: Education = \"Some-college\" AND Occupation = \"Other/Unknown\" AND Race = \"Other\"\n",
      "   - **Outcome**: Positive (income > 50k)\n",
      "   - **Action**: If you have some college education and belong to a race categorized as \"Other,\" focus on changing your occupation to improve your income.\n",
      "\n",
      "2. **Combination Rule 2**:\n",
      "   - **Condition**: Education = \"Some-college\" AND Occupation = \"Professional\"\n",
      "   - **Outcome**: Positive (income > 50k)\n",
      "   - **Action**: With some college education, transitioning to a Professional occupation can significantly boost your chances of earning more.\n",
      "\n",
      "### Summary of Observations:\n",
      "- **Education**: Higher education levels, such as obtaining a Master's degree, are highly beneficial.\n",
      "- **Occupation**: Moving into specialized or white-collar jobs is crucial.\n",
      "- **Work Hours**: Increasing work hours can positively impact your income.\n",
      "- **Race**: While this factor interacts with other variables, it's not actionable.\n",
      "\n",
      "### Call to Action:\n",
      "To improve your chances of earning more than $50,000 a year, focus on the following:\n",
      "1. **Pursue higher education**, specifically a Master's degree if possible.\n",
      "2. **Seek opportunities to move into White-Collar or Professional occupations**.\n",
      "3. **Consider increasing your work hours** if it is sustainable and practical for you.\n",
      "\n",
      "By taking these steps, you can significantly enhance your likelihood of changing your income class according to the machine learning system's predictions.\n",
      "\n",
      "System3:\n",
      "Rules:\n",
      "Based on the provided negative assessment outcome and the positive counterfactual outcomes, we can derive the following rules that may lead to a higher income (greater than $50K a year):\n",
      "\n",
      "1. **Higher Education**:\n",
      "   - Individuals with a higher level of education, such as a Doctorate or Prof-school, tend to have higher incomes.\n",
      "   \n",
      "2. **Workclass**:\n",
      "   - Employment in the Government sector can lead to higher income compared to \"Other/Unknown\" work classes.\n",
      "\n",
      "3. **Age**:\n",
      "   - Although not directly a rule from the data provided, it's worth noting that an age of 79 was observed with a higher income. This might suggest that individuals who remain in the workforce until an older age could potentially accumulate more wealth, but this is less likely to be a strong rule without more context.\n",
      "\n",
      "4. **Hours per Week**:\n",
      "   - Working significantly more hours per week can lead to a higher income, as seen in the case where a person worked 69 hours per week and had a higher income.\n",
      "\n",
      "5. **Race**:\n",
      "   - While not explicitly clear from the given data, there is a positive outcome for an individual identified as \"Other\" race. This could be indicative but is not a strong rule without more evidence.\n",
      "\n",
      "Here are the derived rules:\n",
      "\n",
      "1. **Higher education (Doctorate, Prof-school) leads to higher income.**\n",
      "2. **Employment in the Government sector can lead to higher income.**\n",
      "3. **Working significantly more hours per week (e.g., 69 hours) can lead to higher income.**\n",
      "\n",
      "These rules are inferred based on the observations from the given data and should be validated with a larger dataset for more accurate conclusions.\n",
      "Results:\n",
      "Number of counterfactuals following Rule 1: 2\n",
      "Number of counterfactuals following Rule 2: 1\n",
      "Number of counterfactuals following Rule 3: 1\n",
      "\n",
      "Explanation:\n",
      "Based on the analysis of the data, here are actionable steps you can take to improve your chances of earning more than $50K a year:\n",
      "\n",
      "1. **Pursue Higher Education**: The most significant factor for increasing your income is obtaining a higher level of education. Specifically, individuals with advanced degrees such as a Doctorate or Professional school degree tend to have higher incomes. Investing time and resources in further education can substantially improve your economic prospects.\n",
      "\n",
      "2. **Consider Employment in the Government Sector**: The data indicates that working in the Government sector is associated with higher income compared to \"Other/Unknown\" work classes. If possible, seek employment opportunities within the Government sector to improve your income potential.\n",
      "\n",
      "3. **Increase Working Hours**: While this may not be feasible for everyone, the analysis suggests that working significantly more hours per week can lead to a higher income. For example, individuals working around 69 hours per week have shown higher incomes. If your current situation allows, consider increasing your working hours to achieve a higher income.\n",
      "\n",
      "By focusing on these key areas—furthering your education, seeking government employment, and possibly increasing your working hours—you can make strategic decisions that enhance your chances of moving to a higher income class.\n"
     ]
    }
   ],
   "source": [
    "print(out)"
   ]
  },
  {
   "cell_type": "markdown",
   "metadata": {},
   "source": [
    "Using all this information, the LLM generates an explanation."
   ]
  },
  {
   "cell_type": "code",
   "execution_count": 6,
   "metadata": {},
   "outputs": [
    {
     "name": "stdout",
     "output_type": "stream",
     "text": [
      "Based on the analysis from three different systems, here are some clear and actionable steps you can take to improve your chances of earning more than $50,000 a year. This guidance is based on understanding what factors were common among people who made that income in counterfactual scenarios.\n",
      "\n",
      "### Key Steps to Improve Your Income\n",
      "\n",
      "1. **Pursue Higher Education:**\n",
      "   - **Why?** Higher education levels, such as a Master's degree or Doctorate, are strongly linked to higher income. This was the most frequently observed rule across the systems.\n",
      "   - **Action:** Invest in furthering your education. Consider enrolling in advanced degree programs or professional courses. This can significantly enhance your qualifications and open up higher-paying opportunities.\n",
      "\n",
      "2. **Seek Employment in Specialized or Government Sectors:**\n",
      "   - **Why?** Working in specialized positions such as White-Collar or Professional occupations, or in the Government sector, is associated with higher income.\n",
      "   - **Action:** Look for job opportunities in these sectors. You might need additional training or certifications to transition into these roles, but the investment could be worthwhile.\n",
      "\n",
      "3. **Work More Hours per Week:**\n",
      "   - **Why?** Increasing your weekly working hours was linked to higher income. For example, working around 53 to 74 hours per week showed positive outcomes in several cases.\n",
      "   - **Action:** If feasible, try to increase your working hours. However, be mindful of maintaining a healthy work-life balance and ensure this increase is sustainable for you.\n",
      "\n",
      "4. **Consider Racial Diversity Factors:**\n",
      "   - **Why?** While race itself is not something you can change, the data suggested that individuals from diverse racial backgrounds sometimes achieved higher incomes in certain contexts.\n",
      "   - **Action:** This insight highlights the importance of supporting diverse and inclusive workplaces. Ensure that your workplace values contributions from all backgrounds, as this can create a more equitable environment for everyone.\n",
      "\n",
      "### Summary and Call to Action\n",
      "\n",
      "To boost your chances of earning more than $50,000 a year, focus on the following:\n",
      "\n",
      "1. **Invest in Higher Education**: Aim to obtain advanced degrees like a Master's or Doctorate. This is the most impactful step you can take.\n",
      "2. **Transition to Specialized or Government Jobs**: Seek opportunities in White-Collar, Professional, or Government roles. Additional training or certifications may be needed.\n",
      "3. **Increase Your Working Hours**: If possible, consider working more hours per week, but make sure it's manageable for your overall well-being.\n",
      "4. **Support Workplace Diversity**: Promote and work in environments that value diversity and inclusion. This can have broader benefits for your career and income potential.\n",
      "\n",
      "By taking these strategic steps, you can significantly enhance your likelihood of moving to a higher income class. Start planning and taking action today to achieve your financial goals!\n"
     ]
    }
   ],
   "source": [
    "print(explanation)"
   ]
  },
  {
   "cell_type": "markdown",
   "metadata": {},
   "source": [
    "Again, we follow the same process for the evaluation"
   ]
  },
  {
   "cell_type": "code",
   "execution_count": 7,
   "metadata": {},
   "outputs": [
    {
     "name": "stdout",
     "output_type": "stream",
     "text": [
      "import pandas as pd\n",
      "\n",
      "# Constructing the DataFrame based on the actionable steps provided\n",
      "data = {\n",
      "    'age': [35],                      # An age in the prime working years\n",
      "    'workclass': ['Government'],      # Specialized/Government sector\n",
      "    'education': ['Masters'],         # Higher education level\n",
      "    'marital_status': ['Married'],    # Marital status\n",
      "    'occupation': ['Professional'],   # Specialized occupation\n",
      "    'race': ['White'],                # Race (as given in the dataset)\n",
      "    'gender': ['Male'],               # Gender\n",
      "    'hours_per_week': [55]            # Increased working hours\n",
      "}\n",
      "\n",
      "# Creating the DataFrame\n",
      "df = pd.DataFrame(data)\n",
      "\n",
      "# Saving the DataFrame to a CSV file\n",
      "df.to_csv('temp_csv.csv', index=False)\n",
      "\n",
      "# Display the DataFrame\n",
      "print(df)\n"
     ]
    }
   ],
   "source": [
    "print(code2)"
   ]
  },
  {
   "cell_type": "code",
   "execution_count": 8,
   "metadata": {},
   "outputs": [
    {
     "data": {
      "text/html": [
       "<div>\n",
       "<style scoped>\n",
       "    .dataframe tbody tr th:only-of-type {\n",
       "        vertical-align: middle;\n",
       "    }\n",
       "\n",
       "    .dataframe tbody tr th {\n",
       "        vertical-align: top;\n",
       "    }\n",
       "\n",
       "    .dataframe thead th {\n",
       "        text-align: right;\n",
       "    }\n",
       "</style>\n",
       "<table border=\"1\" class=\"dataframe\">\n",
       "  <thead>\n",
       "    <tr style=\"text-align: right;\">\n",
       "      <th></th>\n",
       "      <th>age</th>\n",
       "      <th>workclass</th>\n",
       "      <th>education</th>\n",
       "      <th>marital_status</th>\n",
       "      <th>occupation</th>\n",
       "      <th>race</th>\n",
       "      <th>gender</th>\n",
       "      <th>hours_per_week</th>\n",
       "    </tr>\n",
       "  </thead>\n",
       "  <tbody>\n",
       "    <tr>\n",
       "      <th>0</th>\n",
       "      <td>35</td>\n",
       "      <td>Government</td>\n",
       "      <td>Masters</td>\n",
       "      <td>Married</td>\n",
       "      <td>Professional</td>\n",
       "      <td>White</td>\n",
       "      <td>Male</td>\n",
       "      <td>55</td>\n",
       "    </tr>\n",
       "  </tbody>\n",
       "</table>\n",
       "</div>"
      ],
      "text/plain": [
       "   age   workclass education marital_status    occupation   race gender  \\\n",
       "0   35  Government   Masters        Married  Professional  White   Male   \n",
       "\n",
       "   hours_per_week  \n",
       "0              55  "
      ]
     },
     "execution_count": 8,
     "metadata": {},
     "output_type": "execute_result"
    }
   ],
   "source": [
    "final_cf"
   ]
  },
  {
   "cell_type": "code",
   "execution_count": 9,
   "metadata": {},
   "outputs": [
    {
     "name": "stdout",
     "output_type": "stream",
     "text": [
      "import pandas as pd\n",
      "\n",
      "# Load the positive example\n",
      "df = pd.read_csv('temp_csv.csv')\n",
      "\n",
      "# Define the rules\n",
      "rules_data = [\n",
      "    {\"Rule\": \"Higher education levels lead to higher income (Doctorate)\", \"Importance\": 3, \"Column\": \"education\", \"Value\": \"Doctorate\"},\n",
      "    {\"Rule\": \"Race diversity in certain cases (Other)\", \"Importance\": 2, \"Column\": \"race\", \"Value\": \"Other\"},\n",
      "    {\"Rule\": \"Increased working hours can lead to higher income (53 hours)\", \"Importance\": 1, \"Column\": \"hours_per_week\", \"Value\": 53},\n",
      "    {\"Rule\": \"Government workclass can lead to higher income\", \"Importance\": 1, \"Column\": \"workclass\", \"Value\": \"Government\"},\n",
      "    {\"Rule\": \"Education Level (Masters)\", \"Importance\": 1, \"Column\": \"education\", \"Value\": \"Masters\"},\n",
      "    {\"Rule\": \"Occupation (White-Collar)\", \"Importance\": 1, \"Column\": \"occupation\", \"Value\": \"White-Collar\"},\n",
      "    {\"Rule\": \"Occupation (Professional)\", \"Importance\": 1, \"Column\": \"occupation\", \"Value\": \"Professional\"},\n",
      "    {\"Rule\": \"Race diversity in certain cases (Other from System2)\", \"Importance\": 4, \"Column\": \"race\", \"Value\": \"Other\"},\n",
      "    {\"Rule\": \"Increased working hours can lead to higher income (74 hours)\", \"Importance\": 1, \"Column\": \"hours_per_week\", \"Value\": 74},\n",
      "    {\"Rule\": \"Combination Rule 1\", \"Importance\": 3, \"Conditions\": [(\"education\", \"Some-college\"), (\"occupation\", \"Other/Unknown\"), (\"race\", \"Other\")]},\n",
      "    {\"Rule\": \"Combination Rule 2\", \"Importance\": 1, \"Conditions\": [(\"education\", \"Some-college\"), (\"occupation\", \"Professional\")]},\n",
      "    {\"Rule\": \"Higher education levels lead to higher income (Doctorate or Prof-school)\", \"Importance\": 2, \"Column\": \"education\", \"Values\": [\"Doctorate\", \"Prof-school\"]},\n",
      "    {\"Rule\": \"Government workclass can lead to higher income (System3)\", \"Importance\": 1, \"Column\": \"workclass\", \"Value\": \"Government\"},\n",
      "    {\"Rule\": \"Increased working hours can lead to higher income (69 hours)\", \"Importance\": 1, \"Column\": \"hours_per_week\", \"Value\": 69},\n",
      "]\n",
      "\n",
      "# Evaluate if the example follows the rules\n",
      "in_explanation = []\n",
      "for rule in rules_data:\n",
      "    if \"Conditions\" in rule:\n",
      "        conditions_met = all(df.iloc[0][col] == val for col, val in rule[\"Conditions\"])\n",
      "        in_explanation.append(1 if conditions_met else 0)\n",
      "    elif \"Values\" in rule:\n",
      "        in_explanation.append(1 if df.iloc[0][rule[\"Column\"]] in rule[\"Values\"] else 0)\n",
      "    else:\n",
      "        in_explanation.append(1 if df.iloc[0][rule[\"Column\"]] == rule[\"Value\"] else 0)\n",
      "\n",
      "# Create the final DataFrame\n",
      "df_final = pd.DataFrame({\n",
      "    \"Rule\": [rule[\"Rule\"] for rule in rules_data],\n",
      "    \"Importance\": [rule[\"Importance\"] for rule in rules_data],\n",
      "    \"In explanation\": in_explanation\n",
      "})\n",
      "\n",
      "# Save to csv\n",
      "df_final.to_csv('evaluation.csv', index=False)\n"
     ]
    }
   ],
   "source": [
    "print(code3)"
   ]
  },
  {
   "cell_type": "code",
   "execution_count": 10,
   "metadata": {},
   "outputs": [
    {
     "data": {
      "text/html": [
       "<div>\n",
       "<style scoped>\n",
       "    .dataframe tbody tr th:only-of-type {\n",
       "        vertical-align: middle;\n",
       "    }\n",
       "\n",
       "    .dataframe tbody tr th {\n",
       "        vertical-align: top;\n",
       "    }\n",
       "\n",
       "    .dataframe thead th {\n",
       "        text-align: right;\n",
       "    }\n",
       "</style>\n",
       "<table border=\"1\" class=\"dataframe\">\n",
       "  <thead>\n",
       "    <tr style=\"text-align: right;\">\n",
       "      <th></th>\n",
       "      <th>Rule</th>\n",
       "      <th>Importance</th>\n",
       "      <th>In explanation</th>\n",
       "    </tr>\n",
       "  </thead>\n",
       "  <tbody>\n",
       "    <tr>\n",
       "      <th>0</th>\n",
       "      <td>Higher education levels lead to higher income ...</td>\n",
       "      <td>3</td>\n",
       "      <td>0</td>\n",
       "    </tr>\n",
       "    <tr>\n",
       "      <th>1</th>\n",
       "      <td>Race diversity in certain cases (Other)</td>\n",
       "      <td>2</td>\n",
       "      <td>0</td>\n",
       "    </tr>\n",
       "    <tr>\n",
       "      <th>2</th>\n",
       "      <td>Increased working hours can lead to higher inc...</td>\n",
       "      <td>1</td>\n",
       "      <td>0</td>\n",
       "    </tr>\n",
       "    <tr>\n",
       "      <th>3</th>\n",
       "      <td>Government workclass can lead to higher income</td>\n",
       "      <td>1</td>\n",
       "      <td>1</td>\n",
       "    </tr>\n",
       "    <tr>\n",
       "      <th>4</th>\n",
       "      <td>Education Level (Masters)</td>\n",
       "      <td>1</td>\n",
       "      <td>1</td>\n",
       "    </tr>\n",
       "    <tr>\n",
       "      <th>5</th>\n",
       "      <td>Occupation (White-Collar)</td>\n",
       "      <td>1</td>\n",
       "      <td>0</td>\n",
       "    </tr>\n",
       "    <tr>\n",
       "      <th>6</th>\n",
       "      <td>Occupation (Professional)</td>\n",
       "      <td>1</td>\n",
       "      <td>1</td>\n",
       "    </tr>\n",
       "    <tr>\n",
       "      <th>7</th>\n",
       "      <td>Race diversity in certain cases (Other from Sy...</td>\n",
       "      <td>4</td>\n",
       "      <td>0</td>\n",
       "    </tr>\n",
       "    <tr>\n",
       "      <th>8</th>\n",
       "      <td>Increased working hours can lead to higher inc...</td>\n",
       "      <td>1</td>\n",
       "      <td>0</td>\n",
       "    </tr>\n",
       "    <tr>\n",
       "      <th>9</th>\n",
       "      <td>Combination Rule 1</td>\n",
       "      <td>3</td>\n",
       "      <td>0</td>\n",
       "    </tr>\n",
       "    <tr>\n",
       "      <th>10</th>\n",
       "      <td>Combination Rule 2</td>\n",
       "      <td>1</td>\n",
       "      <td>0</td>\n",
       "    </tr>\n",
       "    <tr>\n",
       "      <th>11</th>\n",
       "      <td>Higher education levels lead to higher income ...</td>\n",
       "      <td>2</td>\n",
       "      <td>0</td>\n",
       "    </tr>\n",
       "    <tr>\n",
       "      <th>12</th>\n",
       "      <td>Government workclass can lead to higher income...</td>\n",
       "      <td>1</td>\n",
       "      <td>1</td>\n",
       "    </tr>\n",
       "    <tr>\n",
       "      <th>13</th>\n",
       "      <td>Increased working hours can lead to higher inc...</td>\n",
       "      <td>1</td>\n",
       "      <td>0</td>\n",
       "    </tr>\n",
       "  </tbody>\n",
       "</table>\n",
       "</div>"
      ],
      "text/plain": [
       "                                                 Rule  Importance  \\\n",
       "0   Higher education levels lead to higher income ...           3   \n",
       "1             Race diversity in certain cases (Other)           2   \n",
       "2   Increased working hours can lead to higher inc...           1   \n",
       "3      Government workclass can lead to higher income           1   \n",
       "4                           Education Level (Masters)           1   \n",
       "5                           Occupation (White-Collar)           1   \n",
       "6                           Occupation (Professional)           1   \n",
       "7   Race diversity in certain cases (Other from Sy...           4   \n",
       "8   Increased working hours can lead to higher inc...           1   \n",
       "9                                  Combination Rule 1           3   \n",
       "10                                 Combination Rule 2           1   \n",
       "11  Higher education levels lead to higher income ...           2   \n",
       "12  Government workclass can lead to higher income...           1   \n",
       "13  Increased working hours can lead to higher inc...           1   \n",
       "\n",
       "    In explanation  \n",
       "0                0  \n",
       "1                0  \n",
       "2                0  \n",
       "3                1  \n",
       "4                1  \n",
       "5                0  \n",
       "6                1  \n",
       "7                0  \n",
       "8                0  \n",
       "9                0  \n",
       "10               0  \n",
       "11               0  \n",
       "12               1  \n",
       "13               0  "
      ]
     },
     "execution_count": 10,
     "metadata": {},
     "output_type": "execute_result"
    }
   ],
   "source": [
    "final_df"
   ]
  },
  {
   "cell_type": "code",
   "execution_count": 11,
   "metadata": {},
   "outputs": [
    {
     "name": "stdout",
     "output_type": "stream",
     "text": [
      "Prediction of the generated example:  1\n",
      "Number of rules generated:  14\n",
      "Number of rules followed:  4\n",
      "1st rule followed  0\n",
      "2nd rule followed  0\n",
      "3rd rule followed  0\n",
      "Example exists in data:  False\n"
     ]
    }
   ],
   "source": [
    "print('Prediction of the generated example: ', prediction)\n",
    "print('Number of rules generated: ', n_rules)\n",
    "print('Number of rules followed: ', rules_followed)\n",
    "print('1st rule followed ', first_rule)\n",
    "print('2nd rule followed ', second_rule)\n",
    "print('3rd rule followed ', third_rule)\n",
    "print('Example exists in data: ', in_data)"
   ]
  },
  {
   "cell_type": "markdown",
   "metadata": {},
   "source": [
    "As we can see, the rule set is much bigger now, so different causes can be selected"
   ]
  },
  {
   "cell_type": "code",
   "execution_count": null,
   "metadata": {},
   "outputs": [],
   "source": []
  },
  {
   "cell_type": "code",
   "execution_count": null,
   "metadata": {},
   "outputs": [],
   "source": []
  },
  {
   "cell_type": "code",
   "execution_count": null,
   "metadata": {},
   "outputs": [],
   "source": []
  }
 ],
 "metadata": {
  "kernelspec": {
   "display_name": "LLMproj",
   "language": "python",
   "name": "python3"
  },
  "language_info": {
   "codemirror_mode": {
    "name": "ipython",
    "version": 3
   },
   "file_extension": ".py",
   "mimetype": "text/x-python",
   "name": "python",
   "nbconvert_exporter": "python",
   "pygments_lexer": "ipython3",
   "version": "3.10.14"
  }
 },
 "nbformat": 4,
 "nbformat_minor": 2
}
