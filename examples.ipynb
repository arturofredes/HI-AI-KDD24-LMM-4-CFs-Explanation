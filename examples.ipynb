{
 "cells": [
  {
   "cell_type": "markdown",
   "metadata": {},
   "source": [
    "# Examples\n",
    "In this notebook we will see an example for each prompting strategy of how an explanation is generated and evaluated from start to finish"
   ]
  },
  {
   "cell_type": "code",
   "execution_count": 1,
   "metadata": {},
   "outputs": [],
   "source": [
    "import dice_ml\n",
    "from dice_ml.utils import helpers\n",
    "import pandas as pd\n",
    "import pickle\n",
    "from prompts import *\n",
    "from utils import *\n",
    "from llm_explainers import *"
   ]
  },
  {
   "cell_type": "code",
   "execution_count": 2,
   "metadata": {},
   "outputs": [],
   "source": [
    "# Load the model we want to explain\n",
    "with open(\"\"\"./models/loan_model.pkl\"\"\", 'rb') as file:\n",
    "    model = pickle.load(file)\n",
    "\n",
    "#Load the train and test data set\n",
    "train_dataset = pd.read_csv('./data/adult_train_dataset.csv')\n",
    "test_dataset = pd.read_csv('./data/adult_test_dataset.csv')\n",
    "\n",
    "#Load the examples we will try to explain\n",
    "test_df = pd.read_csv('./data/test_examples.csv')\n",
    "test_df = test_df.drop(columns=['income'], axis = 1)"
   ]
  },
  {
   "cell_type": "markdown",
   "metadata": {},
   "source": [
    "## Zero Shot"
   ]
  },
  {
   "cell_type": "code",
   "execution_count": 5,
   "metadata": {},
   "outputs": [
    {
     "name": "stderr",
     "output_type": "stream",
     "text": [
      "100%|██████████| 1/1 [00:00<00:00,  2.01it/s]\n"
     ]
    }
   ],
   "source": [
    "exp_m = LLMExplanation4CFs(model = model, #Load the model we want to explain\n",
    "                            model_description = \"\"\"ML-system that predicts wether a person will earn more than 50k $ a year\"\"\", # brief explanation of the ML model\n",
    "                            backend='sklearn', # Framework used to build the model (used to generate counterfactuals)\n",
    "                            dataset_info=string_info(train_dataset.columns, helpers.get_adult_data_info()) , # string information about the dataset\n",
    "                            continuous_features=['age', 'hours_per_week'], # Necessary for the counterfactual generation\n",
    "                            outcome_name= 'income', #Necessary for counterfactual generation\n",
    "                            training_set=train_dataset, #Necessary for counterfactual generation\n",
    "                            test_set= test_dataset, #Necessary to  check novelty of the evaluation example\n",
    "                            llm='gpt-4o', #LLM used, works with Langchain\n",
    "                            prompt_type='zero', # zero or one\n",
    "                            n_counterfactuals=5, #Number of counterfactuals used in the explanation \n",
    "                            user_input=False #Human in the loop helping select the causes\n",
    "                           )\n",
    "\n",
    "\n",
    "exp_m.fit()\n",
    "counterfactuals, rules, code1, result1, explanation, code2, final_cf, code3, prediction, n_rules,rules_followed, first_rule, second_rule,third_rule,  is_in_data = exp_m.explain_evaluate(user_data = test_df.iloc[[0]], verbose = False,return_all=True)"
   ]
  },
  {
   "cell_type": "markdown",
   "metadata": {},
   "source": [
    "We will looked at the following example of a woman who is predicted to earn less than 50k$ a year. We will look at the whole process followed by the LLM in order to obtain this final explanation."
   ]
  },
  {
   "cell_type": "code",
   "execution_count": 107,
   "metadata": {},
   "outputs": [
    {
     "name": "stdout",
     "output_type": "stream",
     "text": [
      "<bound method Series.to_string of age                        29\n",
      "workclass             Private\n",
      "education             HS-grad\n",
      "marital_status        Married\n",
      "occupation        Blue-Collar\n",
      "race                    White\n",
      "gender                 Female\n",
      "hours_per_week             38\n",
      "Name: 0, dtype: object>\n"
     ]
    }
   ],
   "source": [
    "print(test_df.iloc[0].to_string)"
   ]
  },
  {
   "cell_type": "markdown",
   "metadata": {},
   "source": [
    "First, a set of counterfactuals will be generated using the DiCE ML package"
   ]
  },
  {
   "cell_type": "code",
   "execution_count": 108,
   "metadata": {},
   "outputs": [
    {
     "data": {
      "text/plain": [
       "<bound method DataFrame.to_string of    age   workclass  education marital_status    occupation   race  gender  \\\n",
       "0   29  Government  Doctorate        Married   Blue-Collar  White  Female   \n",
       "1   29     Private  Bachelors        Married  Professional  White  Female   \n",
       "2   29     Private      Assoc        Married  White-Collar  White  Female   \n",
       "3   29     Private  Bachelors        Married   Blue-Collar  White    Male   \n",
       "4   29     Private    Masters        Married  Professional  White  Female   \n",
       "\n",
       "   hours_per_week  income  \n",
       "0              38       1  \n",
       "1              38       1  \n",
       "2              38       1  \n",
       "3              38       1  \n",
       "4              38       1  >"
      ]
     },
     "execution_count": 108,
     "metadata": {},
     "output_type": "execute_result"
    }
   ],
   "source": [
    "counterfactuals.to_string"
   ]
  },
  {
   "cell_type": "markdown",
   "metadata": {},
   "source": [
    "A set of rules is extracted from this counterfactual using the LLM"
   ]
  },
  {
   "cell_type": "code",
   "execution_count": 109,
   "metadata": {},
   "outputs": [
    {
     "name": "stdout",
     "output_type": "stream",
     "text": [
      "From the provided data, we can extract the most important observed rules that could potentially affect the outcome of whether a person earns more than $50k a year. Here are the key differences and rules based on the counterfactual cases:\n",
      "\n",
      "### Negative Assessment Outcome\n",
      "- **Age**: 29\n",
      "- **Workclass**: Private\n",
      "- **Education**: HS-grad\n",
      "- **Marital Status**: Married\n",
      "- **Occupation**: Blue-Collar\n",
      "- **Race**: White\n",
      "- **Gender**: Female\n",
      "- **Hours per Week**: 38\n",
      "- **Income**: ≤ $50k\n",
      "\n",
      "### Positive Counterfactual Outcomes\n",
      "1. **Age**: 29\n",
      "   - **Workclass**: Government\n",
      "   - **Education**: Doctorate\n",
      "   - **Marital Status**: Married\n",
      "   - **Occupation**: Blue-Collar\n",
      "   - **Race**: White\n",
      "   - **Gender**: Female\n",
      "   - **Hours per Week**: 38\n",
      "   - **Income**: > $50k\n",
      "\n",
      "2. **Age**: 29\n",
      "   - **Workclass**: Private\n",
      "   - **Education**: Bachelors\n",
      "   - **Marital Status**: Married\n",
      "   - **Occupation**: Professional\n",
      "   - **Race**: White\n",
      "   - **Gender**: Female\n",
      "   - **Hours per Week**: 38\n",
      "   - **Income**: > $50k\n",
      "\n",
      "3. **Age**: 29\n",
      "   - **Workclass**: Private\n",
      "   - **Education**: Assoc\n",
      "   - **Marital Status**: Married\n",
      "   - **Occupation**: White-Collar\n",
      "   - **Race**: White\n",
      "   - **Gender**: Female\n",
      "   - **Hours per Week**: 38\n",
      "   - **Income**: > $50k\n",
      "\n",
      "4. **Age**: 29\n",
      "   - **Workclass**: Private\n",
      "   - **Education**: Bachelors\n",
      "   - **Marital Status**: Married\n",
      "   - **Occupation**: Blue-Collar\n",
      "   - **Race**: White\n",
      "   - **Gender**: Male\n",
      "   - **Hours per Week**: 38\n",
      "   - **Income**: > $50k\n",
      "\n",
      "5. **Age**: 29\n",
      "   - **Workclass**: Private\n",
      "   - **Education**: Masters\n",
      "   - **Marital Status**: Married\n",
      "   - **Occupation**: Professional\n",
      "   - **Race**: White\n",
      "   - **Gender**: Female\n",
      "   - **Hours per Week**: 38\n",
      "   - **Income**: > $50k\n",
      "\n",
      "### Extracted Rules\n",
      "Based on the observed differences between the negative and positive outcomes, here are the most important rules that could help the individual move from earning ≤ $50k to > $50k:\n",
      "\n",
      "1. **Rule 1: Higher Education Level**\n",
      "   - Transition from \"HS-grad\" to \"Doctorate,\" \"Bachelors,\" \"Assoc,\" or \"Masters\" leads to a positive outcome.\n",
      "\n",
      "2. **Rule 2: Different Occupation**\n",
      "   - Transition from \"Blue-Collar\" to \"Professional\" or \"White-Collar\" is associated with earning > $50k.\n",
      "\n",
      "3. **Rule 3: Workclass Change**\n",
      "   - Transition from \"Private\" to \"Government\" is associated with earning > $50k.\n",
      "\n",
      "4. **Rule 4: Gender**\n",
      "   - Transition from \"Female\" to \"Male\" in the same occupation and education level can lead to a positive outcome, indicating a potential gender bias.\n",
      "\n",
      "### Summary\n",
      "The key factors that influence the outcome of earning more than $50k a year include higher education levels, different types of occupations, changes in workclass, and potentially gender. These rules provide insights into how specific changes can positively impact income predictions.\n"
     ]
    }
   ],
   "source": [
    "print(rules)"
   ]
  },
  {
   "cell_type": "markdown",
   "metadata": {},
   "source": [
    "In order to check whether this rules are correct or not, we ask the LLM to create a program that checks it. In the following cell we can see the code generated by the LLM."
   ]
  },
  {
   "cell_type": "code",
   "execution_count": 110,
   "metadata": {},
   "outputs": [
    {
     "name": "stdout",
     "output_type": "stream",
     "text": [
      "import pandas as pd\n",
      "\n",
      "# Define the negative assessment outcome\n",
      "negative_outcome = pd.DataFrame({\n",
      "    'age': [29],\n",
      "    'workclass': ['Private'],\n",
      "    'education': ['HS-grad'],\n",
      "    'marital_status': ['Married'],\n",
      "    'occupation': ['Blue-Collar'],\n",
      "    'race': ['White'],\n",
      "    'gender': ['Female'],\n",
      "    'hours_per_week': [38],\n",
      "    'income': [0]\n",
      "})\n",
      "\n",
      "# Define the positive counterfactual outcomes\n",
      "positive_counterfactuals = pd.DataFrame({\n",
      "    'age': [29, 29, 29, 29, 29],\n",
      "    'workclass': ['Government', 'Private', 'Private', 'Private', 'Private'],\n",
      "    'education': ['Doctorate', 'Bachelors', 'Assoc', 'Bachelors', 'Masters'],\n",
      "    'marital_status': ['Married', 'Married', 'Married', 'Married', 'Married'],\n",
      "    'occupation': ['Blue-Collar', 'Professional', 'White-Collar', 'Blue-Collar', 'Professional'],\n",
      "    'race': ['White', 'White', 'White', 'White', 'White'],\n",
      "    'gender': ['Female', 'Female', 'Female', 'Male', 'Female'],\n",
      "    'hours_per_week': [38, 38, 38, 38, 38],\n",
      "    'income': [1, 1, 1, 1, 1]\n",
      "})\n",
      "\n",
      "# Define the rules\n",
      "rules = {\n",
      "    'Rule 1: Higher Education Level': lambda row: row['education'] in ['Doctorate', 'Bachelors', 'Assoc', 'Masters'],\n",
      "    'Rule 2: Different Occupation': lambda row: row['occupation'] in ['Professional', 'White-Collar'],\n",
      "    'Rule 3: Workclass Change': lambda row: row['workclass'] == 'Government',\n",
      "    'Rule 4: Gender': lambda row: row['gender'] == 'Male'\n",
      "}\n",
      "\n",
      "# Count how many counterfactuals are consistent with each rule\n",
      "results = {rule: positive_counterfactuals.apply(condition, axis=1).sum() for rule, condition in rules.items()}\n",
      "\n",
      "# Order the rules and print the results\n",
      "sorted_results = dict(sorted(results.items(), key=lambda item: item[1], reverse=True))\n",
      "for rule, count in sorted_results.items():\n",
      "    print(f\"{rule}: {count} counterfactual(s) consistent\")\n"
     ]
    }
   ],
   "source": [
    "print(code1)"
   ]
  },
  {
   "cell_type": "markdown",
   "metadata": {},
   "source": [
    "After executing this code, the following results were obtained"
   ]
  },
  {
   "cell_type": "code",
   "execution_count": 111,
   "metadata": {},
   "outputs": [
    {
     "name": "stdout",
     "output_type": "stream",
     "text": [
      "Rule 1: Higher Education Level: 5 counterfactual(s) consistent\n",
      "Rule 2: Different Occupation: 3 counterfactual(s) consistent\n",
      "Rule 3: Workclass Change: 1 counterfactual(s) consistent\n",
      "Rule 4: Gender: 1 counterfactual(s) consistent\n",
      "\n"
     ]
    }
   ],
   "source": [
    "print(result1)"
   ]
  },
  {
   "cell_type": "markdown",
   "metadata": {},
   "source": [
    "By using this causes, the LLM will produce a final explanation, hopefully using the most important causes"
   ]
  },
  {
   "cell_type": "code",
   "execution_count": 112,
   "metadata": {},
   "outputs": [
    {
     "name": "stdout",
     "output_type": "stream",
     "text": [
      "<explanation>\n",
      "\n",
      "Based on the analysis of your data and the counterfactual outcomes, we have identified several key factors that can help you improve your chances of earning more than $50k a year. Here are the most important steps you can take:\n",
      "\n",
      "### 1. Increase Your Education Level\n",
      "The most consistent factor among the positive outcomes is a higher level of education. All of the counterfactual cases that predicted an income of more than $50k involved individuals with higher education levels than your current \"HS-grad\" status. Specifically, obtaining a:\n",
      "\n",
      "- **Doctorate**\n",
      "- **Bachelors**\n",
      "- **Assoc (Associate Degree)**\n",
      "- **Masters**\n",
      "\n",
      "Investing in further education is the most impactful change you can make to increase your earning potential.\n",
      "\n",
      "### 2. Consider Changing Your Occupation\n",
      "Another significant factor is the type of occupation you are in. Moving from a \"Blue-Collar\" job to one of the following can significantly impact your income:\n",
      "\n",
      "- **Professional**\n",
      "- **White-Collar**\n",
      "\n",
      "If possible, seek opportunities that allow you to transition into these types of roles.\n",
      "\n",
      "### 3. Explore Opportunities in Different Workclasses\n",
      "Although less common in the counterfactuals, changing your workclass from \"Private\" to \"Government\" may also help you achieve a higher income. This could involve looking for job opportunities within governmental organizations.\n",
      "\n",
      "### 4. Gender Consideration\n",
      "One of the counterfactuals showed that gender might play a role, with the same education and occupation, a male was predicted to earn more than $50k while a female was not. While it's not actionable to change your gender, being aware of potential gender biases can help you advocate for fair pay and seek organizations that prioritize equity.\n",
      "\n",
      "### Summary\n",
      "To maximize your chances of earning more than $50k a year:\n",
      "1. **Pursue higher education** - Aim for at least a Bachelor's degree or higher.\n",
      "2. **Change your occupation** - Look for opportunities to move into professional or white-collar roles.\n",
      "3. **Consider workclass changes** - Explore job opportunities in the government sector.\n",
      "\n",
      "By focusing on these areas, you can significantly improve your income potential. Good luck!\n",
      "\n",
      "</explanation>\n"
     ]
    }
   ],
   "source": [
    "print(explanation)"
   ]
  },
  {
   "cell_type": "markdown",
   "metadata": {},
   "source": [
    "Now we would like to check the quality of our explanation. As we explain in the paper, we created a close loop evaluation method that checks whether the "
   ]
  },
  {
   "cell_type": "code",
   "execution_count": 113,
   "metadata": {},
   "outputs": [
    {
     "name": "stdout",
     "output_type": "stream",
     "text": [
      "import pandas as pd\n",
      "\n",
      "# Constructing the DataFrame with an example of a positive class profile\n",
      "df = pd.DataFrame({\n",
      "    'age': [35],  # Age above 29, to show more experience\n",
      "    'workclass': ['Government'],  # Changing workclass to 'Government'\n",
      "    'education': ['Bachelors'],  # Higher education level\n",
      "    'marital_status': ['Married'],  # Marital status can remain the same\n",
      "    'occupation': ['Professional'],  # Changing occupation to 'Professional'\n",
      "    'race': ['White'],  # Race remains the same\n",
      "    'gender': ['Female'],  # Gender remains the same\n",
      "    'hours_per_week': [40],  # Slightly higher working hours per week\n",
      "    'income': [1]  # Positive class (earning >$50k)\n",
      "})\n",
      "\n",
      "# Save the DataFrame to a CSV file\n",
      "df.to_csv('temp_csv.csv', index=False)\n"
     ]
    }
   ],
   "source": [
    "print(code2)"
   ]
  },
  {
   "cell_type": "markdown",
   "metadata": {},
   "source": [
    "After executing the code the LLM correctly generated a counterfactual example."
   ]
  },
  {
   "cell_type": "code",
   "execution_count": 114,
   "metadata": {},
   "outputs": [
    {
     "data": {
      "text/html": [
       "<div>\n",
       "<style scoped>\n",
       "    .dataframe tbody tr th:only-of-type {\n",
       "        vertical-align: middle;\n",
       "    }\n",
       "\n",
       "    .dataframe tbody tr th {\n",
       "        vertical-align: top;\n",
       "    }\n",
       "\n",
       "    .dataframe thead th {\n",
       "        text-align: right;\n",
       "    }\n",
       "</style>\n",
       "<table border=\"1\" class=\"dataframe\">\n",
       "  <thead>\n",
       "    <tr style=\"text-align: right;\">\n",
       "      <th></th>\n",
       "      <th>age</th>\n",
       "      <th>workclass</th>\n",
       "      <th>education</th>\n",
       "      <th>marital_status</th>\n",
       "      <th>occupation</th>\n",
       "      <th>race</th>\n",
       "      <th>gender</th>\n",
       "      <th>hours_per_week</th>\n",
       "    </tr>\n",
       "  </thead>\n",
       "  <tbody>\n",
       "    <tr>\n",
       "      <th>0</th>\n",
       "      <td>35</td>\n",
       "      <td>Government</td>\n",
       "      <td>Bachelors</td>\n",
       "      <td>Married</td>\n",
       "      <td>Professional</td>\n",
       "      <td>White</td>\n",
       "      <td>Female</td>\n",
       "      <td>40</td>\n",
       "    </tr>\n",
       "  </tbody>\n",
       "</table>\n",
       "</div>"
      ],
      "text/plain": [
       "   age   workclass  education marital_status    occupation   race  gender  \\\n",
       "0   35  Government  Bachelors        Married  Professional  White  Female   \n",
       "\n",
       "   hours_per_week  \n",
       "0              40  "
      ]
     },
     "execution_count": 114,
     "metadata": {},
     "output_type": "execute_result"
    }
   ],
   "source": [
    "final_cf"
   ]
  },
  {
   "cell_type": "markdown",
   "metadata": {},
   "source": [
    "We will now try to extract metrics from this counterfactual like the predicted class, rules followed and if it exists in the data set. We ask the LLM for code again and this time it will create a table that we can analyze."
   ]
  },
  {
   "cell_type": "code",
   "execution_count": 115,
   "metadata": {},
   "outputs": [
    {
     "name": "stdout",
     "output_type": "stream",
     "text": [
      "import pandas as pd\n",
      "\n",
      "# Read the provided positive example from temp_csv.csv\n",
      "df = pd.read_csv('temp_csv.csv')\n",
      "\n",
      "# Extracted rules and their importance\n",
      "rules = [\n",
      "    {\n",
      "        'Rule': 'Higher Education Level',\n",
      "        'Importance': 5,\n",
      "        'Condition': lambda x: x['education'] in ['Doctorate', 'Bachelors', 'Assoc', 'Masters']\n",
      "    },\n",
      "    {\n",
      "        'Rule': 'Different Occupation',\n",
      "        'Importance': 3,\n",
      "        'Condition': lambda x: x['occupation'] in ['Professional', 'White-Collar']\n",
      "    },\n",
      "    {\n",
      "        'Rule': 'Workclass Change',\n",
      "        'Importance': 1,\n",
      "        'Condition': lambda x: x['workclass'] == 'Government'\n",
      "    },\n",
      "    {\n",
      "        'Rule': 'Gender',\n",
      "        'Importance': 1,\n",
      "        'Condition': lambda x: x['gender'] == 'Male'\n",
      "    }\n",
      "]\n",
      "\n",
      "# Evaluate each rule on the example row\n",
      "results = []\n",
      "for rule in rules:\n",
      "    rule_followed = int(rule['Condition'](df.iloc[0]))\n",
      "    results.append({\n",
      "        'Rule': rule['Rule'],\n",
      "        'Importance': rule['Importance'],\n",
      "        'In explanation': rule_followed\n",
      "    })\n",
      "\n",
      "# Create DataFrame from results\n",
      "df_final = pd.DataFrame(results)\n",
      "\n",
      "# Save to csv\n",
      "df_final.to_csv('evaluation.csv', index=False)\n"
     ]
    }
   ],
   "source": [
    "print(code3)"
   ]
  },
  {
   "cell_type": "code",
   "execution_count": 116,
   "metadata": {},
   "outputs": [
    {
     "data": {
      "text/html": [
       "<div>\n",
       "<style scoped>\n",
       "    .dataframe tbody tr th:only-of-type {\n",
       "        vertical-align: middle;\n",
       "    }\n",
       "\n",
       "    .dataframe tbody tr th {\n",
       "        vertical-align: top;\n",
       "    }\n",
       "\n",
       "    .dataframe thead th {\n",
       "        text-align: right;\n",
       "    }\n",
       "</style>\n",
       "<table border=\"1\" class=\"dataframe\">\n",
       "  <thead>\n",
       "    <tr style=\"text-align: right;\">\n",
       "      <th></th>\n",
       "      <th>Rule</th>\n",
       "      <th>Importance</th>\n",
       "      <th>In explanation</th>\n",
       "    </tr>\n",
       "  </thead>\n",
       "  <tbody>\n",
       "    <tr>\n",
       "      <th>0</th>\n",
       "      <td>Higher Education Level</td>\n",
       "      <td>5</td>\n",
       "      <td>1</td>\n",
       "    </tr>\n",
       "    <tr>\n",
       "      <th>1</th>\n",
       "      <td>Different Occupation</td>\n",
       "      <td>3</td>\n",
       "      <td>1</td>\n",
       "    </tr>\n",
       "    <tr>\n",
       "      <th>2</th>\n",
       "      <td>Workclass Change</td>\n",
       "      <td>1</td>\n",
       "      <td>1</td>\n",
       "    </tr>\n",
       "    <tr>\n",
       "      <th>3</th>\n",
       "      <td>Gender</td>\n",
       "      <td>1</td>\n",
       "      <td>0</td>\n",
       "    </tr>\n",
       "  </tbody>\n",
       "</table>\n",
       "</div>"
      ],
      "text/plain": [
       "                     Rule  Importance  In explanation\n",
       "0  Higher Education Level           5               1\n",
       "1    Different Occupation           3               1\n",
       "2        Workclass Change           1               1\n",
       "3                  Gender           1               0"
      ]
     },
     "execution_count": 116,
     "metadata": {},
     "output_type": "execute_result"
    }
   ],
   "source": [
    "eval_df = pd.read_csv('./temp_files/evaluation.csv')\n",
    "eval_df"
   ]
  },
  {
   "cell_type": "markdown",
   "metadata": {},
   "source": [
    "After analyzing the table we get the following results."
   ]
  },
  {
   "cell_type": "code",
   "execution_count": 117,
   "metadata": {},
   "outputs": [
    {
     "name": "stdout",
     "output_type": "stream",
     "text": [
      "Prediction of the generated example:  1\n",
      "Number of rules generated:  4\n",
      "Number of rules followed:  3\n",
      "1st rule followed  1\n",
      "2nd rule followed  1\n",
      "3rd rule followed  1\n",
      "Example exists in data:  False\n"
     ]
    }
   ],
   "source": [
    "print('Prediction of the generated example: ', prediction)\n",
    "print('Number of rules generated: ', n_rules)\n",
    "print('Number of rules followed: ', rules_followed)\n",
    "print('1st rule followed ', first_rule)\n",
    "print('2nd rule followed ', second_rule)\n",
    "print('3rd rule followed ', third_rule)\n",
    "print('Example exists in data: ', is_in_data)"
   ]
  },
  {
   "cell_type": "markdown",
   "metadata": {},
   "source": [
    "## One Shot"
   ]
  },
  {
   "cell_type": "code",
   "execution_count": 118,
   "metadata": {},
   "outputs": [
    {
     "name": "stderr",
     "output_type": "stream",
     "text": [
      "100%|██████████| 1/1 [00:00<00:00,  2.02it/s]\n"
     ]
    }
   ],
   "source": [
    "exp_m = LLMExplanation4CFs(model = model, #Load the model we want to explain\n",
    "                            model_description = \"\"\"ML-system that predicts wether a person will earn more than 50k $ a year\"\"\", # brief explanation of the ML model\n",
    "                            backend='sklearn', # Framework used to build the model (used to generate counterfactuals)\n",
    "                            dataset_info=string_info(train_dataset.columns, helpers.get_adult_data_info()) , # string information about the dataset\n",
    "                            continuous_features=['age', 'hours_per_week'], # Necessary for the counterfactual generation\n",
    "                            outcome_name= 'income', #Necessary for counterfactual generation\n",
    "                            training_set=train_dataset, #Necessary for counterfactual generation\n",
    "                            test_set= test_dataset, #Necessary to  check novelty of the evaluation example\n",
    "                            llm='gpt-4o', #LLM used, works with Langchain\n",
    "                            prompt_type='one', # zero or one\n",
    "                            n_counterfactuals=5, #Number of counterfactuals used in the explanation \n",
    "                            user_input=False #Human in the loop helping select the causes\n",
    "                           )\n",
    "\n",
    "\n",
    "exp_m.fit()\n",
    "counterfactuals, rules, code1, result1, explanation, code2, final_cf, code3, prediction, n_rules,rules_followed, first_rule, second_rule,third_rule, is_in_cfs, is_in_data = exp_m.explain_evaluate(example = test_df.iloc[[1]], verbose = False,return_all=True)"
   ]
  },
  {
   "cell_type": "markdown",
   "metadata": {},
   "source": [
    "We will looked at the following example of a woman who is predicted to earn less than 50k$ a year. We will look at the whole process followed by the LLM in order to obtain this final explanation."
   ]
  },
  {
   "cell_type": "code",
   "execution_count": 119,
   "metadata": {},
   "outputs": [
    {
     "name": "stdout",
     "output_type": "stream",
     "text": [
      "age                        29\n",
      "workclass             Private\n",
      "education             HS-grad\n",
      "marital_status        Married\n",
      "occupation        Blue-Collar\n",
      "race                    White\n",
      "gender                 Female\n",
      "hours_per_week             38\n",
      "Name: 0, dtype: object\n"
     ]
    }
   ],
   "source": [
    "print(test_df.iloc[0])"
   ]
  },
  {
   "cell_type": "markdown",
   "metadata": {},
   "source": [
    "First, a set of counterfactuals will be generated using the DiCE ML package"
   ]
  },
  {
   "cell_type": "code",
   "execution_count": 120,
   "metadata": {},
   "outputs": [
    {
     "data": {
      "text/html": [
       "<div>\n",
       "<style scoped>\n",
       "    .dataframe tbody tr th:only-of-type {\n",
       "        vertical-align: middle;\n",
       "    }\n",
       "\n",
       "    .dataframe tbody tr th {\n",
       "        vertical-align: top;\n",
       "    }\n",
       "\n",
       "    .dataframe thead th {\n",
       "        text-align: right;\n",
       "    }\n",
       "</style>\n",
       "<table border=\"1\" class=\"dataframe\">\n",
       "  <thead>\n",
       "    <tr style=\"text-align: right;\">\n",
       "      <th></th>\n",
       "      <th>age</th>\n",
       "      <th>workclass</th>\n",
       "      <th>education</th>\n",
       "      <th>marital_status</th>\n",
       "      <th>occupation</th>\n",
       "      <th>race</th>\n",
       "      <th>gender</th>\n",
       "      <th>hours_per_week</th>\n",
       "      <th>income</th>\n",
       "    </tr>\n",
       "  </thead>\n",
       "  <tbody>\n",
       "    <tr>\n",
       "      <th>0</th>\n",
       "      <td>50</td>\n",
       "      <td>Other/Unknown</td>\n",
       "      <td>Some-college</td>\n",
       "      <td>Married</td>\n",
       "      <td>Other/Unknown</td>\n",
       "      <td>Other</td>\n",
       "      <td>Male</td>\n",
       "      <td>23</td>\n",
       "      <td>1</td>\n",
       "    </tr>\n",
       "    <tr>\n",
       "      <th>1</th>\n",
       "      <td>50</td>\n",
       "      <td>Other/Unknown</td>\n",
       "      <td>Some-college</td>\n",
       "      <td>Married</td>\n",
       "      <td>Other/Unknown</td>\n",
       "      <td>Other</td>\n",
       "      <td>Male</td>\n",
       "      <td>75</td>\n",
       "      <td>1</td>\n",
       "    </tr>\n",
       "    <tr>\n",
       "      <th>2</th>\n",
       "      <td>50</td>\n",
       "      <td>Private</td>\n",
       "      <td>Doctorate</td>\n",
       "      <td>Married</td>\n",
       "      <td>Other/Unknown</td>\n",
       "      <td>White</td>\n",
       "      <td>Male</td>\n",
       "      <td>40</td>\n",
       "      <td>1</td>\n",
       "    </tr>\n",
       "    <tr>\n",
       "      <th>3</th>\n",
       "      <td>50</td>\n",
       "      <td>Other/Unknown</td>\n",
       "      <td>Some-college</td>\n",
       "      <td>Married</td>\n",
       "      <td>Other/Unknown</td>\n",
       "      <td>Other</td>\n",
       "      <td>Male</td>\n",
       "      <td>69</td>\n",
       "      <td>1</td>\n",
       "    </tr>\n",
       "    <tr>\n",
       "      <th>4</th>\n",
       "      <td>50</td>\n",
       "      <td>Other/Unknown</td>\n",
       "      <td>Some-college</td>\n",
       "      <td>Married</td>\n",
       "      <td>Other/Unknown</td>\n",
       "      <td>Other</td>\n",
       "      <td>Male</td>\n",
       "      <td>99</td>\n",
       "      <td>1</td>\n",
       "    </tr>\n",
       "  </tbody>\n",
       "</table>\n",
       "</div>"
      ],
      "text/plain": [
       "   age      workclass     education marital_status     occupation   race  \\\n",
       "0   50  Other/Unknown  Some-college        Married  Other/Unknown  Other   \n",
       "1   50  Other/Unknown  Some-college        Married  Other/Unknown  Other   \n",
       "2   50        Private     Doctorate        Married  Other/Unknown  White   \n",
       "3   50  Other/Unknown  Some-college        Married  Other/Unknown  Other   \n",
       "4   50  Other/Unknown  Some-college        Married  Other/Unknown  Other   \n",
       "\n",
       "  gender  hours_per_week  income  \n",
       "0   Male              23       1  \n",
       "1   Male              75       1  \n",
       "2   Male              40       1  \n",
       "3   Male              69       1  \n",
       "4   Male              99       1  "
      ]
     },
     "execution_count": 120,
     "metadata": {},
     "output_type": "execute_result"
    }
   ],
   "source": [
    "counterfactuals"
   ]
  },
  {
   "cell_type": "markdown",
   "metadata": {},
   "source": [
    "A set of rules is extracted from this counterfactual using the LLM"
   ]
  },
  {
   "cell_type": "code",
   "execution_count": 121,
   "metadata": {},
   "outputs": [
    {
     "name": "stdout",
     "output_type": "stream",
     "text": [
      "To solve the problem, we need to:\n",
      "\n",
      "1. Extract the most important observed rules from the counterfactual cases.\n",
      "2. Generate Python code to count how many of the counterfactuals are consistent with the rules.\n",
      "3. Order the rules based on their consistency with the counterfactuals.\n",
      "4. Print the results.\n",
      "\n",
      "Let's start by analyzing the counterfactual cases to extract the rules:\n",
      "\n",
      "**Rules from Positive Counterfactuals:**\n",
      "\n",
      "1. Higher education (Doctorate) leads to higher income.\n",
      "2. More hours per week (23, 75, 40, 69, 99) can lead to higher income.\n",
      "\n",
      "Now let's write Python code to count how many of the counterfactuals are consistent with the rules:\n",
      "\n",
      "```python\n",
      "import pandas as pd\n",
      "\n",
      "# Given negative assessment outcome\n",
      "negative_outcome = pd.DataFrame({\n",
      "    'age': [50],\n",
      "    'workclass': ['Other/Unknown'],\n",
      "    'education': ['Some-college'],\n",
      "    'marital_status': ['Married'],\n",
      "    'occupation': ['Other/Unknown'],\n",
      "    'race': ['White'],\n",
      "    'gender': ['Male'],\n",
      "    'hours_per_week': [40],\n",
      "    'income': [0]\n",
      "})\n",
      "\n",
      "# Given positive counterfactual outcome\n",
      "positive_counterfactuals = pd.DataFrame({\n",
      "    'age': [50, 50, 50, 50, 50],\n",
      "    'workclass': ['Other/Unknown', 'Other/Unknown', 'Private', 'Other/Unknown', 'Other/Unknown'],\n",
      "    'education': ['Some-college', 'Some-college', 'Doctorate', 'Some-college', 'Some-college'],\n",
      "    'marital_status': ['Married', 'Married', 'Married', 'Married', 'Married'],\n",
      "    'occupation': ['Other/Unknown', 'Other/Unknown', 'Other/Unknown', 'Other/Unknown', 'Other/Unknown'],\n",
      "    'race': ['Other', 'Other', 'White', 'Other', 'Other'],\n",
      "    'gender': ['Male', 'Male', 'Male', 'Male', 'Male'],\n",
      "    'hours_per_week': [23, 75, 40, 69, 99],\n",
      "    'income': [1, 1, 1, 1, 1]\n",
      "})\n",
      "\n",
      "# Define rules\n",
      "rules = {\n",
      "    \"Higher education leads to higher income\": lambda df: df['education'].isin(['Doctorate', 'Masters', 'Bachelors', 'Prof-school']),\n",
      "    \"More hours per week can lead to higher income\": lambda df: df['hours_per_week'] > 40\n",
      "}\n",
      "\n",
      "# Check consistency with rules\n",
      "results = {}\n",
      "for rule, condition in rules.items():\n",
      "    results[rule] = condition(positive_counterfactuals).sum()\n",
      "\n",
      "# Order rules by consistency\n",
      "ordered_results = dict(sorted(results.items(), key=lambda item: item[1], reverse=True))\n",
      "\n",
      "# Print results\n",
      "for rule, count in ordered_results.items():\n",
      "    print(f\"{rule}: {count} out of {len(positive_counterfactuals)} counterfactuals\")\n",
      "```\n",
      "\n",
      "### Explanation:\n",
      "\n",
      "1. **DataFrames Creation**: We create DataFrames for the negative outcome and positive counterfactuals based on the given data.\n",
      "\n",
      "2. **Rules Definition**: We define the rules using lambda functions to check the conditions on the DataFrame.\n",
      "\n",
      "3. **Consistency Check**: For each rule, we apply the corresponding lambda function to the DataFrame of positive counterfactuals and count how many rows meet the condition.\n",
      "\n",
      "4. **Sorting and Printing**: We sort the rules based on the count of consistent counterfactuals and print the results.\n",
      "\n",
      "This code will provide you with the number of counterfactuals that are consistent with each rule, ordered from the most to the least consistent.\n"
     ]
    }
   ],
   "source": [
    "print(rules)"
   ]
  },
  {
   "cell_type": "markdown",
   "metadata": {},
   "source": [
    "In order to check whether this rules are correct or not, we ask the LLM to create a program that checks it. In the following cell we can see the code generated by the LLM."
   ]
  },
  {
   "cell_type": "code",
   "execution_count": 122,
   "metadata": {},
   "outputs": [
    {
     "name": "stdout",
     "output_type": "stream",
     "text": [
      "import pandas as pd\n",
      "\n",
      "# Given negative assessment outcome\n",
      "negative_outcome = pd.DataFrame({\n",
      "    'age': [50],\n",
      "    'workclass': ['Other/Unknown'],\n",
      "    'education': ['Some-college'],\n",
      "    'marital_status': ['Married'],\n",
      "    'occupation': ['Other/Unknown'],\n",
      "    'race': ['White'],\n",
      "    'gender': ['Male'],\n",
      "    'hours_per_week': [40],\n",
      "    'income': [0]\n",
      "})\n",
      "\n",
      "# Given positive counterfactual outcome\n",
      "positive_counterfactuals = pd.DataFrame({\n",
      "    'age': [50, 50, 50, 50, 50],\n",
      "    'workclass': ['Other/Unknown', 'Other/Unknown', 'Private', 'Other/Unknown', 'Other/Unknown'],\n",
      "    'education': ['Some-college', 'Some-college', 'Doctorate', 'Some-college', 'Some-college'],\n",
      "    'marital_status': ['Married', 'Married', 'Married', 'Married', 'Married'],\n",
      "    'occupation': ['Other/Unknown', 'Other/Unknown', 'Other/Unknown', 'Other/Unknown', 'Other/Unknown'],\n",
      "    'race': ['Other', 'Other', 'White', 'Other', 'Other'],\n",
      "    'gender': ['Male'],\n",
      "    'hours_per_week': [23, 75, 40, 69, 99],\n",
      "    'income': [1, 1, 1, 1, 1]\n",
      "})\n",
      "\n",
      "# Define rules\n",
      "rules = {\n",
      "    \"Higher education leads to higher income\": lambda df: df['education'].isin(['Doctorate', 'Masters', 'Bachelors', 'Prof-school']),\n",
      "    \"More hours per week can lead to higher income\": lambda df: df['hours_per_week'] > 40\n",
      "}\n",
      "\n",
      "# Check consistency with rules\n",
      "results = {}\n",
      "for rule, condition in rules.items():\n",
      "    results[rule] = condition(positive_counterfactuals).sum()\n",
      "\n",
      "# Order rules by consistency\n",
      "ordered_results = dict(sorted(results.items(), key=lambda item: item[1], reverse=True))\n",
      "\n",
      "# Print results\n",
      "for rule, count in ordered_results.items():\n",
      "    print(f\"{rule}: {count} out of {len(positive_counterfactuals)} counterfactuals\")\n"
     ]
    }
   ],
   "source": [
    "print(code1)"
   ]
  },
  {
   "cell_type": "markdown",
   "metadata": {},
   "source": [
    "After executing this code, the following results were obtained"
   ]
  },
  {
   "cell_type": "code",
   "execution_count": 123,
   "metadata": {},
   "outputs": [
    {
     "name": "stdout",
     "output_type": "stream",
     "text": [
      "Traceback (most recent call last):\n",
      "  File \"c:\\Users\\afred\\REPOS\\HI-AI-KDD24-LMM-4-CFs-Explanation\\temp_code.py\", line 17, in <module>\n",
      "    positive_counterfactuals = pd.DataFrame({\n",
      "  File \"c:\\Users\\afred\\miniconda3\\envs\\kdd\\lib\\site-packages\\pandas\\core\\frame.py\", line 664, in __init__\n",
      "    mgr = dict_to_mgr(data, index, columns, dtype=dtype, copy=copy, typ=manager)\n",
      "  File \"c:\\Users\\afred\\miniconda3\\envs\\kdd\\lib\\site-packages\\pandas\\core\\internals\\construction.py\", line 493, in dict_to_mgr\n",
      "    return arrays_to_mgr(arrays, columns, index, dtype=dtype, typ=typ, consolidate=copy)\n",
      "  File \"c:\\Users\\afred\\miniconda3\\envs\\kdd\\lib\\site-packages\\pandas\\core\\internals\\construction.py\", line 118, in arrays_to_mgr\n",
      "    index = _extract_index(arrays)\n",
      "  File \"c:\\Users\\afred\\miniconda3\\envs\\kdd\\lib\\site-packages\\pandas\\core\\internals\\construction.py\", line 666, in _extract_index\n",
      "    raise ValueError(\"All arrays must be of the same length\")\n",
      "ValueError: All arrays must be of the same length\n",
      "\n"
     ]
    }
   ],
   "source": [
    "print(result1)"
   ]
  },
  {
   "cell_type": "markdown",
   "metadata": {},
   "source": [
    "By using this causes, the LLM will produce a final explanation, hopefully using the most important causes"
   ]
  },
  {
   "cell_type": "code",
   "execution_count": 124,
   "metadata": {},
   "outputs": [
    {
     "name": "stdout",
     "output_type": "stream",
     "text": [
      "Based on the provided information, let's proceed with the necessary steps to extract the observed rules from the counterfactual cases, write Python code to count the consistent counterfactuals, and provide a clear explanation to the user.\n",
      "\n",
      "### Step 1: Extract Observed Rules from Counterfactual Cases\n",
      "\n",
      "**Rules from Positive Counterfactuals:**\n",
      "1. Higher education (Doctorate) leads to higher income.\n",
      "2. More hours per week (23, 75, 40, 69, 99) can lead to higher income.\n",
      "\n",
      "### Step 2: Write Python Code to Count Consistent Counterfactuals\n",
      "\n",
      "Let's write the Python code to count how many of the counterfactuals are consistent with the rules:\n",
      "\n",
      "```python\n",
      "import pandas as pd\n",
      "\n",
      "# Given negative assessment outcome\n",
      "negative_outcome = pd.DataFrame({\n",
      "    'age': [50],\n",
      "    'workclass': ['Other/Unknown'],\n",
      "    'education': ['Some-college'],\n",
      "    'marital_status': ['Married'],\n",
      "    'occupation': ['Other/Unknown'],\n",
      "    'race': ['White'],\n",
      "    'gender': ['Male'],\n",
      "    'hours_per_week': [40],\n",
      "    'income': [0]\n",
      "})\n",
      "\n",
      "# Given positive counterfactual outcome\n",
      "positive_counterfactuals = pd.DataFrame({\n",
      "    'age': [50, 50, 50, 50, 50],\n",
      "    'workclass': ['Other/Unknown', 'Other/Unknown', 'Private', 'Other/Unknown', 'Other/Unknown'],\n",
      "    'education': ['Some-college', 'Some-college', 'Doctorate', 'Some-college', 'Some-college'],\n",
      "    'marital_status': ['Married', 'Married', 'Married', 'Married', 'Married'],\n",
      "    'occupation': ['Other/Unknown', 'Other/Unknown', 'Other/Unknown', 'Other/Unknown', 'Other/Unknown'],\n",
      "    'race': ['Other', 'Other', 'White', 'Other', 'Other'],\n",
      "    'gender': ['Male', 'Male', 'Male', 'Male', 'Male'],\n",
      "    'hours_per_week': [23, 75, 40, 69, 99],\n",
      "    'income': [1, 1, 1, 1, 1]\n",
      "})\n",
      "\n",
      "# Define rules\n",
      "rules = {\n",
      "    \"Higher education leads to higher income\": lambda df: df['education'].isin(['Doctorate', 'Masters', 'Bachelors', 'Prof-school']),\n",
      "    \"More hours per week can lead to higher income\": lambda df: df['hours_per_week'] > 40\n",
      "}\n",
      "\n",
      "# Check consistency with rules\n",
      "results = {}\n",
      "for rule, condition in rules.items():\n",
      "    results[rule] = condition(positive_counterfactuals).sum()\n",
      "\n",
      "# Order rules by consistency\n",
      "ordered_results = dict(sorted(results.items(), key=lambda item: item[1], reverse=True))\n",
      "\n",
      "# Print results\n",
      "for rule, count in ordered_results.items():\n",
      "    print(f\"{rule}: {count} out of {len(positive_counterfactuals)} counterfactuals\")\n",
      "```\n",
      "\n",
      "### Step 3: Provide Explanation to the User\n",
      "\n",
      "Given the results of the analysis, here's a plain language explanation to help the user improve their chances of changing class:\n",
      "\n",
      "### Explanation:\n",
      "\n",
      "Based on the results obtained from the analysis, certain factors significantly influence the likelihood of achieving a higher income. Here's a plain language explanation targeting improvement:\n",
      "\n",
      "1. **Pursue Higher Education**: The analysis shows that obtaining a higher education degree, such as a Doctorate, significantly increases your chances of a higher income. This indicates that investing time and resources in further education can be a valuable path to improving your economic standing.\n",
      "\n",
      "2. **Increase Work Hours**: Working more hours per week can also lead to higher income. The counterfactuals show that working more than 40 hours a week is associated with a higher income. If feasible, consider increasing your work hours to align with this trend.\n",
      "\n",
      "Improving your chances of moving to a higher income class involves strategic decisions about your education and work hours. Focusing on acquiring higher education and increasing your work hours can make a substantial difference.\n"
     ]
    }
   ],
   "source": [
    "print(explanation)"
   ]
  },
  {
   "cell_type": "markdown",
   "metadata": {},
   "source": [
    "Now we would like to check the quality of our explanation. As we explain in the paper, we created a close loop evaluation method that checks whether the "
   ]
  },
  {
   "cell_type": "code",
   "execution_count": 125,
   "metadata": {},
   "outputs": [
    {
     "name": "stdout",
     "output_type": "stream",
     "text": [
      "import pandas as pd\n",
      "\n",
      "# Define the data for the DataFrame\n",
      "data = {\n",
      "    'age': [50],\n",
      "    'workclass': ['Other/Unknown'],\n",
      "    'education': ['Doctorate'],  # Higher education\n",
      "    'marital_status': ['Married'],\n",
      "    'occupation': ['Other/Unknown'],\n",
      "    'race': ['White'],\n",
      "    'gender': ['Male'],\n",
      "    'hours_per_week': [60],  # Increased work hours\n",
      "    'income': [1]  # Positive class\n",
      "}\n",
      "\n",
      "# Create the DataFrame\n",
      "df = pd.DataFrame(data)\n",
      "\n",
      "# Save to csv\n",
      "df.to_csv('temp_csv.csv', index=False)\n"
     ]
    }
   ],
   "source": [
    "print(code2)"
   ]
  },
  {
   "cell_type": "markdown",
   "metadata": {},
   "source": [
    "After executing the code the LLM correctly generated a counterfactual example."
   ]
  },
  {
   "cell_type": "code",
   "execution_count": 126,
   "metadata": {},
   "outputs": [
    {
     "data": {
      "text/html": [
       "<div>\n",
       "<style scoped>\n",
       "    .dataframe tbody tr th:only-of-type {\n",
       "        vertical-align: middle;\n",
       "    }\n",
       "\n",
       "    .dataframe tbody tr th {\n",
       "        vertical-align: top;\n",
       "    }\n",
       "\n",
       "    .dataframe thead th {\n",
       "        text-align: right;\n",
       "    }\n",
       "</style>\n",
       "<table border=\"1\" class=\"dataframe\">\n",
       "  <thead>\n",
       "    <tr style=\"text-align: right;\">\n",
       "      <th></th>\n",
       "      <th>age</th>\n",
       "      <th>workclass</th>\n",
       "      <th>education</th>\n",
       "      <th>marital_status</th>\n",
       "      <th>occupation</th>\n",
       "      <th>race</th>\n",
       "      <th>gender</th>\n",
       "      <th>hours_per_week</th>\n",
       "    </tr>\n",
       "  </thead>\n",
       "  <tbody>\n",
       "    <tr>\n",
       "      <th>0</th>\n",
       "      <td>50</td>\n",
       "      <td>Other/Unknown</td>\n",
       "      <td>Doctorate</td>\n",
       "      <td>Married</td>\n",
       "      <td>Other/Unknown</td>\n",
       "      <td>White</td>\n",
       "      <td>Male</td>\n",
       "      <td>60</td>\n",
       "    </tr>\n",
       "  </tbody>\n",
       "</table>\n",
       "</div>"
      ],
      "text/plain": [
       "   age      workclass  education marital_status     occupation   race gender  \\\n",
       "0   50  Other/Unknown  Doctorate        Married  Other/Unknown  White   Male   \n",
       "\n",
       "   hours_per_week  \n",
       "0              60  "
      ]
     },
     "execution_count": 126,
     "metadata": {},
     "output_type": "execute_result"
    }
   ],
   "source": [
    "final_cf"
   ]
  },
  {
   "cell_type": "markdown",
   "metadata": {},
   "source": [
    "We will now try to extract metrics from this counterfactual like the predicted class, rules followed and if it exists in the data set. We ask the LLM for code again and this time it will create a table that we can analyze."
   ]
  },
  {
   "cell_type": "code",
   "execution_count": 127,
   "metadata": {},
   "outputs": [
    {
     "name": "stdout",
     "output_type": "stream",
     "text": [
      "import pandas as pd\n",
      "\n",
      "# Read the example from temp_csv.csv\n",
      "df = pd.read_csv('temp_csv.csv')\n",
      "\n",
      "# Define the rules and their importance\n",
      "rules = [\n",
      "    {'Rule': 'Higher education (Masters, Doctorate, Bachelors, Prof-school) leads to higher income.', 'Importance': 5},\n",
      "    {'Rule': 'Sales, Professional, and White-Collar occupations lead to higher income.', 'Importance': 3},\n",
      "    {'Rule': 'Gender being Male leads to higher income.', 'Importance': 1}\n",
      "]\n",
      "\n",
      "# Initialize the 'In explanation' column with 0\n",
      "for rule in rules:\n",
      "    rule['In explanation'] = 0\n",
      "\n",
      "# Check the rules\n",
      "if df['education'].iloc[0] in ['Masters', 'Doctorate', 'Bachelors', 'Prof-school']:\n",
      "    rules[0]['In explanation'] = 1\n",
      "if df['occupation'].iloc[0] in ['Sales', 'Professional', 'White-Collar']:\n",
      "    rules[1]['In explanation'] = 1\n",
      "if df['gender'].iloc[0] == 'Male':\n",
      "    rules[2]['In explanation'] = 1\n",
      "\n",
      "# Create the DataFrame\n",
      "df_final = pd.DataFrame(rules)\n",
      "\n",
      "# Save to csv\n",
      "df_final.to_csv('evaluation.csv', index=False)\n"
     ]
    }
   ],
   "source": [
    "print(code3)"
   ]
  },
  {
   "cell_type": "code",
   "execution_count": 128,
   "metadata": {},
   "outputs": [
    {
     "data": {
      "text/html": [
       "<div>\n",
       "<style scoped>\n",
       "    .dataframe tbody tr th:only-of-type {\n",
       "        vertical-align: middle;\n",
       "    }\n",
       "\n",
       "    .dataframe tbody tr th {\n",
       "        vertical-align: top;\n",
       "    }\n",
       "\n",
       "    .dataframe thead th {\n",
       "        text-align: right;\n",
       "    }\n",
       "</style>\n",
       "<table border=\"1\" class=\"dataframe\">\n",
       "  <thead>\n",
       "    <tr style=\"text-align: right;\">\n",
       "      <th></th>\n",
       "      <th>Rule</th>\n",
       "      <th>Importance</th>\n",
       "      <th>In explanation</th>\n",
       "    </tr>\n",
       "  </thead>\n",
       "  <tbody>\n",
       "    <tr>\n",
       "      <th>0</th>\n",
       "      <td>Higher education (Masters, Doctorate, Bachelor...</td>\n",
       "      <td>5</td>\n",
       "      <td>1</td>\n",
       "    </tr>\n",
       "    <tr>\n",
       "      <th>1</th>\n",
       "      <td>Sales, Professional, and White-Collar occupati...</td>\n",
       "      <td>3</td>\n",
       "      <td>0</td>\n",
       "    </tr>\n",
       "    <tr>\n",
       "      <th>2</th>\n",
       "      <td>Gender being Male leads to higher income.</td>\n",
       "      <td>1</td>\n",
       "      <td>1</td>\n",
       "    </tr>\n",
       "  </tbody>\n",
       "</table>\n",
       "</div>"
      ],
      "text/plain": [
       "                                                Rule  Importance  \\\n",
       "0  Higher education (Masters, Doctorate, Bachelor...           5   \n",
       "1  Sales, Professional, and White-Collar occupati...           3   \n",
       "2          Gender being Male leads to higher income.           1   \n",
       "\n",
       "   In explanation  \n",
       "0               1  \n",
       "1               0  \n",
       "2               1  "
      ]
     },
     "execution_count": 128,
     "metadata": {},
     "output_type": "execute_result"
    }
   ],
   "source": [
    "eval_df = pd.read_csv('./temp_files/evaluation.csv')\n",
    "eval_df"
   ]
  },
  {
   "cell_type": "markdown",
   "metadata": {},
   "source": [
    "After analyzing the table we get the following results."
   ]
  },
  {
   "cell_type": "code",
   "execution_count": 129,
   "metadata": {},
   "outputs": [
    {
     "name": "stdout",
     "output_type": "stream",
     "text": [
      "Prediction of the generated example:  1\n",
      "Number of rules generated:  3\n",
      "Number of rules followed:  2\n",
      "1st rule followed  1\n",
      "2nd rule followed  0\n",
      "3rd rule followed  1\n",
      "Example exists in data:  False\n"
     ]
    }
   ],
   "source": [
    "print('Prediction of the generated example: ', prediction)\n",
    "print('Number of rules generated: ', n_rules)\n",
    "print('Number of rules followed: ', rules_followed)\n",
    "print('1st rule followed ', first_rule)\n",
    "print('2nd rule followed ', second_rule)\n",
    "print('3rd rule followed ', third_rule)\n",
    "print('Example exists in data: ', is_in_data)"
   ]
  },
  {
   "cell_type": "markdown",
   "metadata": {},
   "source": [
    "## Tree of Thought\n",
    "Tree of thought will open a given amount of branches and for each one of them an explanation will be generated like in the previous examples"
   ]
  },
  {
   "cell_type": "code",
   "execution_count": 15,
   "metadata": {},
   "outputs": [
    {
     "name": "stderr",
     "output_type": "stream",
     "text": [
      "100%|██████████| 1/1 [00:00<00:00,  3.97it/s]\n",
      "100%|██████████| 1/1 [00:00<00:00,  4.92it/s]\n",
      "100%|██████████| 1/1 [00:00<00:00,  4.18it/s]\n"
     ]
    }
   ],
   "source": [
    "exp_m = ToTLLMExplanation4CFs(model = model, #Load the model we want to explain\n",
    "                        model_description = \"\"\"ML-system that predicts wether a person will earn more than 50k $ a year\"\"\", # brief explanation of the ML model\n",
    "                        backend='sklearn', # Framework used to build the model (used to generate counterfactuals)\n",
    "                        dataset_info=string_info(train_dataset.columns, helpers.get_adult_data_info()) , # string information about the dataset\n",
    "                        continuous_features=['age', 'hours_per_week'], # Necessary for the counterfactual generation\n",
    "                        outcome_name= 'income', #Necessary for counterfactual generation\n",
    "                        training_set=train_dataset, #Necessary for counterfactual generation\n",
    "                        test_set= test_dataset, #Necessary to  check novelty of the evaluation example\n",
    "                        llm='gpt-4o', #LLM used, works with Langchain\n",
    "                        prompt_type='zero', # zero or one\n",
    "                        n_counterfactuals=5, #Number of counterfactuals used in the explanation \n",
    "                        user_input=False, #Human in the loop helping select the causes\n",
    "                        branches = 3\n",
    "                    )\n",
    "exp_m.fit()\n",
    "\n",
    "out, explanation, code2, final_cf, code3, final_df, prediction, n_rules,rules_followed, first_rule, second_rule,third_rule, in_data = exp_m.explain_evaluate(user_data = test_df.iloc[[1]], verbose = False,return_all=True)  "
   ]
  },
  {
   "cell_type": "markdown",
   "metadata": {},
   "source": [
    "After this process is done, we join all the examples in order ro feed them to the LLM"
   ]
  },
  {
   "cell_type": "code",
   "execution_count": 4,
   "metadata": {},
   "outputs": [
    {
     "name": "stdout",
     "output_type": "stream",
     "text": [
      "\n",
      "\n",
      "System1:\n",
      "Rules:\n",
      "Based on the provided negative and positive counterfactual outcomes from the machine learning system, here are the extracted rules that seem to influence whether a person will earn more than $50k a year:\n",
      "\n",
      "1. **Age**:\n",
      "   - **Positive Influence**: Being older, especially around 62 and 75 years old, appears to positively influence the likelihood of earning more than $50k.\n",
      "   \n",
      "2. **Workclass**:\n",
      "   - **Positive Influence**: Being \"Self-Employed\" has a positive impact on income prediction.\n",
      "   \n",
      "3. **Education**:\n",
      "   - **Positive Influence**: Having higher education levels such as \"Masters\" or \"Doctorate\" increases the likelihood of earning more than $50k. Even \"Some-college\" education can result in a positive income outcome.\n",
      "   \n",
      "4. **Occupation**:\n",
      "   - **Positive Influence**: Working in the \"Service\" sector appears to be influential in earning more than $50k when compared to \"Other/Unknown\" occupations.\n",
      "   \n",
      "5. **Race**:\n",
      "   - **Positive Influence**: Being of a race other than \"White\" (i.e., \"Other\") seems to have a positive impact on the income prediction in some cases.\n",
      "   \n",
      "6. **Gender**:\n",
      "   - The gender \"Male\" is consistent across both negative and positive outcomes, suggesting that gender alone might not be a significant differentiator in these particular cases.\n",
      "   \n",
      "7. **Hours per Week**:\n",
      "   - Working 40 hours per week is consistent across both negative and positive outcomes, suggesting that this factor alone might not be a significant differentiator in these particular cases.\n",
      "\n",
      "### List of Rules\n",
      "1. **Age Rule**: Individuals around the age of 62 and 75 are more likely to earn more than $50k.\n",
      "2. **Workclass Rule**: Being \"Self-Employed\" increases the likelihood of earning more than $50k.\n",
      "3. **Education Rule**: Having a \"Doctorate\" or \"Masters\" degree, or even \"Some-college\" education, positively influences income.\n",
      "4. **Occupation Rule**: Working in the \"Service\" sector can result in earning more than $50k.\n",
      "5. **Race Rule**: Being of a race other than \"White\" can positively impact income prediction.\n",
      "\n",
      "These rules are derived from observing the patterns in the counterfactual cases where the income prediction is positive.\n",
      "Results:\n",
      "Age Rule: 2 counterfactuals follow this rule\n",
      "Education Rule: 5 counterfactuals follow this rule\n",
      "Occupation Rule: 1 counterfactuals follow this rule\n",
      "Race Rule: 3 counterfactuals follow this rule\n",
      "Workclass Rule: 2 counterfactuals follow this rule\n",
      "\n",
      "Explanation:\n",
      "### Explanation\n",
      "\n",
      "Based on the analysis of the data and the rules extracted from the machine learning system, here are some actionable steps you can take to improve your chances of earning more than $50,000 a year:\n",
      "\n",
      "1. **Education**:\n",
      "   - **Increase Your Education Level**: The most significant factor influencing higher income is education. All five positive counterfactuals show that having higher education levels such as a Master's degree, Doctorate degree, or even some college education can significantly improve your chances. Consider pursuing further education or obtaining additional certifications relevant to your field.\n",
      "\n",
      "2. **Race**:\n",
      "   - **Awareness of Systemic Factors**: The data suggests that being of a race other than \"White\" is associated with higher income in some instances. While you cannot change your race, being aware of systemic factors and seeking out supportive communities and networks may provide advantages. Networking and finding mentorship within diverse communities could provide additional opportunities.\n",
      "\n",
      "3. **Workclass**:\n",
      "   - **Consider Self-Employment**: Two counterfactuals indicate that being self-employed can positively impact your income. If feasible, consider exploring self-employment or entrepreneurial opportunities in your field. This could provide more control over your income potential and allow for greater flexibility and growth.\n",
      "\n",
      "4. **Age**:\n",
      "   - **Leverage Experience**: Although age is not something you can change, two counterfactuals show that older individuals (around 62 and 75) are more likely to earn higher incomes. Leverage your experience and consider roles or industries that value and reward experience and expertise.\n",
      "\n",
      "5. **Occupation**:\n",
      "   - **Explore the Service Sector**: One counterfactual suggests that working in the \"Service\" sector is associated with higher income. If applicable, look for opportunities within the service industry or consider roles that might transition into this sector.\n",
      "\n",
      "### Summary\n",
      "\n",
      "To increase your chances of earning more than $50,000 a year, focus primarily on improving your education level. Pursue further education or certifications that could enhance your qualifications. Additionally, consider self-employment opportunities and leverage your experience in fields that value it. Being aware of systemic factors and seeking supportive networks can also be beneficial. Lastly, explore opportunities in the service sector if it aligns with your skills and interests.\n",
      "\n",
      "By following these actionable steps, you can improve your profile and increase your likelihood of achieving a higher income.\n",
      "\n",
      "System2:\n",
      "Rules:\n",
      "To extract the most important observed rules from the given negative and positive counterfactual outcomes, we will compare the attributes and identify the key differences that led to the positive outcome (earning more than $50k a year).\n",
      "\n",
      "### Negative Assessment Outcome\n",
      "- **Age:** 50\n",
      "- **Workclass:** Other/Unknown\n",
      "- **Education:** Some-college\n",
      "- **Marital Status:** Married\n",
      "- **Occupation:** Other/Unknown\n",
      "- **Race:** White\n",
      "- **Gender:** Male\n",
      "- **Hours per week:** 40\n",
      "- **Income:** 0\n",
      "\n",
      "### Positive Counterfactual Outcomes\n",
      "1. **Case 1:**\n",
      "   - **Age:** 50\n",
      "   - **Workclass:** Other/Unknown\n",
      "   - **Education:** Prof-school\n",
      "   - **Marital Status:** Married\n",
      "   - **Occupation:** Sales\n",
      "   - **Race:** White\n",
      "   - **Gender:** Male\n",
      "   - **Hours per week:** 40\n",
      "   - **Income:** 1\n",
      "\n",
      "2. **Case 2:**\n",
      "   - **Age:** 50\n",
      "   - **Workclass:** Government\n",
      "   - **Education:** Bachelors\n",
      "   - **Marital Status:** Married\n",
      "   - **Occupation:** Other/Unknown\n",
      "   - **Race:** White\n",
      "   - **Gender:** Male\n",
      "   - **Hours per week:** 40\n",
      "   - **Income:** 1\n",
      "\n",
      "3. **Case 3:**\n",
      "   - **Age:** 51\n",
      "   - **Workclass:** Other/Unknown\n",
      "   - **Education:** Some-college\n",
      "   - **Marital Status:** Married\n",
      "   - **Occupation:** Other/Unknown\n",
      "   - **Race:** Other\n",
      "   - **Gender:** Male\n",
      "   - **Hours per week:** 40\n",
      "   - **Income:** 1\n",
      "\n",
      "4. **Case 4:**\n",
      "   - **Age:** 50\n",
      "   - **Workclass:** Other/Unknown\n",
      "   - **Education:** Some-college\n",
      "   - **Marital Status:** Married\n",
      "   - **Occupation:** Other/Unknown\n",
      "   - **Race:** Other\n",
      "   - **Gender:** Male\n",
      "   - **Hours per week:** 66\n",
      "   - **Income:** 1\n",
      "\n",
      "5. **Case 5:**\n",
      "   - **Age:** 41\n",
      "   - **Workclass:** Other/Unknown\n",
      "   - **Education:** Prof-school\n",
      "   - **Marital Status:** Married\n",
      "   - **Occupation:** Other/Unknown\n",
      "   - **Race:** White\n",
      "   - **Gender:** Male\n",
      "   - **Hours per week:** 40\n",
      "   - **Income:** 1\n",
      "\n",
      "### Extracted Rules\n",
      "From the counterfactual cases, we can observe the following rules that could potentially lead to a positive income outcome (earning more than $50k a year):\n",
      "\n",
      "1. **Rule 1: Higher Education Level**\n",
      "   - An advancement in education level from \"Some-college\" to \"Prof-school\" (Professional School) or \"Bachelors\" is associated with a positive income outcome.\n",
      "   - **Example:** Case 1 (Prof-school), Case 2 (Bachelors), Case 5 (Prof-school).\n",
      "\n",
      "2. **Rule 2: Change in Workclass**\n",
      "   - Being employed in a more stable or recognized workclass such as \"Government\" can contribute to a positive income outcome.\n",
      "   - **Example:** Case 2 (Government).\n",
      "\n",
      "3. **Rule 3: Change in Occupation**\n",
      "   - Occupations such as \"Sales\" may lead to higher income compared to \"Other/Unknown.\"\n",
      "   - **Example:** Case 1 (Sales).\n",
      "\n",
      "4. **Rule 4: Increased Working Hours**\n",
      "   - Increasing the number of working hours per week can be associated with earning more than $50k. For instance, working 66 hours instead of 40 hours.\n",
      "   - **Example:** Case 4 (66 hours per week).\n",
      "\n",
      "5. **Rule 5: Racial Factor**\n",
      "   - Though sensitive and controversial, the data shows that individuals of \"Other\" race instead of \"White\" in some cases have a positive income outcome.\n",
      "   - **Example:** Case 3 and Case 4 (Race = Other).\n",
      "\n",
      "6. **Rule 6: Age Consideration**\n",
      "   - While not highly significant, a slight decrease in age (e.g., from 50 to 41) is seen in one positive outcome case.\n",
      "   - **Example:** Case 5 (Age = 41).\n",
      "\n",
      "### Summary\n",
      "The primary factors influencing the positive income outcome appear to be higher education levels, specific workclasses and occupations, increased working hours, and in some cases, racial factors. These rules can help in understanding how to potentially alter characteristics to achieve a higher income prediction from the ML system.\n",
      "Results:\n",
      "rule_1: 3\n",
      "rule_5: 2\n",
      "rule_2: 1\n",
      "rule_3: 1\n",
      "rule_4: 1\n",
      "rule_6: 1\n",
      "\n",
      "Counterfactuals DataFrame:\n",
      "   age      workclass     education  ... gender hours_per_week income\n",
      "0   50  Other/Unknown   Prof-school  ...   Male             40      1\n",
      "1   50     Government     Bachelors  ...   Male             40      1\n",
      "2   51  Other/Unknown  Some-college  ...   Male             40      1\n",
      "3   50  Other/Unknown  Some-college  ...   Male             66      1\n",
      "4   41  Other/Unknown   Prof-school  ...   Male             40      1\n",
      "\n",
      "[5 rows x 9 columns]\n",
      "\n",
      "Explanation:\n",
      "### Explanation\n",
      "\n",
      "Based on the analysis of the data and the rules derived from the counterfactual outcomes, here are some clear steps you can take to improve your chances of earning more than $50k a year:\n",
      "\n",
      "1. **Advance Your Education**\n",
      "   - **Most Important:** One of the most significant factors in achieving a higher income is advancing your education. Moving from \"Some-college\" to higher education levels such as \"Professional School\" or \"Bachelor's Degree\" has shown to significantly increase income levels.\n",
      "   - **Action:** Consider enrolling in further education programs or obtaining higher degrees if possible.\n",
      "\n",
      "2. **Consider a Different Workclass**\n",
      "   - **Important:** Being employed in a more stable or recognized industry, particularly government jobs, is associated with higher income.\n",
      "   - **Action:** Explore job opportunities in government sectors or other stable industries.\n",
      "\n",
      "3. **Change Your Occupation**\n",
      "   - **Important:** Occupations like \"Sales\" tend to have higher income outcomes compared to \"Other/Unknown.\"\n",
      "   - **Action:** Look into transitioning into occupations that are known to offer better financial rewards, such as sales roles.\n",
      "\n",
      "4. **Increase Your Working Hours**\n",
      "   - **Moderate Importance:** Working more hours can also positively impact your income. For instance, working 66 hours per week instead of 40 hours has shown to be beneficial.\n",
      "   - **Action:** If feasible, consider increasing your working hours.\n",
      "\n",
      "5. **Racial Factors**\n",
      "   - **Moderate Importance:** While sensitive, the data suggests that individuals identified as \"Other\" race sometimes have better income outcomes than those identified as \"White.\"\n",
      "   - **Action:** This is a demographic attribute and not something you can change. However, being aware of any systemic biases can help you navigate your career better.\n",
      "\n",
      "6. **Age Consideration**\n",
      "   - **Least Important:** A slight decrease in age was seen in only one positive outcome case.\n",
      "   - **Action:** This is not something you can change, but it is worth noting that age could play a minor role.\n",
      "\n",
      "### Summary\n",
      "To sum up, the most effective steps you can take are:\n",
      "\n",
      "1. **Pursue higher education**: Aim for a Bachelor's degree or higher.\n",
      "2. **Seek stable work opportunities**: Look for jobs in government or well-established industries.\n",
      "3. **Consider a career in sales**: Transition to occupations known for better earnings.\n",
      "4. **Work more hours**: If possible, increase your weekly working hours.\n",
      "\n",
      "By focusing on these key areas, you can significantly improve your chances of earning more than $50k a year. Best of luck!\n",
      "\n",
      "System3:\n",
      "Rules:\n",
      "Based on the provided negative assessment outcome and the positive counterfactual outcomes, we can extract the following most important observed rules that could potentially change the prediction from earning less than $50k to earning more than $50k per year.\n",
      "\n",
      "### Observed Rules to Achieve Positive Outcome:\n",
      "\n",
      "1. **Race**\n",
      "   - Changing race from \"White\" to \"Other\" can positively impact the income prediction.\n",
      "   - Observed in Positive Counterfactuals 0 and 3.\n",
      "\n",
      "2. **Workclass**\n",
      "   - Shifting from \"Other/Unknown\" to \"Private\" can positively impact the income prediction.\n",
      "   - Observed in Positive Counterfactuals 1 and 4.\n",
      "\n",
      "3. **Education Level**\n",
      "   - Increasing the education level from \"Some-college\" to \"Masters\", \"Bachelors\", or \"Prof-school\" can positively impact the income prediction.\n",
      "   - Observed in Positive Counterfactuals 1, 2, and 4.\n",
      "\n",
      "4. **Gender**\n",
      "   - Changing gender from \"Male\" to \"Female\" can positively impact the income prediction in some scenarios.\n",
      "   - Observed in Positive Counterfactual 2.\n",
      "\n",
      "5. **Hours Per Week**\n",
      "   - Increasing the number of hours worked per week significantly (e.g., from 40 to 93) can positively impact the income prediction.\n",
      "   - Observed in Positive Counterfactual 0.\n",
      "   - However, note that an extreme reduction in hours (e.g., from 40 to 21) also appears in a positive outcome (Positive Counterfactual 3), indicating a possible interaction effect with other features.\n",
      "\n",
      "### Summary of Key Changes:\n",
      "\n",
      "- **Changing race to \"Other\"** is a recurrent factor in some positive outcomes.\n",
      "- **Working in the private sector** instead of an unknown workclass is associated with higher income predictions.\n",
      "- **Higher education levels** (Masters, Bachelors, Prof-school) are significantly tied to higher income predictions.\n",
      "- **Gender as Female** can be beneficial in certain scenarios.\n",
      "- **Increasing work hours** (notably to a high number like 93) is another influential factor, although some exceptions with fewer hours exist, indicating the importance of other interacting factors.\n",
      "\n",
      "These rules highlight the key areas where interventions or changes might help shift the income prediction from below $50k to above $50k per year.\n",
      "Results:\n",
      "Race: 2 counterfactuals are consistent with this rule.\n",
      "Workclass: 2 counterfactuals are consistent with this rule.\n",
      "Education Level: 3 counterfactuals are consistent with this rule.\n",
      "Gender: 1 counterfactuals are consistent with this rule.\n",
      "Hours Per Week: 1 counterfactuals are consistent with this rule.\n",
      "\n",
      "Explanation:\n",
      "### Explanation to Improve Your Income Prediction\n",
      "\n",
      "Based on the analysis of your data and the counterfactual scenarios, here are some actionable steps you can take to potentially increase your chances of earning more than $50,000 per year:\n",
      "\n",
      "1. **Pursue Higher Education:**\n",
      "   - **Impact:** This is the most consistent factor observed across multiple positive outcomes.\n",
      "   - **Action:** Consider advancing your education level. Pursuing a degree such as a Bachelor's, Master's, or a professional school degree has shown a significant positive impact on income predictions.\n",
      "   - **Examples:** In the data, individuals with higher education levels like Masters, Bachelors, or Prof-school are more likely to have higher income predictions.\n",
      "\n",
      "2. **Switch to the Private Sector:**\n",
      "   - **Impact:** This is another highly consistent factor.\n",
      "   - **Action:** Seek employment in the private sector if you are currently working in an \"Other/Unknown\" workclass.\n",
      "   - **Examples:** Shifting from \"Other/Unknown\" to \"Private\" workclass has been linked to positive income outcomes.\n",
      "\n",
      "3. **Consider Changing Your Race Classification:**\n",
      "   - **Impact:** This factor has shown a noticeable impact in some scenarios.\n",
      "   - **Action:** While changing your race is not practical or ethical, this insight suggests that there may be systemic biases affecting income predictions. Awareness of such biases can help you seek out employers and industries that prioritize diversity and equity.\n",
      "   - **Examples:** Some counterfactuals showed that race classified as \"Other\" had a positive impact on income.\n",
      "\n",
      "4. **Evaluate Gender-Based Impacts:**\n",
      "   - **Impact:** Gender can have an impact on income predictions, although it was less consistent.\n",
      "   - **Action:** This suggests potential gender biases in the data. If you identify as male, be aware of sectors that might offer equal opportunities regardless of gender. If you identify as female, this insight suggests you may already be in a favorable category in some scenarios.\n",
      "   - **Examples:** One positive outcome showed that changing gender to female had a positive impact.\n",
      "\n",
      "5. **Increase Work Hours Significantly:**\n",
      "   - **Impact:** Increasing work hours had a significant impact in one scenario.\n",
      "   - **Action:** If feasible, consider increasing your work hours. However, be mindful of work-life balance and the diminishing returns of excessive work hours.\n",
      "   - **Examples:** One counterfactual showed a very high number of work hours (93 hours per week) leading to a positive income prediction.\n",
      "\n",
      "### Summary of Key Actions:\n",
      "\n",
      "1. **Advance Your Education:** Aim for a higher degree (Bachelors, Masters, or Prof-school).\n",
      "2. **Seek Private Sector Employment:** Transition to a private sector job if possible.\n",
      "3. **Be Aware of Systemic Biases:** Understand potential biases in income predictions and seek fair employment opportunities.\n",
      "4. **Consider Gender Dynamics:** Be aware of how gender may impact income predictions and seek equitable work environments.\n",
      "5. **Increase Work Hours:** If practical, increase your work hours, but maintain a healthy balance.\n",
      "\n",
      "By focusing on these areas, you can strategically improve your chances of earning more than $50,000 per year. Best of luck on your journey to increasing your income!\n"
     ]
    }
   ],
   "source": [
    "print(out)"
   ]
  },
  {
   "cell_type": "markdown",
   "metadata": {},
   "source": [
    "Using all this information, the LLM generates an explanation."
   ]
  },
  {
   "cell_type": "code",
   "execution_count": 5,
   "metadata": {},
   "outputs": [
    {
     "name": "stdout",
     "output_type": "stream",
     "text": [
      "Based on the analysis of the data from the machine learning system, here are some practical steps you can take to improve your chances of earning more than $50,000 a year. These suggestions are based on the most important patterns observed in people who have successfully achieved a higher income.\n",
      "\n",
      "### Actionable Steps to Increase Your Income:\n",
      "\n",
      "1. **Advance Your Education (Most Important)**\n",
      "   - **Why:** Higher education levels are the most consistent factor associated with earning more than $50,000.\n",
      "   - **Action:** Consider pursuing additional education such as a Bachelor's, Master's, or professional school degree. Enroll in further education programs or obtain higher degrees if possible.\n",
      "\n",
      "2. **Seek Employment in the Private Sector**\n",
      "   - **Why:** Working in the private sector is another highly consistent factor that positively impacts income.\n",
      "   - **Action:** If you are currently in an undefined or less stable job category, look for job opportunities in the private sector. This change can provide a significant boost to your income potential.\n",
      "\n",
      "3. **Consider Your Work Hours**\n",
      "   - **Why:** Increasing your work hours can have a positive effect on your income.\n",
      "   - **Action:** If feasible, consider working more hours per week. For example, increasing from 40 to 66 hours showed positive results. However, be mindful of maintaining a healthy work-life balance.\n",
      "\n",
      "4. **Be Aware of Systemic Biases Related to Race**\n",
      "   - **Why:** The data shows that race can sometimes influence income predictions.\n",
      "   - **Action:** While you can't change your race, being aware of potential biases can help you navigate your career better. Seek out employers and industries that prioritize diversity and equity.\n",
      "\n",
      "5. **Explore Occupations in Sales**\n",
      "   - **Why:** Certain occupations, like sales, are associated with higher income.\n",
      "   - **Action:** If your current job category is less defined or unstable, consider transitioning into sales or similar roles that are known for better financial rewards.\n",
      "\n",
      "### Summary of Actions:\n",
      "\n",
      "1. **Pursue higher education**: Aim for a higher degree (Bachelor's, Master's, or Professional School).\n",
      "2. **Seek private sector employment**: Look for jobs in the private sector.\n",
      "3. **Increase your work hours**: Work more hours per week if possible.\n",
      "4. **Be aware of systemic biases**: Understand and navigate biases related to race and gender.\n",
      "5. **Consider a career in sales**: Transition to occupations with better earnings potential.\n",
      "\n",
      "By focusing on these key areas, you can significantly improve your chances of earning more than $50,000 a year. Take these steps to enhance your qualifications, explore better job opportunities, and aim for roles that offer higher financial rewards. Good luck on your journey to increasing your income!\n"
     ]
    }
   ],
   "source": [
    "print(explanation)"
   ]
  },
  {
   "cell_type": "markdown",
   "metadata": {},
   "source": [
    "Again, we follow the same process for the evaluation"
   ]
  },
  {
   "cell_type": "code",
   "execution_count": 6,
   "metadata": {},
   "outputs": [
    {
     "name": "stdout",
     "output_type": "stream",
     "text": [
      "import pandas as pd\n",
      "\n",
      "# Define the data for the DataFrame\n",
      "data = {\n",
      "    'age': [50],\n",
      "    'workclass': ['Private'],\n",
      "    'education': ['Bachelors'],\n",
      "    'marital_status': ['Married'],\n",
      "    'occupation': ['Sales'],\n",
      "    'race': ['White'],\n",
      "    'gender': ['Male'],\n",
      "    'hours_per_week': [50],\n",
      "    'income': [1]\n",
      "}\n",
      "\n",
      "# Create the DataFrame\n",
      "df = pd.DataFrame(data)\n",
      "\n",
      "# Save to csv\n",
      "df.to_csv('temp_csv.csv', index=False)\n"
     ]
    }
   ],
   "source": [
    "print(code2)"
   ]
  },
  {
   "cell_type": "code",
   "execution_count": 7,
   "metadata": {},
   "outputs": [
    {
     "data": {
      "text/html": [
       "<div>\n",
       "<style scoped>\n",
       "    .dataframe tbody tr th:only-of-type {\n",
       "        vertical-align: middle;\n",
       "    }\n",
       "\n",
       "    .dataframe tbody tr th {\n",
       "        vertical-align: top;\n",
       "    }\n",
       "\n",
       "    .dataframe thead th {\n",
       "        text-align: right;\n",
       "    }\n",
       "</style>\n",
       "<table border=\"1\" class=\"dataframe\">\n",
       "  <thead>\n",
       "    <tr style=\"text-align: right;\">\n",
       "      <th></th>\n",
       "      <th>age</th>\n",
       "      <th>workclass</th>\n",
       "      <th>education</th>\n",
       "      <th>marital_status</th>\n",
       "      <th>occupation</th>\n",
       "      <th>race</th>\n",
       "      <th>gender</th>\n",
       "      <th>hours_per_week</th>\n",
       "    </tr>\n",
       "  </thead>\n",
       "  <tbody>\n",
       "    <tr>\n",
       "      <th>0</th>\n",
       "      <td>50</td>\n",
       "      <td>Private</td>\n",
       "      <td>Bachelors</td>\n",
       "      <td>Married</td>\n",
       "      <td>Sales</td>\n",
       "      <td>White</td>\n",
       "      <td>Male</td>\n",
       "      <td>50</td>\n",
       "    </tr>\n",
       "  </tbody>\n",
       "</table>\n",
       "</div>"
      ],
      "text/plain": [
       "   age workclass  education marital_status occupation   race gender  \\\n",
       "0   50   Private  Bachelors        Married      Sales  White   Male   \n",
       "\n",
       "   hours_per_week  \n",
       "0              50  "
      ]
     },
     "execution_count": 7,
     "metadata": {},
     "output_type": "execute_result"
    }
   ],
   "source": [
    "final_cf"
   ]
  },
  {
   "cell_type": "code",
   "execution_count": 8,
   "metadata": {},
   "outputs": [
    {
     "name": "stdout",
     "output_type": "stream",
     "text": [
      "import pandas as pd\n",
      "\n",
      "# Load the provided example\n",
      "df = pd.read_csv('temp_csv.csv')\n",
      "\n",
      "# Define the rules and their importance from each system\n",
      "rules = [\n",
      "    {\"Rule\": \"Age Rule: Individuals around the age of 62 and 75 are more likely to earn more than $50k.\", \"Importance\": 2},\n",
      "    {\"Rule\": \"Workclass Rule: Being 'Self-Employed' increases the likelihood of earning more than $50k.\", \"Importance\": 2},\n",
      "    {\"Rule\": \"Education Rule: Having a 'Doctorate' or 'Masters' degree, or even 'Some-college' education, positively influences income.\", \"Importance\": 5},\n",
      "    {\"Rule\": \"Occupation Rule: Working in the 'Service' sector can result in earning more than $50k.\", \"Importance\": 1},\n",
      "    {\"Rule\": \"Race Rule: Being of a race other than 'White' can positively impact income prediction.\", \"Importance\": 3},\n",
      "    {\"Rule\": \"Rule 1: Higher Education Level\", \"Importance\": 3},\n",
      "    {\"Rule\": \"Rule 2: Change in Workclass\", \"Importance\": 1},\n",
      "    {\"Rule\": \"Rule 3: Change in Occupation\", \"Importance\": 1},\n",
      "    {\"Rule\": \"Rule 4: Increased Working Hours\", \"Importance\": 1},\n",
      "    {\"Rule\": \"Rule 5: Racial Factor\", \"Importance\": 2},\n",
      "    {\"Rule\": \"Rule 6: Age Consideration\", \"Importance\": 1},\n",
      "    {\"Rule\": \"Race\", \"Importance\": 2},\n",
      "    {\"Rule\": \"Workclass\", \"Importance\": 2},\n",
      "    {\"Rule\": \"Education Level\", \"Importance\": 3},\n",
      "    {\"Rule\": \"Gender\", \"Importance\": 1},\n",
      "    {\"Rule\": \"Hours Per Week\", \"Importance\": 1},\n",
      "]\n",
      "\n",
      "# Function to check if rule is followed\n",
      "def rule_followed(rule, df):\n",
      "    if \"Age Rule\" in rule:\n",
      "        return 1 if df['age'].values[0] in [62, 75] else 0\n",
      "    if \"Workclass Rule\" in rule:\n",
      "        return 1 if df['workclass'].values[0] == \"Self-Employed\" else 0\n",
      "    if \"Education Rule\" in rule:\n",
      "        return 1 if df['education'].values[0] in [\"Doctorate\", \"Masters\", \"Some-college\"] else 0\n",
      "    if \"Occupation Rule\" in rule:\n",
      "        return 1 if df['occupation'].values[0] == \"Service\" else 0\n",
      "    if \"Race Rule\" in rule or \"Racial Factor\" in rule or \"Race\" in rule:\n",
      "        return 1 if df['race'].values[0] != \"White\" else 0\n",
      "    if \"Rule 1\" in rule:\n",
      "        return 1 if df['education'].values[0] in [\"Prof-school\", \"Bachelors\"] else 0\n",
      "    if \"Rule 2\" in rule or \"Workclass\" in rule:\n",
      "        return 1 if df['workclass'].values[0] == \"Government\" else 0\n",
      "    if \"Rule 3\" in rule:\n",
      "        return 1 if df['occupation'].values[0] == \"Sales\" else 0\n",
      "    if \"Rule 4\" in rule or \"Hours Per Week\" in rule:\n",
      "        return 1 if df['hours_per_week'].values[0] > 40 else 0\n",
      "    if \"Rule 5\" in rule:\n",
      "        return 1 if df['race'].values[0] != \"White\" else 0\n",
      "    if \"Rule 6\" in rule:\n",
      "        return 1 if df['age'].values[0] < 50 else 0\n",
      "    if \"Gender\" in rule:\n",
      "        return 1 if df['gender'].values[0] == \"Female\" else 0\n",
      "    return 0\n",
      "\n",
      "# Apply the rule check function\n",
      "for rule in rules:\n",
      "    rule[\"In explanation\"] = rule_followed(rule[\"Rule\"], df)\n",
      "\n",
      "# Create a DataFrame from the rules\n",
      "df_final = pd.DataFrame(rules)\n",
      "\n",
      "# Save to csv\n",
      "df_final.to_csv('evaluation.csv', index=False)\n"
     ]
    }
   ],
   "source": [
    "print(code3)"
   ]
  },
  {
   "cell_type": "code",
   "execution_count": 9,
   "metadata": {},
   "outputs": [
    {
     "data": {
      "text/html": [
       "<div>\n",
       "<style scoped>\n",
       "    .dataframe tbody tr th:only-of-type {\n",
       "        vertical-align: middle;\n",
       "    }\n",
       "\n",
       "    .dataframe tbody tr th {\n",
       "        vertical-align: top;\n",
       "    }\n",
       "\n",
       "    .dataframe thead th {\n",
       "        text-align: right;\n",
       "    }\n",
       "</style>\n",
       "<table border=\"1\" class=\"dataframe\">\n",
       "  <thead>\n",
       "    <tr style=\"text-align: right;\">\n",
       "      <th></th>\n",
       "      <th>Rule</th>\n",
       "      <th>Importance</th>\n",
       "      <th>In explanation</th>\n",
       "    </tr>\n",
       "  </thead>\n",
       "  <tbody>\n",
       "    <tr>\n",
       "      <th>0</th>\n",
       "      <td>Age Rule: Individuals around the age of 62 and...</td>\n",
       "      <td>2</td>\n",
       "      <td>0</td>\n",
       "    </tr>\n",
       "    <tr>\n",
       "      <th>1</th>\n",
       "      <td>Workclass Rule: Being 'Self-Employed' increase...</td>\n",
       "      <td>2</td>\n",
       "      <td>0</td>\n",
       "    </tr>\n",
       "    <tr>\n",
       "      <th>2</th>\n",
       "      <td>Education Rule: Having a 'Doctorate' or 'Maste...</td>\n",
       "      <td>5</td>\n",
       "      <td>0</td>\n",
       "    </tr>\n",
       "    <tr>\n",
       "      <th>3</th>\n",
       "      <td>Occupation Rule: Working in the 'Service' sect...</td>\n",
       "      <td>1</td>\n",
       "      <td>0</td>\n",
       "    </tr>\n",
       "    <tr>\n",
       "      <th>4</th>\n",
       "      <td>Race Rule: Being of a race other than 'White' ...</td>\n",
       "      <td>3</td>\n",
       "      <td>0</td>\n",
       "    </tr>\n",
       "    <tr>\n",
       "      <th>5</th>\n",
       "      <td>Rule 1: Higher Education Level</td>\n",
       "      <td>3</td>\n",
       "      <td>1</td>\n",
       "    </tr>\n",
       "    <tr>\n",
       "      <th>6</th>\n",
       "      <td>Rule 2: Change in Workclass</td>\n",
       "      <td>1</td>\n",
       "      <td>0</td>\n",
       "    </tr>\n",
       "    <tr>\n",
       "      <th>7</th>\n",
       "      <td>Rule 3: Change in Occupation</td>\n",
       "      <td>1</td>\n",
       "      <td>1</td>\n",
       "    </tr>\n",
       "    <tr>\n",
       "      <th>8</th>\n",
       "      <td>Rule 4: Increased Working Hours</td>\n",
       "      <td>1</td>\n",
       "      <td>1</td>\n",
       "    </tr>\n",
       "    <tr>\n",
       "      <th>9</th>\n",
       "      <td>Rule 5: Racial Factor</td>\n",
       "      <td>2</td>\n",
       "      <td>0</td>\n",
       "    </tr>\n",
       "    <tr>\n",
       "      <th>10</th>\n",
       "      <td>Rule 6: Age Consideration</td>\n",
       "      <td>1</td>\n",
       "      <td>0</td>\n",
       "    </tr>\n",
       "    <tr>\n",
       "      <th>11</th>\n",
       "      <td>Race</td>\n",
       "      <td>2</td>\n",
       "      <td>0</td>\n",
       "    </tr>\n",
       "    <tr>\n",
       "      <th>12</th>\n",
       "      <td>Workclass</td>\n",
       "      <td>2</td>\n",
       "      <td>0</td>\n",
       "    </tr>\n",
       "    <tr>\n",
       "      <th>13</th>\n",
       "      <td>Education Level</td>\n",
       "      <td>3</td>\n",
       "      <td>0</td>\n",
       "    </tr>\n",
       "    <tr>\n",
       "      <th>14</th>\n",
       "      <td>Gender</td>\n",
       "      <td>1</td>\n",
       "      <td>0</td>\n",
       "    </tr>\n",
       "    <tr>\n",
       "      <th>15</th>\n",
       "      <td>Hours Per Week</td>\n",
       "      <td>1</td>\n",
       "      <td>1</td>\n",
       "    </tr>\n",
       "  </tbody>\n",
       "</table>\n",
       "</div>"
      ],
      "text/plain": [
       "                                                 Rule  Importance  \\\n",
       "0   Age Rule: Individuals around the age of 62 and...           2   \n",
       "1   Workclass Rule: Being 'Self-Employed' increase...           2   \n",
       "2   Education Rule: Having a 'Doctorate' or 'Maste...           5   \n",
       "3   Occupation Rule: Working in the 'Service' sect...           1   \n",
       "4   Race Rule: Being of a race other than 'White' ...           3   \n",
       "5                      Rule 1: Higher Education Level           3   \n",
       "6                         Rule 2: Change in Workclass           1   \n",
       "7                        Rule 3: Change in Occupation           1   \n",
       "8                     Rule 4: Increased Working Hours           1   \n",
       "9                               Rule 5: Racial Factor           2   \n",
       "10                          Rule 6: Age Consideration           1   \n",
       "11                                               Race           2   \n",
       "12                                          Workclass           2   \n",
       "13                                    Education Level           3   \n",
       "14                                             Gender           1   \n",
       "15                                     Hours Per Week           1   \n",
       "\n",
       "    In explanation  \n",
       "0                0  \n",
       "1                0  \n",
       "2                0  \n",
       "3                0  \n",
       "4                0  \n",
       "5                1  \n",
       "6                0  \n",
       "7                1  \n",
       "8                1  \n",
       "9                0  \n",
       "10               0  \n",
       "11               0  \n",
       "12               0  \n",
       "13               0  \n",
       "14               0  \n",
       "15               1  "
      ]
     },
     "execution_count": 9,
     "metadata": {},
     "output_type": "execute_result"
    }
   ],
   "source": [
    "final_df"
   ]
  },
  {
   "cell_type": "code",
   "execution_count": 11,
   "metadata": {},
   "outputs": [
    {
     "name": "stdout",
     "output_type": "stream",
     "text": [
      "Prediction of the generated example:  1\n",
      "Number of rules generated:  16\n",
      "Number of rules followed:  4\n",
      "1st rule followed  0\n",
      "2nd rule followed  0\n",
      "3rd rule followed  1\n",
      "Example exists in data:  False\n"
     ]
    }
   ],
   "source": [
    "print('Prediction of the generated example: ', prediction)\n",
    "print('Number of rules generated: ', n_rules)\n",
    "print('Number of rules followed: ', rules_followed)\n",
    "print('1st rule followed ', first_rule)\n",
    "print('2nd rule followed ', second_rule)\n",
    "print('3rd rule followed ', third_rule)\n",
    "print('Example exists in data: ', in_data)"
   ]
  },
  {
   "cell_type": "markdown",
   "metadata": {},
   "source": [
    "As we can see, the rule set is much bigger now, so different causes can be selected"
   ]
  },
  {
   "cell_type": "code",
   "execution_count": null,
   "metadata": {},
   "outputs": [],
   "source": []
  }
 ],
 "metadata": {
  "kernelspec": {
   "display_name": "LLMproj",
   "language": "python",
   "name": "python3"
  },
  "language_info": {
   "codemirror_mode": {
    "name": "ipython",
    "version": 3
   },
   "file_extension": ".py",
   "mimetype": "text/x-python",
   "name": "python",
   "nbconvert_exporter": "python",
   "pygments_lexer": "ipython3",
   "version": "3.10.14"
  }
 },
 "nbformat": 4,
 "nbformat_minor": 2
}
