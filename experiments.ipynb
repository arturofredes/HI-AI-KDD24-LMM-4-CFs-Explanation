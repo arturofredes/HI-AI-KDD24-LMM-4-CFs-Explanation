{
 "cells": [
  {
   "cell_type": "markdown",
   "metadata": {},
   "source": [
    "# Experiments"
   ]
  },
  {
   "cell_type": "code",
   "execution_count": 13,
   "metadata": {},
   "outputs": [],
   "source": [
    "import pickle \n",
    "import pandas as pd\n",
    "from dice_ml.utils import helpers\n",
    "from prompts import *\n",
    "from utils import *\n",
    "from llm_explainers import *"
   ]
  },
  {
   "cell_type": "code",
   "execution_count": 14,
   "metadata": {},
   "outputs": [],
   "source": [
    "from pathlib import Path\n",
    "directory = Path(\"./experiments\")\n",
    "# Create the directory if it does not exist\n",
    "directory.mkdir(parents=True, exist_ok=True)"
   ]
  },
  {
   "cell_type": "code",
   "execution_count": 15,
   "metadata": {},
   "outputs": [],
   "source": [
    "# Load the model we want to explain\n",
    "with open(\"\"\"./models/loan_model.pkl\"\"\", 'rb') as file:\n",
    "    model = pickle.load(file)\n",
    "\n",
    "#Load the train and test data set\n",
    "train_dataset = pd.read_csv('./data/adult_train_dataset.csv')\n",
    "test_dataset = pd.read_csv('./data/adult_test_dataset.csv')\n",
    "\n",
    "#Load the examples we will try to explain\n",
    "test_df = pd.read_csv('./data/test_examples.csv')\n",
    "test_df = test_df.drop(columns=['income'], axis = 1)"
   ]
  },
  {
   "cell_type": "code",
   "execution_count": 4,
   "metadata": {},
   "outputs": [],
   "source": [
    "#create datasets to test\n",
    "#test100 = test_df.iloc[-100:].reset_index(drop = True)\n",
    "#test100.to_csv('./data/test100.csv', index = False)"
   ]
  },
  {
   "cell_type": "code",
   "execution_count": 13,
   "metadata": {},
   "outputs": [
    {
     "name": "stderr",
     "output_type": "stream",
     "text": [
      "100%|██████████| 1/1 [00:00<00:00,  7.42it/s]\n",
      "100%|██████████| 1/1 [00:00<00:00,  7.56it/s]\n",
      "100%|██████████| 1/1 [00:00<00:00,  7.02it/s]\n"
     ]
    },
    {
     "ename": "FileNotFoundError",
     "evalue": "[WinError 2] El sistema no puede encontrar el archivo especificado: 'evaluation.csv' -> './experiments/ToT/1_cfs/evals/eval_1cfs_0.csv'",
     "output_type": "error",
     "traceback": [
      "\u001b[1;31m---------------------------------------------------------------------------\u001b[0m",
      "\u001b[1;31mFileNotFoundError\u001b[0m                         Traceback (most recent call last)",
      "Cell \u001b[1;32mIn[13], line 55\u001b[0m\n\u001b[0;32m     53\u001b[0m example_label, n_rules, rules_followed, first_rule, second_rule,third_rule, in_dataset \u001b[38;5;241m=\u001b[39m exp_m\u001b[38;5;241m.\u001b[39mexplain_evaluate(user_data \u001b[38;5;241m=\u001b[39m pd\u001b[38;5;241m.\u001b[39mDataFrame(test100\u001b[38;5;241m.\u001b[39mloc[i, columns])\u001b[38;5;241m.\u001b[39mtranspose(), verbose \u001b[38;5;241m=\u001b[39m \u001b[38;5;28;01mFalse\u001b[39;00m, return_all\u001b[38;5;241m=\u001b[39m\u001b[38;5;28;01mFalse\u001b[39;00m)\n\u001b[0;32m     54\u001b[0m os\u001b[38;5;241m.\u001b[39mrename(\u001b[38;5;124m'\u001b[39m\u001b[38;5;124m./temp_files/temp_csv.csv\u001b[39m\u001b[38;5;124m'\u001b[39m, \u001b[38;5;124mf\u001b[39m\u001b[38;5;124m'\u001b[39m\u001b[38;5;124m./experiments/\u001b[39m\u001b[38;5;132;01m{\u001b[39;00mprompt\u001b[38;5;132;01m}\u001b[39;00m\u001b[38;5;124m/\u001b[39m\u001b[38;5;132;01m{\u001b[39;00mcf\u001b[38;5;132;01m}\u001b[39;00m\u001b[38;5;124m_cfs/examples/ex_\u001b[39m\u001b[38;5;132;01m{\u001b[39;00mcf\u001b[38;5;132;01m}\u001b[39;00m\u001b[38;5;124mcfs_\u001b[39m\u001b[38;5;132;01m{\u001b[39;00mi\u001b[38;5;132;01m}\u001b[39;00m\u001b[38;5;124m.csv\u001b[39m\u001b[38;5;124m'\u001b[39m)\n\u001b[1;32m---> 55\u001b[0m \u001b[43mos\u001b[49m\u001b[38;5;241;43m.\u001b[39;49m\u001b[43mrename\u001b[49m\u001b[43m(\u001b[49m\u001b[38;5;124;43m'\u001b[39;49m\u001b[38;5;124;43mevaluation.csv\u001b[39;49m\u001b[38;5;124;43m'\u001b[39;49m\u001b[43m,\u001b[49m\u001b[43m \u001b[49m\u001b[38;5;124;43mf\u001b[39;49m\u001b[38;5;124;43m'\u001b[39;49m\u001b[38;5;124;43m./experiments/\u001b[39;49m\u001b[38;5;132;43;01m{\u001b[39;49;00m\u001b[43mprompt\u001b[49m\u001b[38;5;132;43;01m}\u001b[39;49;00m\u001b[38;5;124;43m/\u001b[39;49m\u001b[38;5;132;43;01m{\u001b[39;49;00m\u001b[43mcf\u001b[49m\u001b[38;5;132;43;01m}\u001b[39;49;00m\u001b[38;5;124;43m_cfs/evals/eval_\u001b[39;49m\u001b[38;5;132;43;01m{\u001b[39;49;00m\u001b[43mcf\u001b[49m\u001b[38;5;132;43;01m}\u001b[39;49;00m\u001b[38;5;124;43mcfs_\u001b[39;49m\u001b[38;5;132;43;01m{\u001b[39;49;00m\u001b[43mi\u001b[49m\u001b[38;5;132;43;01m}\u001b[39;49;00m\u001b[38;5;124;43m.csv\u001b[39;49m\u001b[38;5;124;43m'\u001b[39;49m\u001b[43m)\u001b[49m            \n\u001b[0;32m     56\u001b[0m test100\u001b[38;5;241m.\u001b[39mloc[i, \u001b[38;5;28mstr\u001b[39m(cf) \u001b[38;5;241m+\u001b[39m \u001b[38;5;124m'\u001b[39m\u001b[38;5;124m_cfs_\u001b[39m\u001b[38;5;124m'\u001b[39m \u001b[38;5;241m+\u001b[39m prompt \u001b[38;5;241m+\u001b[39m \u001b[38;5;124m'\u001b[39m\u001b[38;5;124m_label\u001b[39m\u001b[38;5;124m'\u001b[39m] \u001b[38;5;241m=\u001b[39m example_label\n\u001b[0;32m     57\u001b[0m test100\u001b[38;5;241m.\u001b[39mloc[i, \u001b[38;5;28mstr\u001b[39m(cf) \u001b[38;5;241m+\u001b[39m \u001b[38;5;124m'\u001b[39m\u001b[38;5;124m_cfs_\u001b[39m\u001b[38;5;124m'\u001b[39m \u001b[38;5;241m+\u001b[39mprompt \u001b[38;5;241m+\u001b[39m \u001b[38;5;124m'\u001b[39m\u001b[38;5;124m_rules\u001b[39m\u001b[38;5;124m'\u001b[39m] \u001b[38;5;241m=\u001b[39m n_rules\n",
      "\u001b[1;31mFileNotFoundError\u001b[0m: [WinError 2] El sistema no puede encontrar el archivo especificado: 'evaluation.csv' -> './experiments/ToT/1_cfs/evals/eval_1cfs_0.csv'"
     ]
    }
   ],
   "source": [
    "test100 = pd.read_csv('./data/test100.csv')\n",
    "columns = ['age', 'workclass', 'education', 'marital_status', 'occupation', 'race',\n",
    "       'gender', 'hours_per_week']\n",
    "model_description = \"\"\"ML-system that predicts wether a person will earn more than 50k $ a year\"\"\"\n",
    "for prompt in ['zero']:\n",
    "    directory = Path(f\"./experiments/{prompt}\")\n",
    "    # Create the directory if it does not exist\n",
    "    directory.mkdir(parents=True, exist_ok=True)\n",
    "    for cf in [1,3,5]:\n",
    "        directory = Path(f\"./experiments/{prompt}/{cf}_cfs/evals/\")\n",
    "        # Create the directory if it does not exist\n",
    "        directory.mkdir(parents=True, exist_ok=True)\n",
    "        directory = Path(f\"./experiments/{prompt}/{cf}_cfs/examples/\")\n",
    "        # Create the directory if it does not exist\n",
    "        directory.mkdir(parents=True, exist_ok=True)\n",
    "        if prompt == 'ToT':\n",
    "            exp_m = ToTLLMExplanation4CFs(model = model, #Load the model we want to explain\n",
    "                                    model_description = \"\"\"ML-system that predicts wether a person will earn more than 50k $ a year\"\"\", # brief explanation of the ML model\n",
    "                                    backend='sklearn', # Framework used to build the model (used to generate counterfactuals)\n",
    "                                    dataset_info=string_info(train_dataset.columns, helpers.get_adult_data_info()) , # string information about the dataset\n",
    "                                    continuous_features=['age', 'hours_per_week'], # Necessary for the counterfactual generation\n",
    "                                    outcome_name= 'income', #Necessary for counterfactual generation\n",
    "                                    training_set=train_dataset, #Necessary for counterfactual generation\n",
    "                                    test_set= test_dataset, #Necessary to  check novelty of the evaluation example\n",
    "                                    llm='gpt-4o', #LLM used, works with Langchain\n",
    "                                    prompt_type='one', # zero or one\n",
    "                                    n_counterfactuals=cf, #Number of counterfactuals used in the explanation \n",
    "                                    user_input=False, #Human in the loop helping select the causes\n",
    "                                    branches = 3\n",
    "                                )\n",
    "        else:\n",
    "            exp_m = LLMExplanation4CFs(model = model, #Load the model we want to explain\n",
    "                                    model_description = \"\"\"ML-system that predicts wether a person will earn more than 50k $ a year\"\"\", # brief explanation of the ML model\n",
    "                                    backend='sklearn', # Framework used to build the model (used to generate counterfactuals)\n",
    "                                    dataset_info=string_info(train_dataset.columns, helpers.get_adult_data_info()) , # string information about the dataset\n",
    "                                    continuous_features=['age', 'hours_per_week'], # Necessary for the counterfactual generation\n",
    "                                    outcome_name= 'income', #Necessary for counterfactual generation\n",
    "                                    training_set=train_dataset, #Necessary for counterfactual generation\n",
    "                                    test_set= test_dataset, #Necessary to  check novelty of the evaluation example\n",
    "                                    llm='gpt-4o', #LLM used, works with Langchain\n",
    "                                    prompt_type=prompt, # zero or one\n",
    "                                    n_counterfactuals=cf, #Number of counterfactuals used in the explanation \n",
    "                                    user_input=False #Human in the loop helping select the causes\n",
    "                                )\n",
    "\n",
    "\n",
    "\n",
    "        exp_m.fit()\n",
    "        for i in range(test100.shape[0]):\n",
    "        #for i in range(10):\n",
    "            try:              \n",
    "                example_label, n_rules, rules_followed, first_rule, second_rule,third_rule, in_dataset = exp_m.explain_evaluate(user_data = pd.DataFrame(test100.loc[i, columns]).transpose(), verbose = False, return_all=False)\n",
    "                os.rename('./temp_files/temp_csv.csv', f'./experiments/{prompt}/{cf}_cfs/examples/ex_{cf}cfs_{i}.csv')\n",
    "                os.rename('evaluation.csv', f'./experiments/{prompt}/{cf}_cfs/evals/eval_{cf}cfs_{i}.csv')            \n",
    "                test100.loc[i, str(cf) + '_cfs_' + prompt + '_label'] = example_label\n",
    "                test100.loc[i, str(cf) + '_cfs_' +prompt + '_rules'] = n_rules\n",
    "                test100.loc[i, str(cf) + '_cfs_' +prompt + '_rules_followed'] = rules_followed\n",
    "                test100.loc[i, str(cf) + '_cfs_' + +prompt + '_rule_1'] = first_rule\n",
    "                test100.loc[i, str(cf) + '_cfs_' + +prompt + '_rule_2'] = second_rule\n",
    "                test100.loc[i, str(cf) + '_cfs_' + +prompt + '_rule_3'] = third_rule\n",
    "                test100.loc[i, str(cf) + '_cfs_' +prompt + '_in_data'] = in_dataset\n",
    "                test100.loc[i, str(cf) + '_cfs_' +prompt + '_status'] = 0\n",
    "            except Exception as e:\n",
    "                print(e)\n",
    "                test100.loc[i, str(cf) + '_cfs_' +prompt + '_status'] = 1\n",
    "            if i%10 == 0:\n",
    "                test100.to_csv('experiments.csv', index=False)\n",
    "test100.to_csv('experiments.csv', index=False)"
   ]
  },
  {
   "cell_type": "code",
   "execution_count": 17,
   "metadata": {},
   "outputs": [
    {
     "name": "stdout",
     "output_type": "stream",
     "text": [
      "0\n"
     ]
    },
    {
     "name": "stderr",
     "output_type": "stream",
     "text": [
      "100%|██████████| 1/1 [00:00<00:00,  1.89it/s]\n"
     ]
    },
    {
     "name": "stdout",
     "output_type": "stream",
     "text": [
      "success\n",
      "1\n"
     ]
    },
    {
     "name": "stderr",
     "output_type": "stream",
     "text": [
      "100%|██████████| 1/1 [00:00<00:00,  1.35it/s]\n"
     ]
    },
    {
     "name": "stdout",
     "output_type": "stream",
     "text": [
      "success\n",
      "2\n"
     ]
    },
    {
     "name": "stderr",
     "output_type": "stream",
     "text": [
      "100%|██████████| 1/1 [00:00<00:00,  1.54it/s]\n"
     ]
    },
    {
     "name": "stdout",
     "output_type": "stream",
     "text": [
      "success\n",
      "3\n"
     ]
    },
    {
     "name": "stderr",
     "output_type": "stream",
     "text": [
      "100%|██████████| 1/1 [00:00<00:00,  1.78it/s]\n"
     ]
    },
    {
     "name": "stdout",
     "output_type": "stream",
     "text": [
      "success\n",
      "4\n"
     ]
    },
    {
     "name": "stderr",
     "output_type": "stream",
     "text": [
      "100%|██████████| 1/1 [00:00<00:00,  1.60it/s]\n"
     ]
    },
    {
     "name": "stdout",
     "output_type": "stream",
     "text": [
      "success\n",
      "5\n"
     ]
    },
    {
     "name": "stderr",
     "output_type": "stream",
     "text": [
      "100%|██████████| 1/1 [00:00<00:00,  1.68it/s]\n"
     ]
    },
    {
     "name": "stdout",
     "output_type": "stream",
     "text": [
      "success\n",
      "6\n"
     ]
    },
    {
     "name": "stderr",
     "output_type": "stream",
     "text": [
      "100%|██████████| 1/1 [00:00<00:00,  1.60it/s]\n"
     ]
    },
    {
     "name": "stdout",
     "output_type": "stream",
     "text": [
      "success\n",
      "7\n"
     ]
    },
    {
     "name": "stderr",
     "output_type": "stream",
     "text": [
      "100%|██████████| 1/1 [00:00<00:00,  1.75it/s]\n"
     ]
    },
    {
     "name": "stdout",
     "output_type": "stream",
     "text": [
      "success\n",
      "8\n"
     ]
    },
    {
     "name": "stderr",
     "output_type": "stream",
     "text": [
      "100%|██████████| 1/1 [00:01<00:00,  1.23s/it]\n"
     ]
    },
    {
     "name": "stdout",
     "output_type": "stream",
     "text": [
      "success\n",
      "9\n"
     ]
    },
    {
     "name": "stderr",
     "output_type": "stream",
     "text": [
      "100%|██████████| 1/1 [00:00<00:00,  1.70it/s]\n"
     ]
    },
    {
     "name": "stdout",
     "output_type": "stream",
     "text": [
      "success\n",
      "10\n"
     ]
    },
    {
     "name": "stderr",
     "output_type": "stream",
     "text": [
      "100%|██████████| 1/1 [00:00<00:00,  1.65it/s]\n"
     ]
    },
    {
     "name": "stdout",
     "output_type": "stream",
     "text": [
      "success\n",
      "11\n"
     ]
    },
    {
     "name": "stderr",
     "output_type": "stream",
     "text": [
      "100%|██████████| 1/1 [00:00<00:00,  1.78it/s]\n"
     ]
    },
    {
     "name": "stdout",
     "output_type": "stream",
     "text": [
      "success\n",
      "12\n"
     ]
    },
    {
     "name": "stderr",
     "output_type": "stream",
     "text": [
      "100%|██████████| 1/1 [00:00<00:00,  1.23it/s]\n"
     ]
    },
    {
     "name": "stdout",
     "output_type": "stream",
     "text": [
      "success\n",
      "13\n"
     ]
    },
    {
     "name": "stderr",
     "output_type": "stream",
     "text": [
      "100%|██████████| 1/1 [00:00<00:00,  1.50it/s]\n"
     ]
    },
    {
     "name": "stdout",
     "output_type": "stream",
     "text": [
      "success\n",
      "14\n"
     ]
    },
    {
     "name": "stderr",
     "output_type": "stream",
     "text": [
      "100%|██████████| 1/1 [00:00<00:00,  1.65it/s]\n"
     ]
    },
    {
     "name": "stdout",
     "output_type": "stream",
     "text": [
      "success\n",
      "15\n"
     ]
    },
    {
     "name": "stderr",
     "output_type": "stream",
     "text": [
      "100%|██████████| 1/1 [00:00<00:00,  1.32it/s]\n"
     ]
    },
    {
     "name": "stdout",
     "output_type": "stream",
     "text": [
      "success\n",
      "16\n"
     ]
    },
    {
     "name": "stderr",
     "output_type": "stream",
     "text": [
      "100%|██████████| 1/1 [00:00<00:00,  1.67it/s]\n"
     ]
    },
    {
     "name": "stdout",
     "output_type": "stream",
     "text": [
      "success\n",
      "17\n"
     ]
    },
    {
     "name": "stderr",
     "output_type": "stream",
     "text": [
      "100%|██████████| 1/1 [00:00<00:00,  1.59it/s]\n"
     ]
    },
    {
     "name": "stdout",
     "output_type": "stream",
     "text": [
      "success\n",
      "18\n"
     ]
    },
    {
     "name": "stderr",
     "output_type": "stream",
     "text": [
      "100%|██████████| 1/1 [00:00<00:00,  1.68it/s]\n"
     ]
    },
    {
     "name": "stdout",
     "output_type": "stream",
     "text": [
      "success\n",
      "19\n"
     ]
    },
    {
     "name": "stderr",
     "output_type": "stream",
     "text": [
      "100%|██████████| 1/1 [00:00<00:00,  1.66it/s]\n"
     ]
    },
    {
     "name": "stdout",
     "output_type": "stream",
     "text": [
      "success\n",
      "20\n"
     ]
    },
    {
     "name": "stderr",
     "output_type": "stream",
     "text": [
      "100%|██████████| 1/1 [00:00<00:00,  1.42it/s]\n"
     ]
    },
    {
     "name": "stdout",
     "output_type": "stream",
     "text": [
      "success\n",
      "21\n"
     ]
    },
    {
     "name": "stderr",
     "output_type": "stream",
     "text": [
      "100%|██████████| 1/1 [00:00<00:00,  1.42it/s]\n"
     ]
    },
    {
     "name": "stdout",
     "output_type": "stream",
     "text": [
      "success\n",
      "22\n"
     ]
    },
    {
     "name": "stderr",
     "output_type": "stream",
     "text": [
      "100%|██████████| 1/1 [00:00<00:00,  1.68it/s]\n"
     ]
    },
    {
     "name": "stdout",
     "output_type": "stream",
     "text": [
      "success\n",
      "23\n"
     ]
    },
    {
     "name": "stderr",
     "output_type": "stream",
     "text": [
      "100%|██████████| 1/1 [00:00<00:00,  1.55it/s]\n"
     ]
    },
    {
     "name": "stdout",
     "output_type": "stream",
     "text": [
      "success\n",
      "24\n"
     ]
    },
    {
     "name": "stderr",
     "output_type": "stream",
     "text": [
      "100%|██████████| 1/1 [00:00<00:00,  1.60it/s]\n"
     ]
    },
    {
     "name": "stdout",
     "output_type": "stream",
     "text": [
      "success\n",
      "25\n"
     ]
    },
    {
     "name": "stderr",
     "output_type": "stream",
     "text": [
      "100%|██████████| 1/1 [00:00<00:00,  1.61it/s]\n"
     ]
    },
    {
     "name": "stdout",
     "output_type": "stream",
     "text": [
      "success\n",
      "26\n"
     ]
    },
    {
     "name": "stderr",
     "output_type": "stream",
     "text": [
      "100%|██████████| 1/1 [00:00<00:00,  1.66it/s]\n"
     ]
    },
    {
     "name": "stdout",
     "output_type": "stream",
     "text": [
      "success\n",
      "27\n"
     ]
    },
    {
     "name": "stderr",
     "output_type": "stream",
     "text": [
      "100%|██████████| 1/1 [00:00<00:00,  1.69it/s]\n"
     ]
    },
    {
     "name": "stdout",
     "output_type": "stream",
     "text": [
      "success\n",
      "28\n"
     ]
    },
    {
     "name": "stderr",
     "output_type": "stream",
     "text": [
      "100%|██████████| 1/1 [00:00<00:00,  1.68it/s]\n"
     ]
    },
    {
     "name": "stdout",
     "output_type": "stream",
     "text": [
      "success\n",
      "29\n"
     ]
    },
    {
     "name": "stderr",
     "output_type": "stream",
     "text": [
      "100%|██████████| 1/1 [00:00<00:00,  1.52it/s]\n"
     ]
    },
    {
     "name": "stdout",
     "output_type": "stream",
     "text": [
      "success\n",
      "30\n"
     ]
    },
    {
     "name": "stderr",
     "output_type": "stream",
     "text": [
      "100%|██████████| 1/1 [00:00<00:00,  1.52it/s]\n"
     ]
    },
    {
     "name": "stdout",
     "output_type": "stream",
     "text": [
      "success\n",
      "31\n"
     ]
    },
    {
     "name": "stderr",
     "output_type": "stream",
     "text": [
      "100%|██████████| 1/1 [00:00<00:00,  1.72it/s]\n"
     ]
    },
    {
     "name": "stdout",
     "output_type": "stream",
     "text": [
      "success\n",
      "32\n"
     ]
    },
    {
     "name": "stderr",
     "output_type": "stream",
     "text": [
      "100%|██████████| 1/1 [00:00<00:00,  1.87it/s]\n"
     ]
    },
    {
     "name": "stdout",
     "output_type": "stream",
     "text": [
      "success\n",
      "33\n"
     ]
    },
    {
     "name": "stderr",
     "output_type": "stream",
     "text": [
      "100%|██████████| 1/1 [00:00<00:00,  1.81it/s]\n"
     ]
    },
    {
     "name": "stdout",
     "output_type": "stream",
     "text": [
      "success\n",
      "34\n"
     ]
    },
    {
     "name": "stderr",
     "output_type": "stream",
     "text": [
      "100%|██████████| 1/1 [00:00<00:00,  4.49it/s]\n"
     ]
    },
    {
     "name": "stdout",
     "output_type": "stream",
     "text": [
      "success\n",
      "35\n"
     ]
    },
    {
     "name": "stderr",
     "output_type": "stream",
     "text": [
      "100%|██████████| 1/1 [00:00<00:00,  4.81it/s]\n"
     ]
    },
    {
     "name": "stdout",
     "output_type": "stream",
     "text": [
      "success\n",
      "36\n"
     ]
    },
    {
     "name": "stderr",
     "output_type": "stream",
     "text": [
      "100%|██████████| 1/1 [00:00<00:00,  4.12it/s]\n"
     ]
    },
    {
     "name": "stdout",
     "output_type": "stream",
     "text": [
      "success\n",
      "37\n"
     ]
    },
    {
     "name": "stderr",
     "output_type": "stream",
     "text": [
      "100%|██████████| 1/1 [00:00<00:00,  4.27it/s]\n"
     ]
    },
    {
     "name": "stdout",
     "output_type": "stream",
     "text": [
      "success\n",
      "38\n"
     ]
    },
    {
     "name": "stderr",
     "output_type": "stream",
     "text": [
      "100%|██████████| 1/1 [00:00<00:00,  4.32it/s]\n"
     ]
    },
    {
     "name": "stdout",
     "output_type": "stream",
     "text": [
      "success\n",
      "39\n"
     ]
    },
    {
     "name": "stderr",
     "output_type": "stream",
     "text": [
      "100%|██████████| 1/1 [00:00<00:00,  3.98it/s]\n"
     ]
    },
    {
     "name": "stdout",
     "output_type": "stream",
     "text": [
      "success\n",
      "40\n"
     ]
    },
    {
     "name": "stderr",
     "output_type": "stream",
     "text": [
      "100%|██████████| 1/1 [00:00<00:00,  4.28it/s]\n"
     ]
    },
    {
     "name": "stdout",
     "output_type": "stream",
     "text": [
      "success\n",
      "41\n"
     ]
    },
    {
     "name": "stderr",
     "output_type": "stream",
     "text": [
      "100%|██████████| 1/1 [00:00<00:00,  4.16it/s]\n"
     ]
    },
    {
     "name": "stdout",
     "output_type": "stream",
     "text": [
      "success\n",
      "42\n"
     ]
    },
    {
     "name": "stderr",
     "output_type": "stream",
     "text": [
      "100%|██████████| 1/1 [00:00<00:00,  3.88it/s]\n"
     ]
    },
    {
     "name": "stdout",
     "output_type": "stream",
     "text": [
      "success\n",
      "43\n"
     ]
    },
    {
     "name": "stderr",
     "output_type": "stream",
     "text": [
      "100%|██████████| 1/1 [00:00<00:00,  3.95it/s]\n"
     ]
    },
    {
     "name": "stdout",
     "output_type": "stream",
     "text": [
      "success\n",
      "44\n"
     ]
    },
    {
     "name": "stderr",
     "output_type": "stream",
     "text": [
      "100%|██████████| 1/1 [00:00<00:00,  3.91it/s]\n"
     ]
    },
    {
     "name": "stdout",
     "output_type": "stream",
     "text": [
      "success\n",
      "45\n"
     ]
    },
    {
     "name": "stderr",
     "output_type": "stream",
     "text": [
      "100%|██████████| 1/1 [00:00<00:00,  3.71it/s]\n"
     ]
    },
    {
     "name": "stdout",
     "output_type": "stream",
     "text": [
      "success\n",
      "46\n"
     ]
    },
    {
     "name": "stderr",
     "output_type": "stream",
     "text": [
      "100%|██████████| 1/1 [00:00<00:00,  4.45it/s]\n"
     ]
    },
    {
     "name": "stdout",
     "output_type": "stream",
     "text": [
      "success\n",
      "47\n"
     ]
    },
    {
     "name": "stderr",
     "output_type": "stream",
     "text": [
      "100%|██████████| 1/1 [00:00<00:00,  4.28it/s]\n"
     ]
    },
    {
     "name": "stdout",
     "output_type": "stream",
     "text": [
      "success\n",
      "48\n"
     ]
    },
    {
     "name": "stderr",
     "output_type": "stream",
     "text": [
      "100%|██████████| 1/1 [00:00<00:00,  4.53it/s]\n"
     ]
    },
    {
     "name": "stdout",
     "output_type": "stream",
     "text": [
      "success\n",
      "49\n"
     ]
    },
    {
     "name": "stderr",
     "output_type": "stream",
     "text": [
      "100%|██████████| 1/1 [00:00<00:00,  4.57it/s]\n"
     ]
    },
    {
     "name": "stdout",
     "output_type": "stream",
     "text": [
      "success\n",
      "50\n"
     ]
    },
    {
     "name": "stderr",
     "output_type": "stream",
     "text": [
      "100%|██████████| 1/1 [00:00<00:00,  4.34it/s]\n"
     ]
    },
    {
     "name": "stdout",
     "output_type": "stream",
     "text": [
      "success\n",
      "51\n"
     ]
    },
    {
     "name": "stderr",
     "output_type": "stream",
     "text": [
      "100%|██████████| 1/1 [00:00<00:00,  3.99it/s]\n"
     ]
    },
    {
     "name": "stdout",
     "output_type": "stream",
     "text": [
      "success\n",
      "52\n"
     ]
    },
    {
     "name": "stderr",
     "output_type": "stream",
     "text": [
      "100%|██████████| 1/1 [00:00<00:00,  3.70it/s]\n"
     ]
    },
    {
     "name": "stdout",
     "output_type": "stream",
     "text": [
      "success\n",
      "53\n"
     ]
    },
    {
     "name": "stderr",
     "output_type": "stream",
     "text": [
      "100%|██████████| 1/1 [00:00<00:00,  3.99it/s]\n"
     ]
    },
    {
     "name": "stdout",
     "output_type": "stream",
     "text": [
      "success\n",
      "54\n"
     ]
    },
    {
     "name": "stderr",
     "output_type": "stream",
     "text": [
      "100%|██████████| 1/1 [00:00<00:00,  3.84it/s]\n"
     ]
    },
    {
     "name": "stdout",
     "output_type": "stream",
     "text": [
      "success\n",
      "55\n"
     ]
    },
    {
     "name": "stderr",
     "output_type": "stream",
     "text": [
      "100%|██████████| 1/1 [00:00<00:00,  4.23it/s]\n"
     ]
    },
    {
     "name": "stdout",
     "output_type": "stream",
     "text": [
      "success\n",
      "56\n"
     ]
    },
    {
     "name": "stderr",
     "output_type": "stream",
     "text": [
      "100%|██████████| 1/1 [00:00<00:00,  4.15it/s]\n"
     ]
    },
    {
     "name": "stdout",
     "output_type": "stream",
     "text": [
      "success\n",
      "57\n"
     ]
    },
    {
     "name": "stderr",
     "output_type": "stream",
     "text": [
      "100%|██████████| 1/1 [00:00<00:00,  4.30it/s]\n"
     ]
    },
    {
     "name": "stdout",
     "output_type": "stream",
     "text": [
      "success\n",
      "58\n"
     ]
    },
    {
     "name": "stderr",
     "output_type": "stream",
     "text": [
      "100%|██████████| 1/1 [00:00<00:00,  4.62it/s]\n"
     ]
    },
    {
     "name": "stdout",
     "output_type": "stream",
     "text": [
      "success\n",
      "59\n"
     ]
    },
    {
     "name": "stderr",
     "output_type": "stream",
     "text": [
      "100%|██████████| 1/1 [00:00<00:00,  3.84it/s]\n"
     ]
    },
    {
     "name": "stdout",
     "output_type": "stream",
     "text": [
      "success\n",
      "60\n"
     ]
    },
    {
     "name": "stderr",
     "output_type": "stream",
     "text": [
      "100%|██████████| 1/1 [00:00<00:00,  4.32it/s]\n"
     ]
    },
    {
     "name": "stdout",
     "output_type": "stream",
     "text": [
      "success\n",
      "61\n"
     ]
    },
    {
     "name": "stderr",
     "output_type": "stream",
     "text": [
      "100%|██████████| 1/1 [00:00<00:00,  4.37it/s]\n"
     ]
    },
    {
     "name": "stdout",
     "output_type": "stream",
     "text": [
      "success\n",
      "62\n"
     ]
    },
    {
     "name": "stderr",
     "output_type": "stream",
     "text": [
      "100%|██████████| 1/1 [00:00<00:00,  4.61it/s]\n"
     ]
    },
    {
     "name": "stdout",
     "output_type": "stream",
     "text": [
      "success\n",
      "63\n"
     ]
    },
    {
     "name": "stderr",
     "output_type": "stream",
     "text": [
      "100%|██████████| 1/1 [00:00<00:00,  4.59it/s]\n"
     ]
    },
    {
     "name": "stdout",
     "output_type": "stream",
     "text": [
      "success\n",
      "64\n"
     ]
    },
    {
     "name": "stderr",
     "output_type": "stream",
     "text": [
      "100%|██████████| 1/1 [00:00<00:00,  4.22it/s]\n"
     ]
    },
    {
     "name": "stdout",
     "output_type": "stream",
     "text": [
      "success\n",
      "65\n"
     ]
    },
    {
     "name": "stderr",
     "output_type": "stream",
     "text": [
      "100%|██████████| 1/1 [00:00<00:00,  3.74it/s]\n"
     ]
    },
    {
     "name": "stdout",
     "output_type": "stream",
     "text": [
      "success\n",
      "66\n"
     ]
    },
    {
     "name": "stderr",
     "output_type": "stream",
     "text": [
      "100%|██████████| 1/1 [00:00<00:00,  4.43it/s]\n"
     ]
    },
    {
     "name": "stdout",
     "output_type": "stream",
     "text": [
      "success\n",
      "67\n"
     ]
    },
    {
     "name": "stderr",
     "output_type": "stream",
     "text": [
      "100%|██████████| 1/1 [00:00<00:00,  4.11it/s]\n"
     ]
    },
    {
     "name": "stdout",
     "output_type": "stream",
     "text": [
      "success\n",
      "68\n"
     ]
    },
    {
     "name": "stderr",
     "output_type": "stream",
     "text": [
      "100%|██████████| 1/1 [00:00<00:00,  4.15it/s]\n"
     ]
    },
    {
     "name": "stdout",
     "output_type": "stream",
     "text": [
      "success\n",
      "69\n"
     ]
    },
    {
     "name": "stderr",
     "output_type": "stream",
     "text": [
      "100%|██████████| 1/1 [00:00<00:00,  4.17it/s]\n"
     ]
    },
    {
     "name": "stdout",
     "output_type": "stream",
     "text": [
      "success\n",
      "70\n"
     ]
    },
    {
     "name": "stderr",
     "output_type": "stream",
     "text": [
      "100%|██████████| 1/1 [00:00<00:00,  4.44it/s]\n"
     ]
    },
    {
     "name": "stdout",
     "output_type": "stream",
     "text": [
      "success\n",
      "71\n"
     ]
    },
    {
     "name": "stderr",
     "output_type": "stream",
     "text": [
      "100%|██████████| 1/1 [00:00<00:00,  3.97it/s]\n"
     ]
    },
    {
     "name": "stdout",
     "output_type": "stream",
     "text": [
      "success\n",
      "72\n"
     ]
    },
    {
     "name": "stderr",
     "output_type": "stream",
     "text": [
      "100%|██████████| 1/1 [00:00<00:00,  4.40it/s]\n"
     ]
    },
    {
     "name": "stdout",
     "output_type": "stream",
     "text": [
      "success\n",
      "73\n"
     ]
    },
    {
     "name": "stderr",
     "output_type": "stream",
     "text": [
      "100%|██████████| 1/1 [00:00<00:00,  3.69it/s]\n"
     ]
    },
    {
     "name": "stdout",
     "output_type": "stream",
     "text": [
      "success\n",
      "74\n"
     ]
    },
    {
     "name": "stderr",
     "output_type": "stream",
     "text": [
      "100%|██████████| 1/1 [00:00<00:00,  4.39it/s]\n"
     ]
    },
    {
     "name": "stdout",
     "output_type": "stream",
     "text": [
      "success\n",
      "75\n"
     ]
    },
    {
     "name": "stderr",
     "output_type": "stream",
     "text": [
      "100%|██████████| 1/1 [00:00<00:00,  4.12it/s]\n"
     ]
    },
    {
     "name": "stdout",
     "output_type": "stream",
     "text": [
      "success\n",
      "76\n"
     ]
    },
    {
     "name": "stderr",
     "output_type": "stream",
     "text": [
      "100%|██████████| 1/1 [00:00<00:00,  3.53it/s]\n"
     ]
    },
    {
     "name": "stdout",
     "output_type": "stream",
     "text": [
      "success\n",
      "77\n"
     ]
    },
    {
     "name": "stderr",
     "output_type": "stream",
     "text": [
      "100%|██████████| 1/1 [00:00<00:00,  3.34it/s]\n"
     ]
    },
    {
     "name": "stdout",
     "output_type": "stream",
     "text": [
      "success\n",
      "78\n"
     ]
    },
    {
     "name": "stderr",
     "output_type": "stream",
     "text": [
      "100%|██████████| 1/1 [00:00<00:00,  3.52it/s]\n"
     ]
    },
    {
     "name": "stdout",
     "output_type": "stream",
     "text": [
      "success\n",
      "79\n"
     ]
    },
    {
     "name": "stderr",
     "output_type": "stream",
     "text": [
      "100%|██████████| 1/1 [00:00<00:00,  3.50it/s]\n"
     ]
    },
    {
     "name": "stdout",
     "output_type": "stream",
     "text": [
      "success\n",
      "80\n"
     ]
    },
    {
     "name": "stderr",
     "output_type": "stream",
     "text": [
      "100%|██████████| 1/1 [00:00<00:00,  3.36it/s]\n"
     ]
    },
    {
     "name": "stdout",
     "output_type": "stream",
     "text": [
      "success\n",
      "81\n"
     ]
    },
    {
     "name": "stderr",
     "output_type": "stream",
     "text": [
      "100%|██████████| 1/1 [00:00<00:00,  2.73it/s]\n"
     ]
    },
    {
     "name": "stdout",
     "output_type": "stream",
     "text": [
      "success\n",
      "82\n"
     ]
    },
    {
     "name": "stderr",
     "output_type": "stream",
     "text": [
      "100%|██████████| 1/1 [00:00<00:00,  3.17it/s]\n"
     ]
    },
    {
     "name": "stdout",
     "output_type": "stream",
     "text": [
      "success\n",
      "83\n"
     ]
    },
    {
     "name": "stderr",
     "output_type": "stream",
     "text": [
      "100%|██████████| 1/1 [00:00<00:00,  3.57it/s]\n"
     ]
    },
    {
     "name": "stdout",
     "output_type": "stream",
     "text": [
      "success\n",
      "84\n"
     ]
    },
    {
     "name": "stderr",
     "output_type": "stream",
     "text": [
      "100%|██████████| 1/1 [00:00<00:00,  3.14it/s]\n"
     ]
    },
    {
     "name": "stdout",
     "output_type": "stream",
     "text": [
      "success\n",
      "85\n"
     ]
    },
    {
     "name": "stderr",
     "output_type": "stream",
     "text": [
      "100%|██████████| 1/1 [00:00<00:00,  2.85it/s]\n"
     ]
    },
    {
     "name": "stdout",
     "output_type": "stream",
     "text": [
      "success\n",
      "86\n"
     ]
    },
    {
     "name": "stderr",
     "output_type": "stream",
     "text": [
      "100%|██████████| 1/1 [00:00<00:00,  3.13it/s]\n"
     ]
    },
    {
     "name": "stdout",
     "output_type": "stream",
     "text": [
      "success\n",
      "87\n"
     ]
    },
    {
     "name": "stderr",
     "output_type": "stream",
     "text": [
      "100%|██████████| 1/1 [00:00<00:00,  2.97it/s]\n"
     ]
    },
    {
     "name": "stdout",
     "output_type": "stream",
     "text": [
      "success\n",
      "88\n"
     ]
    },
    {
     "name": "stderr",
     "output_type": "stream",
     "text": [
      "100%|██████████| 1/1 [00:00<00:00,  3.73it/s]\n"
     ]
    },
    {
     "name": "stdout",
     "output_type": "stream",
     "text": [
      "success\n",
      "89\n"
     ]
    },
    {
     "name": "stderr",
     "output_type": "stream",
     "text": [
      "100%|██████████| 1/1 [00:00<00:00,  3.92it/s]\n"
     ]
    },
    {
     "name": "stdout",
     "output_type": "stream",
     "text": [
      "success\n",
      "90\n"
     ]
    },
    {
     "name": "stderr",
     "output_type": "stream",
     "text": [
      "100%|██████████| 1/1 [00:00<00:00,  3.39it/s]\n"
     ]
    },
    {
     "name": "stdout",
     "output_type": "stream",
     "text": [
      "success\n",
      "91\n"
     ]
    },
    {
     "name": "stderr",
     "output_type": "stream",
     "text": [
      "100%|██████████| 1/1 [00:00<00:00,  3.64it/s]\n"
     ]
    },
    {
     "name": "stdout",
     "output_type": "stream",
     "text": [
      "success\n",
      "92\n"
     ]
    },
    {
     "name": "stderr",
     "output_type": "stream",
     "text": [
      "100%|██████████| 1/1 [00:00<00:00,  3.18it/s]\n"
     ]
    },
    {
     "name": "stdout",
     "output_type": "stream",
     "text": [
      "success\n",
      "93\n"
     ]
    },
    {
     "name": "stderr",
     "output_type": "stream",
     "text": [
      "100%|██████████| 1/1 [00:00<00:00,  3.68it/s]\n"
     ]
    },
    {
     "name": "stdout",
     "output_type": "stream",
     "text": [
      "success\n",
      "94\n"
     ]
    },
    {
     "name": "stderr",
     "output_type": "stream",
     "text": [
      "100%|██████████| 1/1 [00:00<00:00,  3.61it/s]\n"
     ]
    },
    {
     "name": "stdout",
     "output_type": "stream",
     "text": [
      "success\n",
      "95\n"
     ]
    },
    {
     "name": "stderr",
     "output_type": "stream",
     "text": [
      "100%|██████████| 1/1 [00:00<00:00,  3.66it/s]\n"
     ]
    },
    {
     "name": "stdout",
     "output_type": "stream",
     "text": [
      "success\n",
      "96\n"
     ]
    },
    {
     "name": "stderr",
     "output_type": "stream",
     "text": [
      "100%|██████████| 1/1 [00:00<00:00,  3.29it/s]\n"
     ]
    },
    {
     "name": "stdout",
     "output_type": "stream",
     "text": [
      "success\n",
      "97\n"
     ]
    },
    {
     "name": "stderr",
     "output_type": "stream",
     "text": [
      "100%|██████████| 1/1 [00:00<00:00,  2.19it/s]\n"
     ]
    },
    {
     "name": "stdout",
     "output_type": "stream",
     "text": [
      "success\n",
      "98\n"
     ]
    },
    {
     "name": "stderr",
     "output_type": "stream",
     "text": [
      "100%|██████████| 1/1 [00:00<00:00,  3.40it/s]\n"
     ]
    },
    {
     "name": "stdout",
     "output_type": "stream",
     "text": [
      "success\n",
      "99\n"
     ]
    },
    {
     "name": "stderr",
     "output_type": "stream",
     "text": [
      "100%|██████████| 1/1 [00:00<00:00,  3.35it/s]\n"
     ]
    },
    {
     "name": "stdout",
     "output_type": "stream",
     "text": [
      "success\n"
     ]
    }
   ],
   "source": [
    "test100 = pd.read_csv('./data/test100.csv')\n",
    "columns = ['age', 'workclass', 'education', 'marital_status', 'occupation', 'race',\n",
    "       'gender', 'hours_per_week']\n",
    "model_description = \"\"\"ML-system that predicts wether a person will earn more than 50k $ a year\"\"\"\n",
    "for prompt in ['zero']:\n",
    "    directory = Path(f\"./experiments/{prompt}\")\n",
    "    # Create the directory if it does not exist\n",
    "    directory.mkdir(parents=True, exist_ok=True)\n",
    "    for cf in [5]:\n",
    "        directory = Path(f\"./experiments/{prompt}/{cf}_cfs/evals/\")\n",
    "        # Create the directory if it does not exist\n",
    "        directory.mkdir(parents=True, exist_ok=True)\n",
    "        directory = Path(f\"./experiments/{prompt}/{cf}_cfs/examples/\")\n",
    "        # Create the directory if it does not exist\n",
    "        directory.mkdir(parents=True, exist_ok=True)\n",
    "        if prompt == 'ToT':\n",
    "            exp_m = ToTLLMExplanation4CFs(model = model, #Load the model we want to explain\n",
    "                                    model_description = \"\"\"ML-system that predicts wether a person will earn more than 50k $ a year\"\"\", # brief explanation of the ML model\n",
    "                                    backend='sklearn', # Framework used to build the model (used to generate counterfactuals)\n",
    "                                    dataset_info=string_info(train_dataset.columns, helpers.get_adult_data_info()) , # string information about the dataset\n",
    "                                    continuous_features=['age', 'hours_per_week'], # Necessary for the counterfactual generation\n",
    "                                    outcome_name= 'income', #Necessary for counterfactual generation\n",
    "                                    training_set=train_dataset, #Necessary for counterfactual generation\n",
    "                                    test_set= test_dataset, #Necessary to  check novelty of the evaluation example\n",
    "                                    llm='gpt-4o', #LLM used, works with Langchain\n",
    "                                    prompt_type='one', # zero or one\n",
    "                                    n_counterfactuals=cf, #Number of counterfactuals used in the explanation \n",
    "                                    user_input=False, #Human in the loop helping select the causes\n",
    "                                    branches = 3\n",
    "                                )\n",
    "        else:\n",
    "            exp_m = LLMExplanation4CFs(model = model, #Load the model we want to explain\n",
    "                                    model_description = \"\"\"ML-system that predicts wether a person will earn more than 50k $ a year\"\"\", # brief explanation of the ML model\n",
    "                                    backend='sklearn', # Framework used to build the model (used to generate counterfactuals)\n",
    "                                    dataset_info=string_info(train_dataset.columns, helpers.get_adult_data_info()) , # string information about the dataset\n",
    "                                    continuous_features=['age', 'hours_per_week'], # Necessary for the counterfactual generation\n",
    "                                    outcome_name= 'income', #Necessary for counterfactual generation\n",
    "                                    training_set=train_dataset, #Necessary for counterfactual generation\n",
    "                                    test_set= test_dataset, #Necessary to  check novelty of the evaluation example\n",
    "                                    llm='gpt-4o', #LLM used, works with Langchain\n",
    "                                    prompt_type=prompt, # zero or one\n",
    "                                    n_counterfactuals=cf, #Number of counterfactuals used in the explanation \n",
    "                                    user_input=False #Human in the loop helping select the causes\n",
    "                                )\n",
    "\n",
    "\n",
    "\n",
    "        exp_m.fit()\n",
    "        for i in range(test100.shape[0]):\n",
    "            print(i)\n",
    "            try:              \n",
    "                example_label, n_rules, rules_followed, first_rule, second_rule,third_rule, in_dataset = exp_m.explain_evaluate(user_data = pd.DataFrame(test100.loc[i, columns]).transpose(), verbose = False, return_all=False)\n",
    "                os.rename('./temp_files/temp_csv.csv', f'./experiments/{prompt}/{cf}_cfs/examples/ex_{cf}cfs_{i}.csv')\n",
    "                os.rename('./temp_files/evaluation.csv', f'./experiments/{prompt}/{cf}_cfs/evals/eval_{cf}cfs_{i}.csv')            \n",
    "                test100.loc[i, str(cf) + '_cfs_' + prompt + '_label'] = example_label\n",
    "                test100.loc[i, str(cf) + '_cfs_' +prompt + '_rules'] = n_rules\n",
    "                test100.loc[i, str(cf) + '_cfs_' +prompt + '_rules_followed'] = rules_followed\n",
    "                test100.loc[i, str(cf) + '_cfs_' + prompt + '_rule_1'] = first_rule\n",
    "                test100.loc[i, str(cf) + '_cfs_' + prompt + '_rule_2'] = second_rule\n",
    "                test100.loc[i, str(cf) + '_cfs_' + prompt + '_rule_3'] = third_rule\n",
    "                test100.loc[i, str(cf) + '_cfs_' +prompt + '_in_data'] = in_dataset\n",
    "                test100.loc[i, str(cf) + '_cfs_' +prompt + '_status'] = 0\n",
    "                print('success')\n",
    "            except Exception as e:\n",
    "                print(e)\n",
    "                test100.loc[i, str(cf) + '_cfs_' +prompt + '_status'] = 1\n",
    "            if i%10 == 0:\n",
    "                test100.to_csv('experiments.csv', index=False)\n",
    "        test100.to_csv(f'experiment_{prompt}_{cf}_cfs.csv', index=False)"
   ]
  },
  {
   "cell_type": "code",
   "execution_count": 18,
   "metadata": {},
   "outputs": [
    {
     "data": {
      "text/html": [
       "<div>\n",
       "<style scoped>\n",
       "    .dataframe tbody tr th:only-of-type {\n",
       "        vertical-align: middle;\n",
       "    }\n",
       "\n",
       "    .dataframe tbody tr th {\n",
       "        vertical-align: top;\n",
       "    }\n",
       "\n",
       "    .dataframe thead th {\n",
       "        text-align: right;\n",
       "    }\n",
       "</style>\n",
       "<table border=\"1\" class=\"dataframe\">\n",
       "  <thead>\n",
       "    <tr style=\"text-align: right;\">\n",
       "      <th></th>\n",
       "      <th>age</th>\n",
       "      <th>workclass</th>\n",
       "      <th>education</th>\n",
       "      <th>marital_status</th>\n",
       "      <th>occupation</th>\n",
       "      <th>race</th>\n",
       "      <th>gender</th>\n",
       "      <th>hours_per_week</th>\n",
       "      <th>5_cfs_zero_label</th>\n",
       "      <th>5_cfs_zero_rules</th>\n",
       "      <th>5_cfs_zero_rules_followed</th>\n",
       "      <th>5_cfs_zero_rule_1</th>\n",
       "      <th>5_cfs_zero_rule_2</th>\n",
       "      <th>5_cfs_zero_rule_3</th>\n",
       "      <th>5_cfs_zero_in_data</th>\n",
       "      <th>5_cfs_zero_status</th>\n",
       "    </tr>\n",
       "  </thead>\n",
       "  <tbody>\n",
       "    <tr>\n",
       "      <th>0</th>\n",
       "      <td>41</td>\n",
       "      <td>Private</td>\n",
       "      <td>Some-college</td>\n",
       "      <td>Divorced</td>\n",
       "      <td>Sales</td>\n",
       "      <td>White</td>\n",
       "      <td>Female</td>\n",
       "      <td>48</td>\n",
       "      <td>1.0</td>\n",
       "      <td>6.0</td>\n",
       "      <td>4.0</td>\n",
       "      <td>1.0</td>\n",
       "      <td>0.0</td>\n",
       "      <td>1.0</td>\n",
       "      <td>False</td>\n",
       "      <td>0.0</td>\n",
       "    </tr>\n",
       "    <tr>\n",
       "      <th>1</th>\n",
       "      <td>49</td>\n",
       "      <td>Private</td>\n",
       "      <td>HS-grad</td>\n",
       "      <td>Divorced</td>\n",
       "      <td>White-Collar</td>\n",
       "      <td>White</td>\n",
       "      <td>Male</td>\n",
       "      <td>32</td>\n",
       "      <td>1.0</td>\n",
       "      <td>4.0</td>\n",
       "      <td>4.0</td>\n",
       "      <td>1.0</td>\n",
       "      <td>1.0</td>\n",
       "      <td>1.0</td>\n",
       "      <td>False</td>\n",
       "      <td>0.0</td>\n",
       "    </tr>\n",
       "    <tr>\n",
       "      <th>2</th>\n",
       "      <td>34</td>\n",
       "      <td>Self-Employed</td>\n",
       "      <td>Assoc</td>\n",
       "      <td>Single</td>\n",
       "      <td>Professional</td>\n",
       "      <td>White</td>\n",
       "      <td>Female</td>\n",
       "      <td>25</td>\n",
       "      <td>1.0</td>\n",
       "      <td>5.0</td>\n",
       "      <td>5.0</td>\n",
       "      <td>1.0</td>\n",
       "      <td>1.0</td>\n",
       "      <td>1.0</td>\n",
       "      <td>False</td>\n",
       "      <td>0.0</td>\n",
       "    </tr>\n",
       "    <tr>\n",
       "      <th>3</th>\n",
       "      <td>46</td>\n",
       "      <td>Private</td>\n",
       "      <td>Assoc</td>\n",
       "      <td>Widowed</td>\n",
       "      <td>Service</td>\n",
       "      <td>White</td>\n",
       "      <td>Female</td>\n",
       "      <td>40</td>\n",
       "      <td>1.0</td>\n",
       "      <td>5.0</td>\n",
       "      <td>4.0</td>\n",
       "      <td>1.0</td>\n",
       "      <td>1.0</td>\n",
       "      <td>1.0</td>\n",
       "      <td>True</td>\n",
       "      <td>0.0</td>\n",
       "    </tr>\n",
       "    <tr>\n",
       "      <th>4</th>\n",
       "      <td>22</td>\n",
       "      <td>Private</td>\n",
       "      <td>HS-grad</td>\n",
       "      <td>Single</td>\n",
       "      <td>Service</td>\n",
       "      <td>Other</td>\n",
       "      <td>Male</td>\n",
       "      <td>30</td>\n",
       "      <td>1.0</td>\n",
       "      <td>3.0</td>\n",
       "      <td>1.0</td>\n",
       "      <td>1.0</td>\n",
       "      <td>0.0</td>\n",
       "      <td>0.0</td>\n",
       "      <td>True</td>\n",
       "      <td>0.0</td>\n",
       "    </tr>\n",
       "    <tr>\n",
       "      <th>...</th>\n",
       "      <td>...</td>\n",
       "      <td>...</td>\n",
       "      <td>...</td>\n",
       "      <td>...</td>\n",
       "      <td>...</td>\n",
       "      <td>...</td>\n",
       "      <td>...</td>\n",
       "      <td>...</td>\n",
       "      <td>...</td>\n",
       "      <td>...</td>\n",
       "      <td>...</td>\n",
       "      <td>...</td>\n",
       "      <td>...</td>\n",
       "      <td>...</td>\n",
       "      <td>...</td>\n",
       "      <td>...</td>\n",
       "    </tr>\n",
       "    <tr>\n",
       "      <th>95</th>\n",
       "      <td>35</td>\n",
       "      <td>Private</td>\n",
       "      <td>Some-college</td>\n",
       "      <td>Married</td>\n",
       "      <td>Blue-Collar</td>\n",
       "      <td>White</td>\n",
       "      <td>Male</td>\n",
       "      <td>60</td>\n",
       "      <td>1.0</td>\n",
       "      <td>5.0</td>\n",
       "      <td>2.0</td>\n",
       "      <td>1.0</td>\n",
       "      <td>0.0</td>\n",
       "      <td>0.0</td>\n",
       "      <td>True</td>\n",
       "      <td>0.0</td>\n",
       "    </tr>\n",
       "    <tr>\n",
       "      <th>96</th>\n",
       "      <td>29</td>\n",
       "      <td>Private</td>\n",
       "      <td>HS-grad</td>\n",
       "      <td>Single</td>\n",
       "      <td>Blue-Collar</td>\n",
       "      <td>Other</td>\n",
       "      <td>Male</td>\n",
       "      <td>40</td>\n",
       "      <td>1.0</td>\n",
       "      <td>6.0</td>\n",
       "      <td>5.0</td>\n",
       "      <td>1.0</td>\n",
       "      <td>1.0</td>\n",
       "      <td>1.0</td>\n",
       "      <td>False</td>\n",
       "      <td>0.0</td>\n",
       "    </tr>\n",
       "    <tr>\n",
       "      <th>97</th>\n",
       "      <td>40</td>\n",
       "      <td>Self-Employed</td>\n",
       "      <td>Some-college</td>\n",
       "      <td>Married</td>\n",
       "      <td>Service</td>\n",
       "      <td>White</td>\n",
       "      <td>Male</td>\n",
       "      <td>50</td>\n",
       "      <td>1.0</td>\n",
       "      <td>6.0</td>\n",
       "      <td>5.0</td>\n",
       "      <td>1.0</td>\n",
       "      <td>1.0</td>\n",
       "      <td>1.0</td>\n",
       "      <td>False</td>\n",
       "      <td>0.0</td>\n",
       "    </tr>\n",
       "    <tr>\n",
       "      <th>98</th>\n",
       "      <td>28</td>\n",
       "      <td>Other/Unknown</td>\n",
       "      <td>HS-grad</td>\n",
       "      <td>Married</td>\n",
       "      <td>Other/Unknown</td>\n",
       "      <td>White</td>\n",
       "      <td>Female</td>\n",
       "      <td>20</td>\n",
       "      <td>1.0</td>\n",
       "      <td>5.0</td>\n",
       "      <td>4.0</td>\n",
       "      <td>1.0</td>\n",
       "      <td>1.0</td>\n",
       "      <td>1.0</td>\n",
       "      <td>False</td>\n",
       "      <td>0.0</td>\n",
       "    </tr>\n",
       "    <tr>\n",
       "      <th>99</th>\n",
       "      <td>20</td>\n",
       "      <td>Private</td>\n",
       "      <td>Some-college</td>\n",
       "      <td>Single</td>\n",
       "      <td>Service</td>\n",
       "      <td>White</td>\n",
       "      <td>Female</td>\n",
       "      <td>40</td>\n",
       "      <td>1.0</td>\n",
       "      <td>5.0</td>\n",
       "      <td>4.0</td>\n",
       "      <td>1.0</td>\n",
       "      <td>1.0</td>\n",
       "      <td>1.0</td>\n",
       "      <td>False</td>\n",
       "      <td>0.0</td>\n",
       "    </tr>\n",
       "  </tbody>\n",
       "</table>\n",
       "<p>100 rows × 16 columns</p>\n",
       "</div>"
      ],
      "text/plain": [
       "    age      workclass     education marital_status     occupation   race  \\\n",
       "0    41        Private  Some-college       Divorced          Sales  White   \n",
       "1    49        Private       HS-grad       Divorced   White-Collar  White   \n",
       "2    34  Self-Employed         Assoc         Single   Professional  White   \n",
       "3    46        Private         Assoc        Widowed        Service  White   \n",
       "4    22        Private       HS-grad         Single        Service  Other   \n",
       "..  ...            ...           ...            ...            ...    ...   \n",
       "95   35        Private  Some-college        Married    Blue-Collar  White   \n",
       "96   29        Private       HS-grad         Single    Blue-Collar  Other   \n",
       "97   40  Self-Employed  Some-college        Married        Service  White   \n",
       "98   28  Other/Unknown       HS-grad        Married  Other/Unknown  White   \n",
       "99   20        Private  Some-college         Single        Service  White   \n",
       "\n",
       "    gender  hours_per_week  5_cfs_zero_label  5_cfs_zero_rules  \\\n",
       "0   Female              48               1.0               6.0   \n",
       "1     Male              32               1.0               4.0   \n",
       "2   Female              25               1.0               5.0   \n",
       "3   Female              40               1.0               5.0   \n",
       "4     Male              30               1.0               3.0   \n",
       "..     ...             ...               ...               ...   \n",
       "95    Male              60               1.0               5.0   \n",
       "96    Male              40               1.0               6.0   \n",
       "97    Male              50               1.0               6.0   \n",
       "98  Female              20               1.0               5.0   \n",
       "99  Female              40               1.0               5.0   \n",
       "\n",
       "    5_cfs_zero_rules_followed  5_cfs_zero_rule_1  5_cfs_zero_rule_2  \\\n",
       "0                         4.0                1.0                0.0   \n",
       "1                         4.0                1.0                1.0   \n",
       "2                         5.0                1.0                1.0   \n",
       "3                         4.0                1.0                1.0   \n",
       "4                         1.0                1.0                0.0   \n",
       "..                        ...                ...                ...   \n",
       "95                        2.0                1.0                0.0   \n",
       "96                        5.0                1.0                1.0   \n",
       "97                        5.0                1.0                1.0   \n",
       "98                        4.0                1.0                1.0   \n",
       "99                        4.0                1.0                1.0   \n",
       "\n",
       "    5_cfs_zero_rule_3 5_cfs_zero_in_data  5_cfs_zero_status  \n",
       "0                 1.0              False                0.0  \n",
       "1                 1.0              False                0.0  \n",
       "2                 1.0              False                0.0  \n",
       "3                 1.0               True                0.0  \n",
       "4                 0.0               True                0.0  \n",
       "..                ...                ...                ...  \n",
       "95                0.0               True                0.0  \n",
       "96                1.0              False                0.0  \n",
       "97                1.0              False                0.0  \n",
       "98                1.0              False                0.0  \n",
       "99                1.0              False                0.0  \n",
       "\n",
       "[100 rows x 16 columns]"
      ]
     },
     "execution_count": 18,
     "metadata": {},
     "output_type": "execute_result"
    }
   ],
   "source": [
    "test100"
   ]
  },
  {
   "cell_type": "code",
   "execution_count": 21,
   "metadata": {},
   "outputs": [
    {
     "data": {
      "text/plain": [
       "[0.93, 4.31, 0.7531666666666665, 0.27, 0.95, 0.71, 0.7127659574468085, 0.0]"
      ]
     },
     "execution_count": 21,
     "metadata": {},
     "output_type": "execute_result"
    }
   ],
   "source": [
    "get_metrics(test100,'zero',5)"
   ]
  },
  {
   "cell_type": "code",
   "execution_count": null,
   "metadata": {},
   "outputs": [],
   "source": [
    "for i in range(10):\n",
    "    example_label, n_rules, rules_followed, first_rule, second_rule,third_rule, in_dataset = exp_m.explain_evaluate(user_data = test100.loc[i, columns], verbose = False)\n",
    "    os.rename('./temp_files/temp_csv.csv', f'./experiments/{prompt}/{cf}_cfs/examples/ex_{cf}cfs_{i}.csv')\n",
    "    os.rename('evaluation.csv', f'./experiments/{prompt}/{cf}_cfs/evals/eval_{cf}cfs_{i}.csv')            \n",
    "    test100.loc[i, str(cf) + '_cfs_' + prompt + '_label'] = example_label\n",
    "    test100.loc[i, str(cf) + '_cfs_' +prompt + '_rules'] = n_rules\n",
    "    test100.loc[i, str(cf) + '_cfs_' +prompt + '_rules_followed'] = rules_followed\n",
    "    test100.loc[i, str(cf) + '_cfs_' + +prompt + '_rule_1'] = first_rule\n",
    "    test100.loc[i, str(cf) + '_cfs_' + +prompt + '_rule_2'] = second_rule\n",
    "    test100.loc[i, str(cf) + '_cfs_' + +prompt + '_rule_3'] = third_rule\n",
    "    test100.loc[i, str(cf) + '_cfs_' +prompt + '_in_data'] = in_dataset\n",
    "    test100.loc[i, str(cf) + '_cfs_' +prompt + '_status'] = 0"
   ]
  },
  {
   "cell_type": "code",
   "execution_count": 27,
   "metadata": {},
   "outputs": [
    {
     "data": {
      "text/plain": [
       "age                        35\n",
       "workclass             Private\n",
       "education             HS-grad\n",
       "marital_status       Divorced\n",
       "occupation        Blue-Collar\n",
       "race                    White\n",
       "gender                   Male\n",
       "hours_per_week             40\n",
       "Name: 9, dtype: object"
      ]
     },
     "execution_count": 27,
     "metadata": {},
     "output_type": "execute_result"
    }
   ],
   "source": [
    "columns = ['age', 'workclass', 'education', 'marital_status', 'occupation', 'race',\n",
    "       'gender', 'hours_per_week']\n",
    "test100.loc[i, columns]"
   ]
  },
  {
   "cell_type": "code",
   "execution_count": null,
   "metadata": {},
   "outputs": [],
   "source": [
    "exp_m = ToTLLMExplanation4CFs( model, backend, model_description, dataset_info, continuous_features, outcome_name,training_set, test_set, llm = 'gpt-4o', prompt_type = 'zero', n_counterfactuals=5, branches = 3, user_input = False)"
   ]
  },
  {
   "cell_type": "code",
   "execution_count": null,
   "metadata": {},
   "outputs": [],
   "source": []
  },
  {
   "cell_type": "code",
   "execution_count": 11,
   "metadata": {},
   "outputs": [
    {
     "data": {
      "text/plain": [
       "[0.6666666666666666,\n",
       " 3.111111111111111,\n",
       " 0.8888888888888888,\n",
       " 1.0,\n",
       " 1.0,\n",
       " 0.6666666666666666]"
      ]
     },
     "execution_count": 11,
     "metadata": {},
     "output_type": "execute_result"
    }
   ],
   "source": [
    "def get_metrics(df,prompt):\n",
    "    validity = df[f'{prompt}_label'].mean()\n",
    "    rules = df[f'{prompt}_rules'].mean()\n",
    "    rules_ratio = np.mean(df[f'{prompt}_rules_followed']/df[f'{prompt}_rules'])\n",
    "    first = df[f'{prompt}_rule_1'].mean()\n",
    "    second = df[f'{prompt}_rule_2'].mean()\n",
    "    third = df[f'{prompt}_rule_3'].mean()\n",
    "    return [validity, rules, rules_ratio, first, second, third]\n",
    "get_metrics(test10,'one')"
   ]
  },
  {
   "cell_type": "code",
   "execution_count": 8,
   "metadata": {},
   "outputs": [
    {
     "name": "stdout",
     "output_type": "stream",
     "text": [
      "one\n"
     ]
    },
    {
     "name": "stderr",
     "output_type": "stream",
     "text": [
      "100%|██████████| 1/1 [00:00<00:00,  7.16it/s]\n",
      "100%|██████████| 1/1 [00:00<00:00,  6.20it/s]\n",
      "100%|██████████| 1/1 [00:00<00:00,  6.81it/s]\n",
      "100%|██████████| 1/1 [00:00<00:00,  6.59it/s]\n",
      "100%|██████████| 1/1 [00:00<00:00,  7.09it/s]\n",
      "100%|██████████| 1/1 [00:00<00:00,  7.01it/s]\n",
      "100%|██████████| 1/1 [00:00<00:00,  7.06it/s]\n",
      "100%|██████████| 1/1 [00:00<00:00,  7.18it/s]\n",
      "100%|██████████| 1/1 [00:00<00:00,  2.75it/s]\n",
      "100%|██████████| 1/1 [00:00<00:00,  2.91it/s]\n"
     ]
    },
    {
     "data": {
      "text/html": [
       "<div>\n",
       "<style scoped>\n",
       "    .dataframe tbody tr th:only-of-type {\n",
       "        vertical-align: middle;\n",
       "    }\n",
       "\n",
       "    .dataframe tbody tr th {\n",
       "        vertical-align: top;\n",
       "    }\n",
       "\n",
       "    .dataframe thead th {\n",
       "        text-align: right;\n",
       "    }\n",
       "</style>\n",
       "<table border=\"1\" class=\"dataframe\">\n",
       "  <thead>\n",
       "    <tr style=\"text-align: right;\">\n",
       "      <th></th>\n",
       "      <th>age</th>\n",
       "      <th>workclass</th>\n",
       "      <th>education</th>\n",
       "      <th>marital_status</th>\n",
       "      <th>occupation</th>\n",
       "      <th>race</th>\n",
       "      <th>gender</th>\n",
       "      <th>hours_per_week</th>\n",
       "      <th>one_label</th>\n",
       "      <th>one_rules</th>\n",
       "      <th>one_rules_followed</th>\n",
       "      <th>one_rule_1</th>\n",
       "      <th>one_rule_2</th>\n",
       "      <th>one_rule_3</th>\n",
       "      <th>one_in_cfs</th>\n",
       "      <th>one_in_data</th>\n",
       "      <th>one_status</th>\n",
       "    </tr>\n",
       "  </thead>\n",
       "  <tbody>\n",
       "    <tr>\n",
       "      <th>0</th>\n",
       "      <td>45</td>\n",
       "      <td>Self-Employed</td>\n",
       "      <td>HS-grad</td>\n",
       "      <td>Married</td>\n",
       "      <td>Blue-Collar</td>\n",
       "      <td>White</td>\n",
       "      <td>Male</td>\n",
       "      <td>50</td>\n",
       "      <td>1.0</td>\n",
       "      <td>3.0</td>\n",
       "      <td>2.0</td>\n",
       "      <td>1.0</td>\n",
       "      <td>1.0</td>\n",
       "      <td>0.0</td>\n",
       "      <td>False</td>\n",
       "      <td>False</td>\n",
       "      <td>0.0</td>\n",
       "    </tr>\n",
       "    <tr>\n",
       "      <th>1</th>\n",
       "      <td>46</td>\n",
       "      <td>Private</td>\n",
       "      <td>HS-grad</td>\n",
       "      <td>Divorced</td>\n",
       "      <td>Blue-Collar</td>\n",
       "      <td>White</td>\n",
       "      <td>Male</td>\n",
       "      <td>30</td>\n",
       "      <td>1.0</td>\n",
       "      <td>3.0</td>\n",
       "      <td>3.0</td>\n",
       "      <td>1.0</td>\n",
       "      <td>1.0</td>\n",
       "      <td>1.0</td>\n",
       "      <td>False</td>\n",
       "      <td>True</td>\n",
       "      <td>0.0</td>\n",
       "    </tr>\n",
       "    <tr>\n",
       "      <th>2</th>\n",
       "      <td>49</td>\n",
       "      <td>Private</td>\n",
       "      <td>HS-grad</td>\n",
       "      <td>Widowed</td>\n",
       "      <td>Service</td>\n",
       "      <td>White</td>\n",
       "      <td>Male</td>\n",
       "      <td>40</td>\n",
       "      <td>1.0</td>\n",
       "      <td>3.0</td>\n",
       "      <td>3.0</td>\n",
       "      <td>1.0</td>\n",
       "      <td>1.0</td>\n",
       "      <td>1.0</td>\n",
       "      <td>False</td>\n",
       "      <td>False</td>\n",
       "      <td>0.0</td>\n",
       "    </tr>\n",
       "    <tr>\n",
       "      <th>3</th>\n",
       "      <td>26</td>\n",
       "      <td>Government</td>\n",
       "      <td>Bachelors</td>\n",
       "      <td>Single</td>\n",
       "      <td>Professional</td>\n",
       "      <td>Other</td>\n",
       "      <td>Female</td>\n",
       "      <td>40</td>\n",
       "      <td>NaN</td>\n",
       "      <td>NaN</td>\n",
       "      <td>NaN</td>\n",
       "      <td>NaN</td>\n",
       "      <td>NaN</td>\n",
       "      <td>NaN</td>\n",
       "      <td>NaN</td>\n",
       "      <td>NaN</td>\n",
       "      <td>1.0</td>\n",
       "    </tr>\n",
       "    <tr>\n",
       "      <th>4</th>\n",
       "      <td>45</td>\n",
       "      <td>Government</td>\n",
       "      <td>Bachelors</td>\n",
       "      <td>Divorced</td>\n",
       "      <td>Service</td>\n",
       "      <td>White</td>\n",
       "      <td>Female</td>\n",
       "      <td>40</td>\n",
       "      <td>0.0</td>\n",
       "      <td>3.0</td>\n",
       "      <td>3.0</td>\n",
       "      <td>1.0</td>\n",
       "      <td>1.0</td>\n",
       "      <td>1.0</td>\n",
       "      <td>False</td>\n",
       "      <td>False</td>\n",
       "      <td>0.0</td>\n",
       "    </tr>\n",
       "    <tr>\n",
       "      <th>5</th>\n",
       "      <td>35</td>\n",
       "      <td>Private</td>\n",
       "      <td>Some-college</td>\n",
       "      <td>Married</td>\n",
       "      <td>Blue-Collar</td>\n",
       "      <td>White</td>\n",
       "      <td>Male</td>\n",
       "      <td>60</td>\n",
       "      <td>1.0</td>\n",
       "      <td>3.0</td>\n",
       "      <td>3.0</td>\n",
       "      <td>1.0</td>\n",
       "      <td>1.0</td>\n",
       "      <td>1.0</td>\n",
       "      <td>False</td>\n",
       "      <td>True</td>\n",
       "      <td>0.0</td>\n",
       "    </tr>\n",
       "    <tr>\n",
       "      <th>6</th>\n",
       "      <td>29</td>\n",
       "      <td>Private</td>\n",
       "      <td>HS-grad</td>\n",
       "      <td>Single</td>\n",
       "      <td>Blue-Collar</td>\n",
       "      <td>Other</td>\n",
       "      <td>Male</td>\n",
       "      <td>40</td>\n",
       "      <td>0.0</td>\n",
       "      <td>3.0</td>\n",
       "      <td>3.0</td>\n",
       "      <td>1.0</td>\n",
       "      <td>1.0</td>\n",
       "      <td>1.0</td>\n",
       "      <td>False</td>\n",
       "      <td>False</td>\n",
       "      <td>0.0</td>\n",
       "    </tr>\n",
       "    <tr>\n",
       "      <th>7</th>\n",
       "      <td>40</td>\n",
       "      <td>Self-Employed</td>\n",
       "      <td>Some-college</td>\n",
       "      <td>Married</td>\n",
       "      <td>Service</td>\n",
       "      <td>White</td>\n",
       "      <td>Male</td>\n",
       "      <td>50</td>\n",
       "      <td>1.0</td>\n",
       "      <td>3.0</td>\n",
       "      <td>1.0</td>\n",
       "      <td>1.0</td>\n",
       "      <td>0.0</td>\n",
       "      <td>0.0</td>\n",
       "      <td>False</td>\n",
       "      <td>False</td>\n",
       "      <td>0.0</td>\n",
       "    </tr>\n",
       "    <tr>\n",
       "      <th>8</th>\n",
       "      <td>28</td>\n",
       "      <td>Other/Unknown</td>\n",
       "      <td>HS-grad</td>\n",
       "      <td>Married</td>\n",
       "      <td>Other/Unknown</td>\n",
       "      <td>White</td>\n",
       "      <td>Female</td>\n",
       "      <td>20</td>\n",
       "      <td>1.0</td>\n",
       "      <td>3.0</td>\n",
       "      <td>2.0</td>\n",
       "      <td>1.0</td>\n",
       "      <td>1.0</td>\n",
       "      <td>0.0</td>\n",
       "      <td>True</td>\n",
       "      <td>False</td>\n",
       "      <td>0.0</td>\n",
       "    </tr>\n",
       "    <tr>\n",
       "      <th>9</th>\n",
       "      <td>20</td>\n",
       "      <td>Private</td>\n",
       "      <td>Some-college</td>\n",
       "      <td>Single</td>\n",
       "      <td>Service</td>\n",
       "      <td>White</td>\n",
       "      <td>Female</td>\n",
       "      <td>40</td>\n",
       "      <td>1.0</td>\n",
       "      <td>3.0</td>\n",
       "      <td>3.0</td>\n",
       "      <td>1.0</td>\n",
       "      <td>1.0</td>\n",
       "      <td>1.0</td>\n",
       "      <td>False</td>\n",
       "      <td>False</td>\n",
       "      <td>0.0</td>\n",
       "    </tr>\n",
       "  </tbody>\n",
       "</table>\n",
       "</div>"
      ],
      "text/plain": [
       "   age      workclass     education marital_status     occupation   race  \\\n",
       "0   45  Self-Employed       HS-grad        Married    Blue-Collar  White   \n",
       "1   46        Private       HS-grad       Divorced    Blue-Collar  White   \n",
       "2   49        Private       HS-grad        Widowed        Service  White   \n",
       "3   26     Government     Bachelors         Single   Professional  Other   \n",
       "4   45     Government     Bachelors       Divorced        Service  White   \n",
       "5   35        Private  Some-college        Married    Blue-Collar  White   \n",
       "6   29        Private       HS-grad         Single    Blue-Collar  Other   \n",
       "7   40  Self-Employed  Some-college        Married        Service  White   \n",
       "8   28  Other/Unknown       HS-grad        Married  Other/Unknown  White   \n",
       "9   20        Private  Some-college         Single        Service  White   \n",
       "\n",
       "   gender  hours_per_week  one_label  one_rules  one_rules_followed  \\\n",
       "0    Male              50        1.0        3.0                 2.0   \n",
       "1    Male              30        1.0        3.0                 3.0   \n",
       "2    Male              40        1.0        3.0                 3.0   \n",
       "3  Female              40        NaN        NaN                 NaN   \n",
       "4  Female              40        0.0        3.0                 3.0   \n",
       "5    Male              60        1.0        3.0                 3.0   \n",
       "6    Male              40        0.0        3.0                 3.0   \n",
       "7    Male              50        1.0        3.0                 1.0   \n",
       "8  Female              20        1.0        3.0                 2.0   \n",
       "9  Female              40        1.0        3.0                 3.0   \n",
       "\n",
       "   one_rule_1  one_rule_2  one_rule_3 one_in_cfs one_in_data  one_status  \n",
       "0         1.0         1.0         0.0      False       False         0.0  \n",
       "1         1.0         1.0         1.0      False        True         0.0  \n",
       "2         1.0         1.0         1.0      False       False         0.0  \n",
       "3         NaN         NaN         NaN        NaN         NaN         1.0  \n",
       "4         1.0         1.0         1.0      False       False         0.0  \n",
       "5         1.0         1.0         1.0      False        True         0.0  \n",
       "6         1.0         1.0         1.0      False       False         0.0  \n",
       "7         1.0         0.0         0.0      False       False         0.0  \n",
       "8         1.0         1.0         0.0       True       False         0.0  \n",
       "9         1.0         1.0         1.0      False       False         0.0  "
      ]
     },
     "execution_count": 8,
     "metadata": {},
     "output_type": "execute_result"
    }
   ],
   "source": [
    "test10 = pd.read_csv('test10.csv')\n",
    "model_description = \"\"\"ML-system that predicts wether a person will earn more than 50k $ a year\"\"\"\n",
    "prompts = ['one']\n",
    "for prompt in prompts:\n",
    "    print(prompt)\n",
    "    exp_m = ExplanationMachine2(model, model_description, string_info(dataset.columns,adult_info), train_dataset, test_dataset,prompt,1 )\n",
    "    exp_m.fit()\n",
    "    for i in range(test10.shape[0]):\n",
    "        try:\n",
    "            example_label, n_rules, rules_followed, first_rule, second_rule,third_rule,in_cfs, in_dataset = exp_m.explain_evaluate(example = test.iloc[[i]], verbose = False)\n",
    "            os.rename('temp_csv.csv', f'ex_1fcs_{i}.csv')\n",
    "            os.rename('evaluation.csv', f'eval_1fcs_{i}.csv')\n",
    "            test10.loc[i, prompt + '_label'] = example_label\n",
    "            test10.loc[i, prompt + '_rules'] = n_rules\n",
    "            test10.loc[i, prompt + '_rules_followed'] = rules_followed\n",
    "            test10.loc[i, prompt + '_rule_1'] = first_rule\n",
    "            test10.loc[i, prompt + '_rule_2'] = second_rule\n",
    "            test10.loc[i, prompt + '_rule_3'] = third_rule\n",
    "            test10.loc[i, prompt + '_in_cfs'] = in_cfs\n",
    "            test10.loc[i, prompt + '_in_data'] = in_dataset\n",
    "            test10.loc[i, prompt + '_status'] = 0\n",
    "        except Exception as e:\n",
    "            test10.loc[i, prompt + '_status'] = 1\n",
    "test10"
   ]
  },
  {
   "cell_type": "code",
   "execution_count": 9,
   "metadata": {},
   "outputs": [
    {
     "data": {
      "text/plain": [
       "[0.7777777777777778,\n",
       " 3.0,\n",
       " 0.8518518518518519,\n",
       " 1.0,\n",
       " 0.8888888888888888,\n",
       " 0.6666666666666666]"
      ]
     },
     "execution_count": 9,
     "metadata": {},
     "output_type": "execute_result"
    }
   ],
   "source": [
    "def get_metrics(df,prompt):\n",
    "    validity = df[f'{prompt}_label'].mean()\n",
    "    rules = df[f'{prompt}_rules'].mean()\n",
    "    rules_ratio = np.mean(df[f'{prompt}_rules_followed']/df[f'{prompt}_rules'])\n",
    "    first = df[f'{prompt}_rule_1'].mean()\n",
    "    second = df[f'{prompt}_rule_2'].mean()\n",
    "    third = df[f'{prompt}_rule_3'].mean()\n",
    "    return [validity, rules, rules_ratio, first, second, third]\n",
    "get_metrics(test10,'one')"
   ]
  },
  {
   "cell_type": "code",
   "execution_count": 9,
   "metadata": {},
   "outputs": [
    {
     "name": "stdout",
     "output_type": "stream",
     "text": [
      "one\n"
     ]
    },
    {
     "name": "stderr",
     "output_type": "stream",
     "text": [
      "100%|██████████| 1/1 [00:00<00:00,  5.40it/s]\n",
      "100%|██████████| 1/1 [00:00<00:00,  5.66it/s]\n",
      "100%|██████████| 1/1 [00:00<00:00,  4.76it/s]\n"
     ]
    },
    {
     "name": "stdout",
     "output_type": "stream",
     "text": [
      "single positional indexer is out-of-bounds\n"
     ]
    },
    {
     "name": "stderr",
     "output_type": "stream",
     "text": [
      "100%|██████████| 1/1 [00:00<00:00,  5.80it/s]\n",
      "100%|██████████| 1/1 [00:00<00:00,  5.62it/s]\n",
      "100%|██████████| 1/1 [00:00<00:00,  5.45it/s]\n",
      "100%|██████████| 1/1 [00:00<00:00,  5.67it/s]\n",
      "100%|██████████| 1/1 [00:00<00:00,  5.82it/s]\n",
      "100%|██████████| 1/1 [00:00<00:00,  4.68it/s]\n",
      "100%|██████████| 1/1 [00:00<00:00,  5.43it/s]\n"
     ]
    },
    {
     "data": {
      "text/html": [
       "<div>\n",
       "<style scoped>\n",
       "    .dataframe tbody tr th:only-of-type {\n",
       "        vertical-align: middle;\n",
       "    }\n",
       "\n",
       "    .dataframe tbody tr th {\n",
       "        vertical-align: top;\n",
       "    }\n",
       "\n",
       "    .dataframe thead th {\n",
       "        text-align: right;\n",
       "    }\n",
       "</style>\n",
       "<table border=\"1\" class=\"dataframe\">\n",
       "  <thead>\n",
       "    <tr style=\"text-align: right;\">\n",
       "      <th></th>\n",
       "      <th>age</th>\n",
       "      <th>workclass</th>\n",
       "      <th>education</th>\n",
       "      <th>marital_status</th>\n",
       "      <th>occupation</th>\n",
       "      <th>race</th>\n",
       "      <th>gender</th>\n",
       "      <th>hours_per_week</th>\n",
       "      <th>one_label</th>\n",
       "      <th>one_rules</th>\n",
       "      <th>one_rules_followed</th>\n",
       "      <th>one_rule_1</th>\n",
       "      <th>one_rule_2</th>\n",
       "      <th>one_rule_3</th>\n",
       "      <th>one_in_cfs</th>\n",
       "      <th>one_in_data</th>\n",
       "      <th>one_status</th>\n",
       "    </tr>\n",
       "  </thead>\n",
       "  <tbody>\n",
       "    <tr>\n",
       "      <th>0</th>\n",
       "      <td>45</td>\n",
       "      <td>Self-Employed</td>\n",
       "      <td>HS-grad</td>\n",
       "      <td>Married</td>\n",
       "      <td>Blue-Collar</td>\n",
       "      <td>White</td>\n",
       "      <td>Male</td>\n",
       "      <td>50</td>\n",
       "      <td>1.0</td>\n",
       "      <td>3.0</td>\n",
       "      <td>2.0</td>\n",
       "      <td>1.0</td>\n",
       "      <td>1.0</td>\n",
       "      <td>0.0</td>\n",
       "      <td>False</td>\n",
       "      <td>False</td>\n",
       "      <td>0.0</td>\n",
       "    </tr>\n",
       "    <tr>\n",
       "      <th>1</th>\n",
       "      <td>46</td>\n",
       "      <td>Private</td>\n",
       "      <td>HS-grad</td>\n",
       "      <td>Divorced</td>\n",
       "      <td>Blue-Collar</td>\n",
       "      <td>White</td>\n",
       "      <td>Male</td>\n",
       "      <td>30</td>\n",
       "      <td>1.0</td>\n",
       "      <td>3.0</td>\n",
       "      <td>2.0</td>\n",
       "      <td>1.0</td>\n",
       "      <td>1.0</td>\n",
       "      <td>0.0</td>\n",
       "      <td>False</td>\n",
       "      <td>False</td>\n",
       "      <td>0.0</td>\n",
       "    </tr>\n",
       "    <tr>\n",
       "      <th>2</th>\n",
       "      <td>49</td>\n",
       "      <td>Private</td>\n",
       "      <td>HS-grad</td>\n",
       "      <td>Widowed</td>\n",
       "      <td>Service</td>\n",
       "      <td>White</td>\n",
       "      <td>Male</td>\n",
       "      <td>40</td>\n",
       "      <td>NaN</td>\n",
       "      <td>NaN</td>\n",
       "      <td>NaN</td>\n",
       "      <td>NaN</td>\n",
       "      <td>NaN</td>\n",
       "      <td>NaN</td>\n",
       "      <td>NaN</td>\n",
       "      <td>NaN</td>\n",
       "      <td>1.0</td>\n",
       "    </tr>\n",
       "    <tr>\n",
       "      <th>3</th>\n",
       "      <td>26</td>\n",
       "      <td>Government</td>\n",
       "      <td>Bachelors</td>\n",
       "      <td>Single</td>\n",
       "      <td>Professional</td>\n",
       "      <td>Other</td>\n",
       "      <td>Female</td>\n",
       "      <td>40</td>\n",
       "      <td>0.0</td>\n",
       "      <td>3.0</td>\n",
       "      <td>3.0</td>\n",
       "      <td>1.0</td>\n",
       "      <td>1.0</td>\n",
       "      <td>1.0</td>\n",
       "      <td>False</td>\n",
       "      <td>False</td>\n",
       "      <td>0.0</td>\n",
       "    </tr>\n",
       "    <tr>\n",
       "      <th>4</th>\n",
       "      <td>45</td>\n",
       "      <td>Government</td>\n",
       "      <td>Bachelors</td>\n",
       "      <td>Divorced</td>\n",
       "      <td>Service</td>\n",
       "      <td>White</td>\n",
       "      <td>Female</td>\n",
       "      <td>40</td>\n",
       "      <td>1.0</td>\n",
       "      <td>3.0</td>\n",
       "      <td>2.0</td>\n",
       "      <td>1.0</td>\n",
       "      <td>1.0</td>\n",
       "      <td>0.0</td>\n",
       "      <td>False</td>\n",
       "      <td>False</td>\n",
       "      <td>0.0</td>\n",
       "    </tr>\n",
       "    <tr>\n",
       "      <th>5</th>\n",
       "      <td>35</td>\n",
       "      <td>Private</td>\n",
       "      <td>Some-college</td>\n",
       "      <td>Married</td>\n",
       "      <td>Blue-Collar</td>\n",
       "      <td>White</td>\n",
       "      <td>Male</td>\n",
       "      <td>60</td>\n",
       "      <td>1.0</td>\n",
       "      <td>3.0</td>\n",
       "      <td>1.0</td>\n",
       "      <td>1.0</td>\n",
       "      <td>0.0</td>\n",
       "      <td>0.0</td>\n",
       "      <td>False</td>\n",
       "      <td>False</td>\n",
       "      <td>0.0</td>\n",
       "    </tr>\n",
       "    <tr>\n",
       "      <th>6</th>\n",
       "      <td>29</td>\n",
       "      <td>Private</td>\n",
       "      <td>HS-grad</td>\n",
       "      <td>Single</td>\n",
       "      <td>Blue-Collar</td>\n",
       "      <td>Other</td>\n",
       "      <td>Male</td>\n",
       "      <td>40</td>\n",
       "      <td>1.0</td>\n",
       "      <td>3.0</td>\n",
       "      <td>3.0</td>\n",
       "      <td>1.0</td>\n",
       "      <td>1.0</td>\n",
       "      <td>1.0</td>\n",
       "      <td>False</td>\n",
       "      <td>False</td>\n",
       "      <td>0.0</td>\n",
       "    </tr>\n",
       "    <tr>\n",
       "      <th>7</th>\n",
       "      <td>40</td>\n",
       "      <td>Self-Employed</td>\n",
       "      <td>Some-college</td>\n",
       "      <td>Married</td>\n",
       "      <td>Service</td>\n",
       "      <td>White</td>\n",
       "      <td>Male</td>\n",
       "      <td>50</td>\n",
       "      <td>0.0</td>\n",
       "      <td>3.0</td>\n",
       "      <td>1.0</td>\n",
       "      <td>1.0</td>\n",
       "      <td>0.0</td>\n",
       "      <td>0.0</td>\n",
       "      <td>False</td>\n",
       "      <td>False</td>\n",
       "      <td>0.0</td>\n",
       "    </tr>\n",
       "    <tr>\n",
       "      <th>8</th>\n",
       "      <td>28</td>\n",
       "      <td>Other/Unknown</td>\n",
       "      <td>HS-grad</td>\n",
       "      <td>Married</td>\n",
       "      <td>Other/Unknown</td>\n",
       "      <td>White</td>\n",
       "      <td>Female</td>\n",
       "      <td>20</td>\n",
       "      <td>1.0</td>\n",
       "      <td>3.0</td>\n",
       "      <td>3.0</td>\n",
       "      <td>1.0</td>\n",
       "      <td>1.0</td>\n",
       "      <td>1.0</td>\n",
       "      <td>True</td>\n",
       "      <td>False</td>\n",
       "      <td>0.0</td>\n",
       "    </tr>\n",
       "    <tr>\n",
       "      <th>9</th>\n",
       "      <td>20</td>\n",
       "      <td>Private</td>\n",
       "      <td>Some-college</td>\n",
       "      <td>Single</td>\n",
       "      <td>Service</td>\n",
       "      <td>White</td>\n",
       "      <td>Female</td>\n",
       "      <td>40</td>\n",
       "      <td>1.0</td>\n",
       "      <td>3.0</td>\n",
       "      <td>3.0</td>\n",
       "      <td>1.0</td>\n",
       "      <td>1.0</td>\n",
       "      <td>1.0</td>\n",
       "      <td>False</td>\n",
       "      <td>False</td>\n",
       "      <td>0.0</td>\n",
       "    </tr>\n",
       "  </tbody>\n",
       "</table>\n",
       "</div>"
      ],
      "text/plain": [
       "   age      workclass     education marital_status     occupation   race  \\\n",
       "0   45  Self-Employed       HS-grad        Married    Blue-Collar  White   \n",
       "1   46        Private       HS-grad       Divorced    Blue-Collar  White   \n",
       "2   49        Private       HS-grad        Widowed        Service  White   \n",
       "3   26     Government     Bachelors         Single   Professional  Other   \n",
       "4   45     Government     Bachelors       Divorced        Service  White   \n",
       "5   35        Private  Some-college        Married    Blue-Collar  White   \n",
       "6   29        Private       HS-grad         Single    Blue-Collar  Other   \n",
       "7   40  Self-Employed  Some-college        Married        Service  White   \n",
       "8   28  Other/Unknown       HS-grad        Married  Other/Unknown  White   \n",
       "9   20        Private  Some-college         Single        Service  White   \n",
       "\n",
       "   gender  hours_per_week  one_label  one_rules  one_rules_followed  \\\n",
       "0    Male              50        1.0        3.0                 2.0   \n",
       "1    Male              30        1.0        3.0                 2.0   \n",
       "2    Male              40        NaN        NaN                 NaN   \n",
       "3  Female              40        0.0        3.0                 3.0   \n",
       "4  Female              40        1.0        3.0                 2.0   \n",
       "5    Male              60        1.0        3.0                 1.0   \n",
       "6    Male              40        1.0        3.0                 3.0   \n",
       "7    Male              50        0.0        3.0                 1.0   \n",
       "8  Female              20        1.0        3.0                 3.0   \n",
       "9  Female              40        1.0        3.0                 3.0   \n",
       "\n",
       "   one_rule_1  one_rule_2  one_rule_3 one_in_cfs one_in_data  one_status  \n",
       "0         1.0         1.0         0.0      False       False         0.0  \n",
       "1         1.0         1.0         0.0      False       False         0.0  \n",
       "2         NaN         NaN         NaN        NaN         NaN         1.0  \n",
       "3         1.0         1.0         1.0      False       False         0.0  \n",
       "4         1.0         1.0         0.0      False       False         0.0  \n",
       "5         1.0         0.0         0.0      False       False         0.0  \n",
       "6         1.0         1.0         1.0      False       False         0.0  \n",
       "7         1.0         0.0         0.0      False       False         0.0  \n",
       "8         1.0         1.0         1.0       True       False         0.0  \n",
       "9         1.0         1.0         1.0      False       False         0.0  "
      ]
     },
     "execution_count": 9,
     "metadata": {},
     "output_type": "execute_result"
    }
   ],
   "source": [
    "test10 = pd.read_csv('test10.csv')\n",
    "model_description = \"\"\"ML-system that predicts wether a person will earn more than 50k $ a year\"\"\"\n",
    "prompts = ['one']\n",
    "for prompt in prompts:\n",
    "    print(prompt)\n",
    "    exp_m = ExplanationMachine2(model, model_description, string_info(dataset.columns,adult_info), train_dataset, test_dataset,prompt,3 )\n",
    "    exp_m.fit()\n",
    "    for i in range(test10.shape[0]):\n",
    "        try:\n",
    "            example_label, n_rules, rules_followed, first_rule, second_rule,third_rule,in_cfs, in_dataset = exp_m.explain_evaluate(example = test.iloc[[i]], verbose = False)\n",
    "            os.rename('temp_csv.csv', f'ex_3fcs_{i}.csv')\n",
    "            os.rename('evaluation.csv', f'eval_3fcs_{i}.csv')\n",
    "            test10.loc[i, prompt + '_label'] = example_label\n",
    "            test10.loc[i, prompt + '_rules'] = n_rules\n",
    "            test10.loc[i, prompt + '_rules_followed'] = rules_followed\n",
    "            test10.loc[i, prompt + '_rule_1'] = first_rule\n",
    "            test10.loc[i, prompt + '_rule_2'] = second_rule\n",
    "            test10.loc[i, prompt + '_rule_3'] = third_rule\n",
    "            test10.loc[i, prompt + '_in_cfs'] = in_cfs\n",
    "            test10.loc[i, prompt + '_in_data'] = in_dataset\n",
    "            test10.loc[i, prompt + '_status'] = 0\n",
    "        except Exception as e:\n",
    "            test10.loc[i, prompt + '_status'] = 1\n",
    "            print(e)\n",
    "test10"
   ]
  },
  {
   "cell_type": "code",
   "execution_count": 11,
   "metadata": {},
   "outputs": [
    {
     "data": {
      "text/plain": [
       "[0.7777777777777778,\n",
       " 3.0,\n",
       " 0.7407407407407407,\n",
       " 1.0,\n",
       " 0.7777777777777778,\n",
       " 0.4444444444444444]"
      ]
     },
     "execution_count": 11,
     "metadata": {},
     "output_type": "execute_result"
    }
   ],
   "source": [
    "def get_metrics(df,prompt):\n",
    "    validity = df[f'{prompt}_label'].mean()\n",
    "    rules = df[f'{prompt}_rules'].mean()\n",
    "    rules_ratio = np.mean(df[f'{prompt}_rules_followed']/df[f'{prompt}_rules'])\n",
    "    first = df[f'{prompt}_rule_1'].mean()\n",
    "    second = df[f'{prompt}_rule_2'].mean()\n",
    "    third = df[f'{prompt}_rule_3'].mean()\n",
    "    return [validity, rules, rules_ratio, first, second, third]\n",
    "get_metrics(test10,'one')"
   ]
  },
  {
   "cell_type": "code",
   "execution_count": 16,
   "metadata": {},
   "outputs": [
    {
     "name": "stdout",
     "output_type": "stream",
     "text": [
      "zero\n"
     ]
    },
    {
     "name": "stderr",
     "output_type": "stream",
     "text": [
      "100%|██████████| 1/1 [00:00<00:00,  1.85it/s]\n",
      "100%|██████████| 1/1 [00:00<00:00,  1.79it/s]\n",
      "100%|██████████| 1/1 [00:00<00:00,  1.81it/s]\n",
      "100%|██████████| 1/1 [00:00<00:00,  1.93it/s]\n",
      "100%|██████████| 1/1 [00:00<00:00,  1.71it/s]\n",
      "100%|██████████| 1/1 [00:00<00:00,  1.93it/s]\n",
      "100%|██████████| 1/1 [00:00<00:00,  2.02it/s]\n",
      "100%|██████████| 1/1 [00:00<00:00,  1.93it/s]\n",
      "100%|██████████| 1/1 [00:00<00:00,  1.66it/s]\n",
      "100%|██████████| 1/1 [00:00<00:00,  1.91it/s]\n"
     ]
    },
    {
     "data": {
      "text/html": [
       "<div>\n",
       "<style scoped>\n",
       "    .dataframe tbody tr th:only-of-type {\n",
       "        vertical-align: middle;\n",
       "    }\n",
       "\n",
       "    .dataframe tbody tr th {\n",
       "        vertical-align: top;\n",
       "    }\n",
       "\n",
       "    .dataframe thead th {\n",
       "        text-align: right;\n",
       "    }\n",
       "</style>\n",
       "<table border=\"1\" class=\"dataframe\">\n",
       "  <thead>\n",
       "    <tr style=\"text-align: right;\">\n",
       "      <th></th>\n",
       "      <th>age</th>\n",
       "      <th>workclass</th>\n",
       "      <th>education</th>\n",
       "      <th>marital_status</th>\n",
       "      <th>occupation</th>\n",
       "      <th>race</th>\n",
       "      <th>gender</th>\n",
       "      <th>hours_per_week</th>\n",
       "      <th>zero_label</th>\n",
       "      <th>zero_rules</th>\n",
       "      <th>zero_rules_followed</th>\n",
       "      <th>zero_rule_1</th>\n",
       "      <th>zero_rule_2</th>\n",
       "      <th>zero_rule_3</th>\n",
       "      <th>zero_in_cfs</th>\n",
       "      <th>zero_in_data</th>\n",
       "      <th>zero_status</th>\n",
       "    </tr>\n",
       "  </thead>\n",
       "  <tbody>\n",
       "    <tr>\n",
       "      <th>0</th>\n",
       "      <td>45</td>\n",
       "      <td>Self-Employed</td>\n",
       "      <td>HS-grad</td>\n",
       "      <td>Married</td>\n",
       "      <td>Blue-Collar</td>\n",
       "      <td>White</td>\n",
       "      <td>Male</td>\n",
       "      <td>50</td>\n",
       "      <td>1.0</td>\n",
       "      <td>4.0</td>\n",
       "      <td>4.0</td>\n",
       "      <td>1.0</td>\n",
       "      <td>1.0</td>\n",
       "      <td>1.0</td>\n",
       "      <td>False</td>\n",
       "      <td>False</td>\n",
       "      <td>0.0</td>\n",
       "    </tr>\n",
       "    <tr>\n",
       "      <th>1</th>\n",
       "      <td>46</td>\n",
       "      <td>Private</td>\n",
       "      <td>HS-grad</td>\n",
       "      <td>Divorced</td>\n",
       "      <td>Blue-Collar</td>\n",
       "      <td>White</td>\n",
       "      <td>Male</td>\n",
       "      <td>30</td>\n",
       "      <td>NaN</td>\n",
       "      <td>NaN</td>\n",
       "      <td>NaN</td>\n",
       "      <td>NaN</td>\n",
       "      <td>NaN</td>\n",
       "      <td>NaN</td>\n",
       "      <td>NaN</td>\n",
       "      <td>NaN</td>\n",
       "      <td>1.0</td>\n",
       "    </tr>\n",
       "    <tr>\n",
       "      <th>2</th>\n",
       "      <td>49</td>\n",
       "      <td>Private</td>\n",
       "      <td>HS-grad</td>\n",
       "      <td>Widowed</td>\n",
       "      <td>Service</td>\n",
       "      <td>White</td>\n",
       "      <td>Male</td>\n",
       "      <td>40</td>\n",
       "      <td>NaN</td>\n",
       "      <td>NaN</td>\n",
       "      <td>NaN</td>\n",
       "      <td>NaN</td>\n",
       "      <td>NaN</td>\n",
       "      <td>NaN</td>\n",
       "      <td>NaN</td>\n",
       "      <td>NaN</td>\n",
       "      <td>1.0</td>\n",
       "    </tr>\n",
       "    <tr>\n",
       "      <th>3</th>\n",
       "      <td>26</td>\n",
       "      <td>Government</td>\n",
       "      <td>Bachelors</td>\n",
       "      <td>Single</td>\n",
       "      <td>Professional</td>\n",
       "      <td>Other</td>\n",
       "      <td>Female</td>\n",
       "      <td>40</td>\n",
       "      <td>NaN</td>\n",
       "      <td>NaN</td>\n",
       "      <td>NaN</td>\n",
       "      <td>NaN</td>\n",
       "      <td>NaN</td>\n",
       "      <td>NaN</td>\n",
       "      <td>NaN</td>\n",
       "      <td>NaN</td>\n",
       "      <td>1.0</td>\n",
       "    </tr>\n",
       "    <tr>\n",
       "      <th>4</th>\n",
       "      <td>45</td>\n",
       "      <td>Government</td>\n",
       "      <td>Bachelors</td>\n",
       "      <td>Divorced</td>\n",
       "      <td>Service</td>\n",
       "      <td>White</td>\n",
       "      <td>Female</td>\n",
       "      <td>40</td>\n",
       "      <td>1.0</td>\n",
       "      <td>4.0</td>\n",
       "      <td>4.0</td>\n",
       "      <td>1.0</td>\n",
       "      <td>1.0</td>\n",
       "      <td>1.0</td>\n",
       "      <td>False</td>\n",
       "      <td>False</td>\n",
       "      <td>0.0</td>\n",
       "    </tr>\n",
       "    <tr>\n",
       "      <th>5</th>\n",
       "      <td>35</td>\n",
       "      <td>Private</td>\n",
       "      <td>Some-college</td>\n",
       "      <td>Married</td>\n",
       "      <td>Blue-Collar</td>\n",
       "      <td>White</td>\n",
       "      <td>Male</td>\n",
       "      <td>60</td>\n",
       "      <td>NaN</td>\n",
       "      <td>NaN</td>\n",
       "      <td>NaN</td>\n",
       "      <td>NaN</td>\n",
       "      <td>NaN</td>\n",
       "      <td>NaN</td>\n",
       "      <td>NaN</td>\n",
       "      <td>NaN</td>\n",
       "      <td>1.0</td>\n",
       "    </tr>\n",
       "    <tr>\n",
       "      <th>6</th>\n",
       "      <td>29</td>\n",
       "      <td>Private</td>\n",
       "      <td>HS-grad</td>\n",
       "      <td>Single</td>\n",
       "      <td>Blue-Collar</td>\n",
       "      <td>Other</td>\n",
       "      <td>Male</td>\n",
       "      <td>40</td>\n",
       "      <td>NaN</td>\n",
       "      <td>NaN</td>\n",
       "      <td>NaN</td>\n",
       "      <td>NaN</td>\n",
       "      <td>NaN</td>\n",
       "      <td>NaN</td>\n",
       "      <td>NaN</td>\n",
       "      <td>NaN</td>\n",
       "      <td>1.0</td>\n",
       "    </tr>\n",
       "    <tr>\n",
       "      <th>7</th>\n",
       "      <td>40</td>\n",
       "      <td>Self-Employed</td>\n",
       "      <td>Some-college</td>\n",
       "      <td>Married</td>\n",
       "      <td>Service</td>\n",
       "      <td>White</td>\n",
       "      <td>Male</td>\n",
       "      <td>50</td>\n",
       "      <td>NaN</td>\n",
       "      <td>NaN</td>\n",
       "      <td>NaN</td>\n",
       "      <td>NaN</td>\n",
       "      <td>NaN</td>\n",
       "      <td>NaN</td>\n",
       "      <td>NaN</td>\n",
       "      <td>NaN</td>\n",
       "      <td>1.0</td>\n",
       "    </tr>\n",
       "    <tr>\n",
       "      <th>8</th>\n",
       "      <td>28</td>\n",
       "      <td>Other/Unknown</td>\n",
       "      <td>HS-grad</td>\n",
       "      <td>Married</td>\n",
       "      <td>Other/Unknown</td>\n",
       "      <td>White</td>\n",
       "      <td>Female</td>\n",
       "      <td>20</td>\n",
       "      <td>NaN</td>\n",
       "      <td>NaN</td>\n",
       "      <td>NaN</td>\n",
       "      <td>NaN</td>\n",
       "      <td>NaN</td>\n",
       "      <td>NaN</td>\n",
       "      <td>NaN</td>\n",
       "      <td>NaN</td>\n",
       "      <td>1.0</td>\n",
       "    </tr>\n",
       "    <tr>\n",
       "      <th>9</th>\n",
       "      <td>20</td>\n",
       "      <td>Private</td>\n",
       "      <td>Some-college</td>\n",
       "      <td>Single</td>\n",
       "      <td>Service</td>\n",
       "      <td>White</td>\n",
       "      <td>Female</td>\n",
       "      <td>40</td>\n",
       "      <td>NaN</td>\n",
       "      <td>NaN</td>\n",
       "      <td>NaN</td>\n",
       "      <td>NaN</td>\n",
       "      <td>NaN</td>\n",
       "      <td>NaN</td>\n",
       "      <td>NaN</td>\n",
       "      <td>NaN</td>\n",
       "      <td>1.0</td>\n",
       "    </tr>\n",
       "  </tbody>\n",
       "</table>\n",
       "</div>"
      ],
      "text/plain": [
       "   age      workclass     education marital_status     occupation   race  \\\n",
       "0   45  Self-Employed       HS-grad        Married    Blue-Collar  White   \n",
       "1   46        Private       HS-grad       Divorced    Blue-Collar  White   \n",
       "2   49        Private       HS-grad        Widowed        Service  White   \n",
       "3   26     Government     Bachelors         Single   Professional  Other   \n",
       "4   45     Government     Bachelors       Divorced        Service  White   \n",
       "5   35        Private  Some-college        Married    Blue-Collar  White   \n",
       "6   29        Private       HS-grad         Single    Blue-Collar  Other   \n",
       "7   40  Self-Employed  Some-college        Married        Service  White   \n",
       "8   28  Other/Unknown       HS-grad        Married  Other/Unknown  White   \n",
       "9   20        Private  Some-college         Single        Service  White   \n",
       "\n",
       "   gender  hours_per_week  zero_label  zero_rules  zero_rules_followed  \\\n",
       "0    Male              50         1.0         4.0                  4.0   \n",
       "1    Male              30         NaN         NaN                  NaN   \n",
       "2    Male              40         NaN         NaN                  NaN   \n",
       "3  Female              40         NaN         NaN                  NaN   \n",
       "4  Female              40         1.0         4.0                  4.0   \n",
       "5    Male              60         NaN         NaN                  NaN   \n",
       "6    Male              40         NaN         NaN                  NaN   \n",
       "7    Male              50         NaN         NaN                  NaN   \n",
       "8  Female              20         NaN         NaN                  NaN   \n",
       "9  Female              40         NaN         NaN                  NaN   \n",
       "\n",
       "   zero_rule_1  zero_rule_2  zero_rule_3 zero_in_cfs zero_in_data  zero_status  \n",
       "0          1.0          1.0          1.0       False        False          0.0  \n",
       "1          NaN          NaN          NaN         NaN          NaN          1.0  \n",
       "2          NaN          NaN          NaN         NaN          NaN          1.0  \n",
       "3          NaN          NaN          NaN         NaN          NaN          1.0  \n",
       "4          1.0          1.0          1.0       False        False          0.0  \n",
       "5          NaN          NaN          NaN         NaN          NaN          1.0  \n",
       "6          NaN          NaN          NaN         NaN          NaN          1.0  \n",
       "7          NaN          NaN          NaN         NaN          NaN          1.0  \n",
       "8          NaN          NaN          NaN         NaN          NaN          1.0  \n",
       "9          NaN          NaN          NaN         NaN          NaN          1.0  "
      ]
     },
     "execution_count": 16,
     "metadata": {},
     "output_type": "execute_result"
    }
   ],
   "source": [
    "test10 = pd.read_csv('test10.csv')\n",
    "model_description = \"\"\"ML-system that predicts wether a person will earn more than 50k $ a year\"\"\"\n",
    "prompts = ['zero']\n",
    "for prompt in prompts:\n",
    "    print(prompt)\n",
    "    exp_m = ExplanationMachine2(model, model_description, string_info(dataset.columns,adult_info), train_dataset, test_dataset,prompt,5)\n",
    "    exp_m.fit()\n",
    "    for i in range(test10.shape[0]):\n",
    "        try:\n",
    "            example_label, n_rules, rules_followed, first_rule, second_rule,third_rule,in_cfs, in_dataset = exp_m.explain_evaluate(example = test.iloc[[i]], verbose = False)\n",
    "            os.rename('temp_csv.csv', f'ex_zero_5fcs_{i}.csv')\n",
    "            os.rename('evaluation.csv', f'eval_zero_5fcs_{i}.csv')\n",
    "            test10.loc[i, prompt + '_label'] = example_label\n",
    "            test10.loc[i, prompt + '_rules'] = n_rules\n",
    "            test10.loc[i, prompt + '_rules_followed'] = rules_followed\n",
    "            test10.loc[i, prompt + '_rule_1'] = first_rule\n",
    "            test10.loc[i, prompt + '_rule_2'] = second_rule\n",
    "            \n",
    "            test10.loc[i, prompt + '_rule_3'] = third_rule\n",
    "            test10.loc[i, prompt + '_in_cfs'] = in_cfs\n",
    "            test10.loc[i, prompt + '_in_data'] = in_dataset\n",
    "            test10.loc[i, prompt + '_status'] = 0\n",
    "        except Exception as e:\n",
    "            test10.loc[i, prompt + '_status'] = 1\n",
    "test10"
   ]
  },
  {
   "cell_type": "code",
   "execution_count": 17,
   "metadata": {},
   "outputs": [
    {
     "data": {
      "text/plain": [
       "[1.0, 4.0, 1.0, 0.0, 1.0, 1.0, 1.0, 0.8]"
      ]
     },
     "execution_count": 17,
     "metadata": {},
     "output_type": "execute_result"
    }
   ],
   "source": [
    "def get_metrics(df,prompt):\n",
    "    validity = df[f'{prompt}_label'].mean()\n",
    "    rules = df[f'{prompt}_rules'].mean()\n",
    "    rules_ratio = np.mean(df[f'{prompt}_rules_followed']/df[f'{prompt}_rules'])\n",
    "    in_data = df[f'{prompt}_in_data'].mean()\n",
    "    fail = df[f'{prompt}_status'].mean()\n",
    "    first = df[f'{prompt}_rule_1'].mean()\n",
    "    second = df[f'{prompt}_rule_2'].mean()\n",
    "    third = df[f'{prompt}_rule_3'].mean()\n",
    "    return [validity, rules, rules_ratio, in_data, first, second, third, fail]\n",
    "get_metrics(test10,'zero')"
   ]
  },
  {
   "cell_type": "code",
   "execution_count": 18,
   "metadata": {},
   "outputs": [
    {
     "name": "stdout",
     "output_type": "stream",
     "text": [
      "zero\n"
     ]
    },
    {
     "name": "stderr",
     "output_type": "stream",
     "text": [
      "100%|██████████| 1/1 [00:00<00:00,  2.55it/s]\n",
      "100%|██████████| 1/1 [00:00<00:00,  1.64it/s]\n",
      "100%|██████████| 1/1 [00:00<00:00,  1.86it/s]\n",
      "100%|██████████| 1/1 [00:00<00:00,  1.98it/s]\n",
      "100%|██████████| 1/1 [00:00<00:00,  1.55it/s]\n",
      "100%|██████████| 1/1 [00:00<00:00,  1.86it/s]\n",
      "100%|██████████| 1/1 [00:00<00:00,  1.94it/s]\n",
      "100%|██████████| 1/1 [00:00<00:00,  1.88it/s]\n",
      "100%|██████████| 1/1 [00:00<00:00,  1.74it/s]\n",
      "100%|██████████| 1/1 [00:00<00:00,  2.15it/s]\n"
     ]
    },
    {
     "data": {
      "text/html": [
       "<div>\n",
       "<style scoped>\n",
       "    .dataframe tbody tr th:only-of-type {\n",
       "        vertical-align: middle;\n",
       "    }\n",
       "\n",
       "    .dataframe tbody tr th {\n",
       "        vertical-align: top;\n",
       "    }\n",
       "\n",
       "    .dataframe thead th {\n",
       "        text-align: right;\n",
       "    }\n",
       "</style>\n",
       "<table border=\"1\" class=\"dataframe\">\n",
       "  <thead>\n",
       "    <tr style=\"text-align: right;\">\n",
       "      <th></th>\n",
       "      <th>age</th>\n",
       "      <th>workclass</th>\n",
       "      <th>education</th>\n",
       "      <th>marital_status</th>\n",
       "      <th>occupation</th>\n",
       "      <th>race</th>\n",
       "      <th>gender</th>\n",
       "      <th>hours_per_week</th>\n",
       "      <th>zero_label</th>\n",
       "      <th>zero_rules</th>\n",
       "      <th>zero_rules_followed</th>\n",
       "      <th>zero_rule_1</th>\n",
       "      <th>zero_rule_2</th>\n",
       "      <th>zero_rule_3</th>\n",
       "      <th>zero_in_cfs</th>\n",
       "      <th>zero_in_data</th>\n",
       "      <th>zero_status</th>\n",
       "    </tr>\n",
       "  </thead>\n",
       "  <tbody>\n",
       "    <tr>\n",
       "      <th>0</th>\n",
       "      <td>45</td>\n",
       "      <td>Self-Employed</td>\n",
       "      <td>HS-grad</td>\n",
       "      <td>Married</td>\n",
       "      <td>Blue-Collar</td>\n",
       "      <td>White</td>\n",
       "      <td>Male</td>\n",
       "      <td>50</td>\n",
       "      <td>1.0</td>\n",
       "      <td>5.0</td>\n",
       "      <td>2.0</td>\n",
       "      <td>1.0</td>\n",
       "      <td>0.0</td>\n",
       "      <td>1.0</td>\n",
       "      <td>False</td>\n",
       "      <td>False</td>\n",
       "      <td>0.0</td>\n",
       "    </tr>\n",
       "    <tr>\n",
       "      <th>1</th>\n",
       "      <td>46</td>\n",
       "      <td>Private</td>\n",
       "      <td>HS-grad</td>\n",
       "      <td>Divorced</td>\n",
       "      <td>Blue-Collar</td>\n",
       "      <td>White</td>\n",
       "      <td>Male</td>\n",
       "      <td>30</td>\n",
       "      <td>1.0</td>\n",
       "      <td>3.0</td>\n",
       "      <td>3.0</td>\n",
       "      <td>1.0</td>\n",
       "      <td>1.0</td>\n",
       "      <td>1.0</td>\n",
       "      <td>False</td>\n",
       "      <td>True</td>\n",
       "      <td>0.0</td>\n",
       "    </tr>\n",
       "    <tr>\n",
       "      <th>2</th>\n",
       "      <td>49</td>\n",
       "      <td>Private</td>\n",
       "      <td>HS-grad</td>\n",
       "      <td>Widowed</td>\n",
       "      <td>Service</td>\n",
       "      <td>White</td>\n",
       "      <td>Male</td>\n",
       "      <td>40</td>\n",
       "      <td>1.0</td>\n",
       "      <td>4.0</td>\n",
       "      <td>4.0</td>\n",
       "      <td>1.0</td>\n",
       "      <td>1.0</td>\n",
       "      <td>1.0</td>\n",
       "      <td>False</td>\n",
       "      <td>True</td>\n",
       "      <td>0.0</td>\n",
       "    </tr>\n",
       "    <tr>\n",
       "      <th>3</th>\n",
       "      <td>26</td>\n",
       "      <td>Government</td>\n",
       "      <td>Bachelors</td>\n",
       "      <td>Single</td>\n",
       "      <td>Professional</td>\n",
       "      <td>Other</td>\n",
       "      <td>Female</td>\n",
       "      <td>40</td>\n",
       "      <td>1.0</td>\n",
       "      <td>4.0</td>\n",
       "      <td>3.0</td>\n",
       "      <td>1.0</td>\n",
       "      <td>1.0</td>\n",
       "      <td>0.0</td>\n",
       "      <td>False</td>\n",
       "      <td>False</td>\n",
       "      <td>0.0</td>\n",
       "    </tr>\n",
       "    <tr>\n",
       "      <th>4</th>\n",
       "      <td>45</td>\n",
       "      <td>Government</td>\n",
       "      <td>Bachelors</td>\n",
       "      <td>Divorced</td>\n",
       "      <td>Service</td>\n",
       "      <td>White</td>\n",
       "      <td>Female</td>\n",
       "      <td>40</td>\n",
       "      <td>0.0</td>\n",
       "      <td>4.0</td>\n",
       "      <td>3.0</td>\n",
       "      <td>1.0</td>\n",
       "      <td>1.0</td>\n",
       "      <td>0.0</td>\n",
       "      <td>False</td>\n",
       "      <td>False</td>\n",
       "      <td>0.0</td>\n",
       "    </tr>\n",
       "    <tr>\n",
       "      <th>5</th>\n",
       "      <td>35</td>\n",
       "      <td>Private</td>\n",
       "      <td>Some-college</td>\n",
       "      <td>Married</td>\n",
       "      <td>Blue-Collar</td>\n",
       "      <td>White</td>\n",
       "      <td>Male</td>\n",
       "      <td>60</td>\n",
       "      <td>1.0</td>\n",
       "      <td>3.0</td>\n",
       "      <td>3.0</td>\n",
       "      <td>1.0</td>\n",
       "      <td>1.0</td>\n",
       "      <td>1.0</td>\n",
       "      <td>False</td>\n",
       "      <td>False</td>\n",
       "      <td>0.0</td>\n",
       "    </tr>\n",
       "    <tr>\n",
       "      <th>6</th>\n",
       "      <td>29</td>\n",
       "      <td>Private</td>\n",
       "      <td>HS-grad</td>\n",
       "      <td>Single</td>\n",
       "      <td>Blue-Collar</td>\n",
       "      <td>Other</td>\n",
       "      <td>Male</td>\n",
       "      <td>40</td>\n",
       "      <td>1.0</td>\n",
       "      <td>3.0</td>\n",
       "      <td>3.0</td>\n",
       "      <td>1.0</td>\n",
       "      <td>1.0</td>\n",
       "      <td>1.0</td>\n",
       "      <td>False</td>\n",
       "      <td>False</td>\n",
       "      <td>0.0</td>\n",
       "    </tr>\n",
       "    <tr>\n",
       "      <th>7</th>\n",
       "      <td>40</td>\n",
       "      <td>Self-Employed</td>\n",
       "      <td>Some-college</td>\n",
       "      <td>Married</td>\n",
       "      <td>Service</td>\n",
       "      <td>White</td>\n",
       "      <td>Male</td>\n",
       "      <td>50</td>\n",
       "      <td>1.0</td>\n",
       "      <td>4.0</td>\n",
       "      <td>3.0</td>\n",
       "      <td>1.0</td>\n",
       "      <td>1.0</td>\n",
       "      <td>1.0</td>\n",
       "      <td>False</td>\n",
       "      <td>False</td>\n",
       "      <td>0.0</td>\n",
       "    </tr>\n",
       "    <tr>\n",
       "      <th>8</th>\n",
       "      <td>28</td>\n",
       "      <td>Other/Unknown</td>\n",
       "      <td>HS-grad</td>\n",
       "      <td>Married</td>\n",
       "      <td>Other/Unknown</td>\n",
       "      <td>White</td>\n",
       "      <td>Female</td>\n",
       "      <td>20</td>\n",
       "      <td>1.0</td>\n",
       "      <td>4.0</td>\n",
       "      <td>4.0</td>\n",
       "      <td>1.0</td>\n",
       "      <td>1.0</td>\n",
       "      <td>1.0</td>\n",
       "      <td>False</td>\n",
       "      <td>True</td>\n",
       "      <td>0.0</td>\n",
       "    </tr>\n",
       "    <tr>\n",
       "      <th>9</th>\n",
       "      <td>20</td>\n",
       "      <td>Private</td>\n",
       "      <td>Some-college</td>\n",
       "      <td>Single</td>\n",
       "      <td>Service</td>\n",
       "      <td>White</td>\n",
       "      <td>Female</td>\n",
       "      <td>40</td>\n",
       "      <td>1.0</td>\n",
       "      <td>3.0</td>\n",
       "      <td>2.0</td>\n",
       "      <td>1.0</td>\n",
       "      <td>1.0</td>\n",
       "      <td>0.0</td>\n",
       "      <td>False</td>\n",
       "      <td>False</td>\n",
       "      <td>0.0</td>\n",
       "    </tr>\n",
       "  </tbody>\n",
       "</table>\n",
       "</div>"
      ],
      "text/plain": [
       "   age      workclass     education marital_status     occupation   race  \\\n",
       "0   45  Self-Employed       HS-grad        Married    Blue-Collar  White   \n",
       "1   46        Private       HS-grad       Divorced    Blue-Collar  White   \n",
       "2   49        Private       HS-grad        Widowed        Service  White   \n",
       "3   26     Government     Bachelors         Single   Professional  Other   \n",
       "4   45     Government     Bachelors       Divorced        Service  White   \n",
       "5   35        Private  Some-college        Married    Blue-Collar  White   \n",
       "6   29        Private       HS-grad         Single    Blue-Collar  Other   \n",
       "7   40  Self-Employed  Some-college        Married        Service  White   \n",
       "8   28  Other/Unknown       HS-grad        Married  Other/Unknown  White   \n",
       "9   20        Private  Some-college         Single        Service  White   \n",
       "\n",
       "   gender  hours_per_week  zero_label  zero_rules  zero_rules_followed  \\\n",
       "0    Male              50         1.0         5.0                  2.0   \n",
       "1    Male              30         1.0         3.0                  3.0   \n",
       "2    Male              40         1.0         4.0                  4.0   \n",
       "3  Female              40         1.0         4.0                  3.0   \n",
       "4  Female              40         0.0         4.0                  3.0   \n",
       "5    Male              60         1.0         3.0                  3.0   \n",
       "6    Male              40         1.0         3.0                  3.0   \n",
       "7    Male              50         1.0         4.0                  3.0   \n",
       "8  Female              20         1.0         4.0                  4.0   \n",
       "9  Female              40         1.0         3.0                  2.0   \n",
       "\n",
       "   zero_rule_1  zero_rule_2  zero_rule_3 zero_in_cfs zero_in_data  zero_status  \n",
       "0          1.0          0.0          1.0       False        False          0.0  \n",
       "1          1.0          1.0          1.0       False         True          0.0  \n",
       "2          1.0          1.0          1.0       False         True          0.0  \n",
       "3          1.0          1.0          0.0       False        False          0.0  \n",
       "4          1.0          1.0          0.0       False        False          0.0  \n",
       "5          1.0          1.0          1.0       False        False          0.0  \n",
       "6          1.0          1.0          1.0       False        False          0.0  \n",
       "7          1.0          1.0          1.0       False        False          0.0  \n",
       "8          1.0          1.0          1.0       False         True          0.0  \n",
       "9          1.0          1.0          0.0       False        False          0.0  "
      ]
     },
     "execution_count": 18,
     "metadata": {},
     "output_type": "execute_result"
    }
   ],
   "source": [
    "test10 = pd.read_csv('test10.csv')\n",
    "model_description = \"\"\"ML-system that predicts wether a person will earn more than 50k $ a year\"\"\"\n",
    "prompts = ['zero']\n",
    "for prompt in prompts:\n",
    "    print(prompt)\n",
    "    exp_m = ExplanationMachine2(model, model_description, string_info(dataset.columns,adult_info), train_dataset, test_dataset,prompt,3)\n",
    "    exp_m.fit()\n",
    "    for i in range(test10.shape[0]):\n",
    "        try:\n",
    "            example_label, n_rules, rules_followed, first_rule, second_rule,third_rule,in_cfs, in_dataset = exp_m.explain_evaluate(example = test.iloc[[i]], verbose = False)\n",
    "            os.rename('temp_csv.csv', f'ex_zero_3fcs_{i}.csv')\n",
    "            os.rename('evaluation.csv', f'eval_zero_3fcs_{i}.csv')\n",
    "            test10.loc[i, prompt + '_label'] = example_label\n",
    "            test10.loc[i, prompt + '_rules'] = n_rules\n",
    "            test10.loc[i, prompt + '_rules_followed'] = rules_followed\n",
    "            test10.loc[i, prompt + '_rule_1'] = first_rule\n",
    "            test10.loc[i, prompt + '_rule_2'] = second_rule\n",
    "            \n",
    "            test10.loc[i, prompt + '_rule_3'] = third_rule\n",
    "            test10.loc[i, prompt + '_in_cfs'] = in_cfs\n",
    "            test10.loc[i, prompt + '_in_data'] = in_dataset\n",
    "            test10.loc[i, prompt + '_status'] = 0\n",
    "        except Exception as e:\n",
    "            test10.loc[i, prompt + '_status'] = 1\n",
    "test10"
   ]
  },
  {
   "cell_type": "code",
   "execution_count": 19,
   "metadata": {},
   "outputs": [
    {
     "data": {
      "text/plain": [
       "[0.9, 3.7, 0.8316666666666667, 0.3, 1.0, 0.9, 0.7, 0.0]"
      ]
     },
     "execution_count": 19,
     "metadata": {},
     "output_type": "execute_result"
    }
   ],
   "source": [
    "get_metrics(test10,'zero')"
   ]
  },
  {
   "cell_type": "code",
   "execution_count": 12,
   "metadata": {},
   "outputs": [
    {
     "name": "stdout",
     "output_type": "stream",
     "text": [
      "zero\n"
     ]
    },
    {
     "name": "stderr",
     "output_type": "stream",
     "text": [
      "100%|██████████| 1/1 [00:00<00:00,  2.94it/s]\n",
      "100%|██████████| 1/1 [00:00<00:00,  2.87it/s]\n",
      "100%|██████████| 1/1 [00:00<00:00,  2.75it/s]\n",
      "100%|██████████| 1/1 [00:00<00:00,  2.58it/s]\n",
      "100%|██████████| 1/1 [00:00<00:00,  3.12it/s]\n",
      "100%|██████████| 1/1 [00:00<00:00,  2.66it/s]\n",
      "100%|██████████| 1/1 [00:00<00:00,  2.67it/s]\n",
      "100%|██████████| 1/1 [00:00<00:00,  2.74it/s]\n",
      "100%|██████████| 1/1 [00:00<00:00,  2.65it/s]\n",
      "100%|██████████| 1/1 [00:00<00:00,  2.51it/s]\n"
     ]
    },
    {
     "data": {
      "text/html": [
       "<div>\n",
       "<style scoped>\n",
       "    .dataframe tbody tr th:only-of-type {\n",
       "        vertical-align: middle;\n",
       "    }\n",
       "\n",
       "    .dataframe tbody tr th {\n",
       "        vertical-align: top;\n",
       "    }\n",
       "\n",
       "    .dataframe thead th {\n",
       "        text-align: right;\n",
       "    }\n",
       "</style>\n",
       "<table border=\"1\" class=\"dataframe\">\n",
       "  <thead>\n",
       "    <tr style=\"text-align: right;\">\n",
       "      <th></th>\n",
       "      <th>age</th>\n",
       "      <th>workclass</th>\n",
       "      <th>education</th>\n",
       "      <th>marital_status</th>\n",
       "      <th>occupation</th>\n",
       "      <th>race</th>\n",
       "      <th>gender</th>\n",
       "      <th>hours_per_week</th>\n",
       "      <th>zero_status</th>\n",
       "      <th>zero_label</th>\n",
       "      <th>zero_rules</th>\n",
       "      <th>zero_rules_followed</th>\n",
       "      <th>zero_rule_1</th>\n",
       "      <th>zero_rule_2</th>\n",
       "      <th>zero_rule_3</th>\n",
       "      <th>zero_in_cfs</th>\n",
       "      <th>zero_in_data</th>\n",
       "    </tr>\n",
       "  </thead>\n",
       "  <tbody>\n",
       "    <tr>\n",
       "      <th>0</th>\n",
       "      <td>45</td>\n",
       "      <td>Self-Employed</td>\n",
       "      <td>HS-grad</td>\n",
       "      <td>Married</td>\n",
       "      <td>Blue-Collar</td>\n",
       "      <td>White</td>\n",
       "      <td>Male</td>\n",
       "      <td>50</td>\n",
       "      <td>1.0</td>\n",
       "      <td>NaN</td>\n",
       "      <td>NaN</td>\n",
       "      <td>NaN</td>\n",
       "      <td>NaN</td>\n",
       "      <td>NaN</td>\n",
       "      <td>NaN</td>\n",
       "      <td>NaN</td>\n",
       "      <td>NaN</td>\n",
       "    </tr>\n",
       "    <tr>\n",
       "      <th>1</th>\n",
       "      <td>46</td>\n",
       "      <td>Private</td>\n",
       "      <td>HS-grad</td>\n",
       "      <td>Divorced</td>\n",
       "      <td>Blue-Collar</td>\n",
       "      <td>White</td>\n",
       "      <td>Male</td>\n",
       "      <td>30</td>\n",
       "      <td>0.0</td>\n",
       "      <td>1.0</td>\n",
       "      <td>7.0</td>\n",
       "      <td>3.0</td>\n",
       "      <td>1.0</td>\n",
       "      <td>0.0</td>\n",
       "      <td>1.0</td>\n",
       "      <td>False</td>\n",
       "      <td>True</td>\n",
       "    </tr>\n",
       "    <tr>\n",
       "      <th>2</th>\n",
       "      <td>49</td>\n",
       "      <td>Private</td>\n",
       "      <td>HS-grad</td>\n",
       "      <td>Widowed</td>\n",
       "      <td>Service</td>\n",
       "      <td>White</td>\n",
       "      <td>Male</td>\n",
       "      <td>40</td>\n",
       "      <td>0.0</td>\n",
       "      <td>1.0</td>\n",
       "      <td>4.0</td>\n",
       "      <td>2.0</td>\n",
       "      <td>1.0</td>\n",
       "      <td>1.0</td>\n",
       "      <td>0.0</td>\n",
       "      <td>True</td>\n",
       "      <td>False</td>\n",
       "    </tr>\n",
       "    <tr>\n",
       "      <th>3</th>\n",
       "      <td>26</td>\n",
       "      <td>Government</td>\n",
       "      <td>Bachelors</td>\n",
       "      <td>Single</td>\n",
       "      <td>Professional</td>\n",
       "      <td>Other</td>\n",
       "      <td>Female</td>\n",
       "      <td>40</td>\n",
       "      <td>1.0</td>\n",
       "      <td>NaN</td>\n",
       "      <td>NaN</td>\n",
       "      <td>NaN</td>\n",
       "      <td>NaN</td>\n",
       "      <td>NaN</td>\n",
       "      <td>NaN</td>\n",
       "      <td>NaN</td>\n",
       "      <td>NaN</td>\n",
       "    </tr>\n",
       "    <tr>\n",
       "      <th>4</th>\n",
       "      <td>45</td>\n",
       "      <td>Government</td>\n",
       "      <td>Bachelors</td>\n",
       "      <td>Divorced</td>\n",
       "      <td>Service</td>\n",
       "      <td>White</td>\n",
       "      <td>Female</td>\n",
       "      <td>40</td>\n",
       "      <td>0.0</td>\n",
       "      <td>1.0</td>\n",
       "      <td>4.0</td>\n",
       "      <td>4.0</td>\n",
       "      <td>1.0</td>\n",
       "      <td>1.0</td>\n",
       "      <td>1.0</td>\n",
       "      <td>True</td>\n",
       "      <td>False</td>\n",
       "    </tr>\n",
       "    <tr>\n",
       "      <th>5</th>\n",
       "      <td>35</td>\n",
       "      <td>Private</td>\n",
       "      <td>Some-college</td>\n",
       "      <td>Married</td>\n",
       "      <td>Blue-Collar</td>\n",
       "      <td>White</td>\n",
       "      <td>Male</td>\n",
       "      <td>60</td>\n",
       "      <td>0.0</td>\n",
       "      <td>1.0</td>\n",
       "      <td>4.0</td>\n",
       "      <td>2.0</td>\n",
       "      <td>0.0</td>\n",
       "      <td>1.0</td>\n",
       "      <td>1.0</td>\n",
       "      <td>False</td>\n",
       "      <td>True</td>\n",
       "    </tr>\n",
       "    <tr>\n",
       "      <th>6</th>\n",
       "      <td>29</td>\n",
       "      <td>Private</td>\n",
       "      <td>HS-grad</td>\n",
       "      <td>Single</td>\n",
       "      <td>Blue-Collar</td>\n",
       "      <td>Other</td>\n",
       "      <td>Male</td>\n",
       "      <td>40</td>\n",
       "      <td>1.0</td>\n",
       "      <td>NaN</td>\n",
       "      <td>NaN</td>\n",
       "      <td>NaN</td>\n",
       "      <td>NaN</td>\n",
       "      <td>NaN</td>\n",
       "      <td>NaN</td>\n",
       "      <td>NaN</td>\n",
       "      <td>NaN</td>\n",
       "    </tr>\n",
       "    <tr>\n",
       "      <th>7</th>\n",
       "      <td>40</td>\n",
       "      <td>Self-Employed</td>\n",
       "      <td>Some-college</td>\n",
       "      <td>Married</td>\n",
       "      <td>Service</td>\n",
       "      <td>White</td>\n",
       "      <td>Male</td>\n",
       "      <td>50</td>\n",
       "      <td>1.0</td>\n",
       "      <td>NaN</td>\n",
       "      <td>NaN</td>\n",
       "      <td>NaN</td>\n",
       "      <td>NaN</td>\n",
       "      <td>NaN</td>\n",
       "      <td>NaN</td>\n",
       "      <td>NaN</td>\n",
       "      <td>NaN</td>\n",
       "    </tr>\n",
       "    <tr>\n",
       "      <th>8</th>\n",
       "      <td>28</td>\n",
       "      <td>Other/Unknown</td>\n",
       "      <td>HS-grad</td>\n",
       "      <td>Married</td>\n",
       "      <td>Other/Unknown</td>\n",
       "      <td>White</td>\n",
       "      <td>Female</td>\n",
       "      <td>20</td>\n",
       "      <td>1.0</td>\n",
       "      <td>NaN</td>\n",
       "      <td>NaN</td>\n",
       "      <td>NaN</td>\n",
       "      <td>NaN</td>\n",
       "      <td>NaN</td>\n",
       "      <td>NaN</td>\n",
       "      <td>NaN</td>\n",
       "      <td>NaN</td>\n",
       "    </tr>\n",
       "    <tr>\n",
       "      <th>9</th>\n",
       "      <td>20</td>\n",
       "      <td>Private</td>\n",
       "      <td>Some-college</td>\n",
       "      <td>Single</td>\n",
       "      <td>Service</td>\n",
       "      <td>White</td>\n",
       "      <td>Female</td>\n",
       "      <td>40</td>\n",
       "      <td>1.0</td>\n",
       "      <td>NaN</td>\n",
       "      <td>NaN</td>\n",
       "      <td>NaN</td>\n",
       "      <td>NaN</td>\n",
       "      <td>NaN</td>\n",
       "      <td>NaN</td>\n",
       "      <td>NaN</td>\n",
       "      <td>NaN</td>\n",
       "    </tr>\n",
       "  </tbody>\n",
       "</table>\n",
       "</div>"
      ],
      "text/plain": [
       "   age      workclass     education marital_status     occupation   race  \\\n",
       "0   45  Self-Employed       HS-grad        Married    Blue-Collar  White   \n",
       "1   46        Private       HS-grad       Divorced    Blue-Collar  White   \n",
       "2   49        Private       HS-grad        Widowed        Service  White   \n",
       "3   26     Government     Bachelors         Single   Professional  Other   \n",
       "4   45     Government     Bachelors       Divorced        Service  White   \n",
       "5   35        Private  Some-college        Married    Blue-Collar  White   \n",
       "6   29        Private       HS-grad         Single    Blue-Collar  Other   \n",
       "7   40  Self-Employed  Some-college        Married        Service  White   \n",
       "8   28  Other/Unknown       HS-grad        Married  Other/Unknown  White   \n",
       "9   20        Private  Some-college         Single        Service  White   \n",
       "\n",
       "   gender  hours_per_week  zero_status  zero_label  zero_rules  \\\n",
       "0    Male              50          1.0         NaN         NaN   \n",
       "1    Male              30          0.0         1.0         7.0   \n",
       "2    Male              40          0.0         1.0         4.0   \n",
       "3  Female              40          1.0         NaN         NaN   \n",
       "4  Female              40          0.0         1.0         4.0   \n",
       "5    Male              60          0.0         1.0         4.0   \n",
       "6    Male              40          1.0         NaN         NaN   \n",
       "7    Male              50          1.0         NaN         NaN   \n",
       "8  Female              20          1.0         NaN         NaN   \n",
       "9  Female              40          1.0         NaN         NaN   \n",
       "\n",
       "   zero_rules_followed  zero_rule_1  zero_rule_2  zero_rule_3 zero_in_cfs  \\\n",
       "0                  NaN          NaN          NaN          NaN         NaN   \n",
       "1                  3.0          1.0          0.0          1.0       False   \n",
       "2                  2.0          1.0          1.0          0.0        True   \n",
       "3                  NaN          NaN          NaN          NaN         NaN   \n",
       "4                  4.0          1.0          1.0          1.0        True   \n",
       "5                  2.0          0.0          1.0          1.0       False   \n",
       "6                  NaN          NaN          NaN          NaN         NaN   \n",
       "7                  NaN          NaN          NaN          NaN         NaN   \n",
       "8                  NaN          NaN          NaN          NaN         NaN   \n",
       "9                  NaN          NaN          NaN          NaN         NaN   \n",
       "\n",
       "  zero_in_data  \n",
       "0          NaN  \n",
       "1         True  \n",
       "2        False  \n",
       "3          NaN  \n",
       "4        False  \n",
       "5         True  \n",
       "6          NaN  \n",
       "7          NaN  \n",
       "8          NaN  \n",
       "9          NaN  "
      ]
     },
     "execution_count": 12,
     "metadata": {},
     "output_type": "execute_result"
    }
   ],
   "source": [
    "test10 = pd.read_csv('test10.csv')\n",
    "model_description = \"\"\"ML-system that predicts wether a person will earn more than 50k $ a year\"\"\"\n",
    "prompts = ['zero']\n",
    "for prompt in prompts:\n",
    "    print(prompt)\n",
    "    exp_m = ExplanationMachine2(model, model_description, string_info(dataset.columns,adult_info), train_dataset, test_dataset,prompt,1)\n",
    "    exp_m.fit()\n",
    "    for i in range(test10.shape[0]):\n",
    "        try:\n",
    "            example_label, n_rules, rules_followed, first_rule, second_rule,third_rule,in_cfs, in_dataset = exp_m.explain_evaluate(example = test.iloc[[i]], verbose = False)\n",
    "            os.rename('temp_csv.csv', f'ex_zero_1fcs_{i}.csv')\n",
    "            os.rename('evaluation.csv', f'eval_zero_1fcs_{i}.csv')\n",
    "            test10.loc[i, prompt + '_label'] = example_label\n",
    "            test10.loc[i, prompt + '_rules'] = n_rules\n",
    "            test10.loc[i, prompt + '_rules_followed'] = rules_followed\n",
    "            test10.loc[i, prompt + '_rule_1'] = first_rule\n",
    "            test10.loc[i, prompt + '_rule_2'] = second_rule\n",
    "            \n",
    "            test10.loc[i, prompt + '_rule_3'] = third_rule\n",
    "            test10.loc[i, prompt + '_in_cfs'] = in_cfs\n",
    "            test10.loc[i, prompt + '_in_data'] = in_dataset\n",
    "            test10.loc[i, prompt + '_status'] = 0\n",
    "        except Exception as e:\n",
    "            test10.loc[i, prompt + '_status'] = 1\n",
    "test10"
   ]
  },
  {
   "cell_type": "code",
   "execution_count": 15,
   "metadata": {},
   "outputs": [
    {
     "data": {
      "text/plain": [
       "[1.0, 4.75, 0.6071428571428572, 0.5, 0.75, 0.75, 0.75, 0.6]"
      ]
     },
     "execution_count": 15,
     "metadata": {},
     "output_type": "execute_result"
    }
   ],
   "source": [
    "get_metrics(test10,'zero')"
   ]
  },
  {
   "cell_type": "code",
   "execution_count": 8,
   "metadata": {},
   "outputs": [
    {
     "name": "stdout",
     "output_type": "stream",
     "text": [
      "one\n"
     ]
    },
    {
     "name": "stderr",
     "output_type": "stream",
     "text": [
      "100%|██████████| 1/1 [00:00<00:00,  4.30it/s]\n",
      "100%|██████████| 1/1 [00:00<00:00,  4.75it/s]\n",
      "100%|██████████| 1/1 [00:00<00:00,  4.59it/s]\n"
     ]
    },
    {
     "data": {
      "text/html": [
       "<div>\n",
       "<style scoped>\n",
       "    .dataframe tbody tr th:only-of-type {\n",
       "        vertical-align: middle;\n",
       "    }\n",
       "\n",
       "    .dataframe tbody tr th {\n",
       "        vertical-align: top;\n",
       "    }\n",
       "\n",
       "    .dataframe thead th {\n",
       "        text-align: right;\n",
       "    }\n",
       "</style>\n",
       "<table border=\"1\" class=\"dataframe\">\n",
       "  <thead>\n",
       "    <tr style=\"text-align: right;\">\n",
       "      <th></th>\n",
       "      <th>age</th>\n",
       "      <th>workclass</th>\n",
       "      <th>education</th>\n",
       "      <th>marital_status</th>\n",
       "      <th>occupation</th>\n",
       "      <th>race</th>\n",
       "      <th>gender</th>\n",
       "      <th>hours_per_week</th>\n",
       "      <th>one_label</th>\n",
       "      <th>one_rules</th>\n",
       "      <th>one_rules_followed</th>\n",
       "      <th>one_rule_1</th>\n",
       "      <th>one_rule_2</th>\n",
       "      <th>one_rule_3</th>\n",
       "      <th>one_in_data</th>\n",
       "      <th>one_status</th>\n",
       "    </tr>\n",
       "  </thead>\n",
       "  <tbody>\n",
       "    <tr>\n",
       "      <th>0</th>\n",
       "      <td>45</td>\n",
       "      <td>Self-Employed</td>\n",
       "      <td>HS-grad</td>\n",
       "      <td>Married</td>\n",
       "      <td>Blue-Collar</td>\n",
       "      <td>White</td>\n",
       "      <td>Male</td>\n",
       "      <td>50</td>\n",
       "      <td>1.0</td>\n",
       "      <td>3.0</td>\n",
       "      <td>2.0</td>\n",
       "      <td>1.0</td>\n",
       "      <td>1.0</td>\n",
       "      <td>0.0</td>\n",
       "      <td>False</td>\n",
       "      <td>0.0</td>\n",
       "    </tr>\n",
       "    <tr>\n",
       "      <th>1</th>\n",
       "      <td>46</td>\n",
       "      <td>Private</td>\n",
       "      <td>HS-grad</td>\n",
       "      <td>Divorced</td>\n",
       "      <td>Blue-Collar</td>\n",
       "      <td>White</td>\n",
       "      <td>Male</td>\n",
       "      <td>30</td>\n",
       "      <td>NaN</td>\n",
       "      <td>NaN</td>\n",
       "      <td>NaN</td>\n",
       "      <td>NaN</td>\n",
       "      <td>NaN</td>\n",
       "      <td>NaN</td>\n",
       "      <td>NaN</td>\n",
       "      <td>NaN</td>\n",
       "    </tr>\n",
       "    <tr>\n",
       "      <th>2</th>\n",
       "      <td>49</td>\n",
       "      <td>Private</td>\n",
       "      <td>HS-grad</td>\n",
       "      <td>Widowed</td>\n",
       "      <td>Service</td>\n",
       "      <td>White</td>\n",
       "      <td>Male</td>\n",
       "      <td>40</td>\n",
       "      <td>NaN</td>\n",
       "      <td>NaN</td>\n",
       "      <td>NaN</td>\n",
       "      <td>NaN</td>\n",
       "      <td>NaN</td>\n",
       "      <td>NaN</td>\n",
       "      <td>NaN</td>\n",
       "      <td>NaN</td>\n",
       "    </tr>\n",
       "    <tr>\n",
       "      <th>3</th>\n",
       "      <td>26</td>\n",
       "      <td>Government</td>\n",
       "      <td>Bachelors</td>\n",
       "      <td>Single</td>\n",
       "      <td>Professional</td>\n",
       "      <td>Other</td>\n",
       "      <td>Female</td>\n",
       "      <td>40</td>\n",
       "      <td>NaN</td>\n",
       "      <td>NaN</td>\n",
       "      <td>NaN</td>\n",
       "      <td>NaN</td>\n",
       "      <td>NaN</td>\n",
       "      <td>NaN</td>\n",
       "      <td>NaN</td>\n",
       "      <td>NaN</td>\n",
       "    </tr>\n",
       "    <tr>\n",
       "      <th>4</th>\n",
       "      <td>45</td>\n",
       "      <td>Government</td>\n",
       "      <td>Bachelors</td>\n",
       "      <td>Divorced</td>\n",
       "      <td>Service</td>\n",
       "      <td>White</td>\n",
       "      <td>Female</td>\n",
       "      <td>40</td>\n",
       "      <td>NaN</td>\n",
       "      <td>NaN</td>\n",
       "      <td>NaN</td>\n",
       "      <td>NaN</td>\n",
       "      <td>NaN</td>\n",
       "      <td>NaN</td>\n",
       "      <td>NaN</td>\n",
       "      <td>NaN</td>\n",
       "    </tr>\n",
       "    <tr>\n",
       "      <th>5</th>\n",
       "      <td>35</td>\n",
       "      <td>Private</td>\n",
       "      <td>Some-college</td>\n",
       "      <td>Married</td>\n",
       "      <td>Blue-Collar</td>\n",
       "      <td>White</td>\n",
       "      <td>Male</td>\n",
       "      <td>60</td>\n",
       "      <td>NaN</td>\n",
       "      <td>NaN</td>\n",
       "      <td>NaN</td>\n",
       "      <td>NaN</td>\n",
       "      <td>NaN</td>\n",
       "      <td>NaN</td>\n",
       "      <td>NaN</td>\n",
       "      <td>NaN</td>\n",
       "    </tr>\n",
       "    <tr>\n",
       "      <th>6</th>\n",
       "      <td>29</td>\n",
       "      <td>Private</td>\n",
       "      <td>HS-grad</td>\n",
       "      <td>Single</td>\n",
       "      <td>Blue-Collar</td>\n",
       "      <td>Other</td>\n",
       "      <td>Male</td>\n",
       "      <td>40</td>\n",
       "      <td>NaN</td>\n",
       "      <td>NaN</td>\n",
       "      <td>NaN</td>\n",
       "      <td>NaN</td>\n",
       "      <td>NaN</td>\n",
       "      <td>NaN</td>\n",
       "      <td>NaN</td>\n",
       "      <td>NaN</td>\n",
       "    </tr>\n",
       "    <tr>\n",
       "      <th>7</th>\n",
       "      <td>40</td>\n",
       "      <td>Self-Employed</td>\n",
       "      <td>Some-college</td>\n",
       "      <td>Married</td>\n",
       "      <td>Service</td>\n",
       "      <td>White</td>\n",
       "      <td>Male</td>\n",
       "      <td>50</td>\n",
       "      <td>NaN</td>\n",
       "      <td>NaN</td>\n",
       "      <td>NaN</td>\n",
       "      <td>NaN</td>\n",
       "      <td>NaN</td>\n",
       "      <td>NaN</td>\n",
       "      <td>NaN</td>\n",
       "      <td>NaN</td>\n",
       "    </tr>\n",
       "    <tr>\n",
       "      <th>8</th>\n",
       "      <td>28</td>\n",
       "      <td>Other/Unknown</td>\n",
       "      <td>HS-grad</td>\n",
       "      <td>Married</td>\n",
       "      <td>Other/Unknown</td>\n",
       "      <td>White</td>\n",
       "      <td>Female</td>\n",
       "      <td>20</td>\n",
       "      <td>NaN</td>\n",
       "      <td>NaN</td>\n",
       "      <td>NaN</td>\n",
       "      <td>NaN</td>\n",
       "      <td>NaN</td>\n",
       "      <td>NaN</td>\n",
       "      <td>NaN</td>\n",
       "      <td>NaN</td>\n",
       "    </tr>\n",
       "    <tr>\n",
       "      <th>9</th>\n",
       "      <td>20</td>\n",
       "      <td>Private</td>\n",
       "      <td>Some-college</td>\n",
       "      <td>Single</td>\n",
       "      <td>Service</td>\n",
       "      <td>White</td>\n",
       "      <td>Female</td>\n",
       "      <td>40</td>\n",
       "      <td>NaN</td>\n",
       "      <td>NaN</td>\n",
       "      <td>NaN</td>\n",
       "      <td>NaN</td>\n",
       "      <td>NaN</td>\n",
       "      <td>NaN</td>\n",
       "      <td>NaN</td>\n",
       "      <td>NaN</td>\n",
       "    </tr>\n",
       "  </tbody>\n",
       "</table>\n",
       "</div>"
      ],
      "text/plain": [
       "   age      workclass     education marital_status     occupation   race  \\\n",
       "0   45  Self-Employed       HS-grad        Married    Blue-Collar  White   \n",
       "1   46        Private       HS-grad       Divorced    Blue-Collar  White   \n",
       "2   49        Private       HS-grad        Widowed        Service  White   \n",
       "3   26     Government     Bachelors         Single   Professional  Other   \n",
       "4   45     Government     Bachelors       Divorced        Service  White   \n",
       "5   35        Private  Some-college        Married    Blue-Collar  White   \n",
       "6   29        Private       HS-grad         Single    Blue-Collar  Other   \n",
       "7   40  Self-Employed  Some-college        Married        Service  White   \n",
       "8   28  Other/Unknown       HS-grad        Married  Other/Unknown  White   \n",
       "9   20        Private  Some-college         Single        Service  White   \n",
       "\n",
       "   gender  hours_per_week  one_label  one_rules  one_rules_followed  \\\n",
       "0    Male              50        1.0        3.0                 2.0   \n",
       "1    Male              30        NaN        NaN                 NaN   \n",
       "2    Male              40        NaN        NaN                 NaN   \n",
       "3  Female              40        NaN        NaN                 NaN   \n",
       "4  Female              40        NaN        NaN                 NaN   \n",
       "5    Male              60        NaN        NaN                 NaN   \n",
       "6    Male              40        NaN        NaN                 NaN   \n",
       "7    Male              50        NaN        NaN                 NaN   \n",
       "8  Female              20        NaN        NaN                 NaN   \n",
       "9  Female              40        NaN        NaN                 NaN   \n",
       "\n",
       "   one_rule_1  one_rule_2  one_rule_3 one_in_data  one_status  \n",
       "0         1.0         1.0         0.0       False         0.0  \n",
       "1         NaN         NaN         NaN         NaN         NaN  \n",
       "2         NaN         NaN         NaN         NaN         NaN  \n",
       "3         NaN         NaN         NaN         NaN         NaN  \n",
       "4         NaN         NaN         NaN         NaN         NaN  \n",
       "5         NaN         NaN         NaN         NaN         NaN  \n",
       "6         NaN         NaN         NaN         NaN         NaN  \n",
       "7         NaN         NaN         NaN         NaN         NaN  \n",
       "8         NaN         NaN         NaN         NaN         NaN  \n",
       "9         NaN         NaN         NaN         NaN         NaN  "
      ]
     },
     "execution_count": 8,
     "metadata": {},
     "output_type": "execute_result"
    }
   ],
   "source": [
    "test10 = pd.read_csv('test10.csv')\n",
    "model_description = \"\"\"ML-system that predicts wether a person will earn more than 50k $ a year\"\"\"\n",
    "prompts = ['one']\n",
    "for prompt in prompts:\n",
    "    print(prompt)\n",
    "    exp_m = ToTExplanationMachine(model, model_description, string_info(dataset.columns,adult_info), train_dataset, test_dataset,prompt,5, 3 )\n",
    "    exp_m.fit()\n",
    "    for i in range(test10.shape[0]):\n",
    "        try:\n",
    "            example_label, n_rules, rules_followed, first_rule, second_rule, third_rule, in_dataset = exp_m.explain_evaluate(user_data = test.iloc[[i]], verbose = False)\n",
    "            os.rename('temp_csv.csv', f'ex_5fcs_{i}.csv')\n",
    "            os.rename('evaluation.csv', f'eval_5fcs_{i}.csv')            \n",
    "            test10.loc[i, prompt + '_label'] = example_label\n",
    "            test10.loc[i, prompt + '_rules'] = n_rules\n",
    "            test10.loc[i, prompt + '_rules_followed'] = rules_followed\n",
    "            test10.loc[i, prompt + '_rule_1'] = first_rule\n",
    "            test10.loc[i, prompt + '_rule_2'] = second_rule\n",
    "            test10.loc[i, prompt + '_rule_3'] = third_rule\n",
    "            #test10.loc[i, prompt + '_in_cfs'] = in_cfs\n",
    "            test10.loc[i, prompt + '_in_data'] = in_dataset\n",
    "            test10.loc[i, prompt + '_status'] = 0\n",
    "            break\n",
    "        except Exception as e:\n",
    "            test10.loc[i, prompt + '_status'] = 1\n",
    "            print(e)\n",
    "test10\n"
   ]
  },
  {
   "cell_type": "code",
   "execution_count": null,
   "metadata": {},
   "outputs": [],
   "source": []
  }
 ],
 "metadata": {
  "kernelspec": {
   "display_name": "LLMproj",
   "language": "python",
   "name": "python3"
  },
  "language_info": {
   "codemirror_mode": {
    "name": "ipython",
    "version": 3
   },
   "file_extension": ".py",
   "mimetype": "text/x-python",
   "name": "python",
   "nbconvert_exporter": "python",
   "pygments_lexer": "ipython3",
   "version": "3.10.14"
  }
 },
 "nbformat": 4,
 "nbformat_minor": 2
}
